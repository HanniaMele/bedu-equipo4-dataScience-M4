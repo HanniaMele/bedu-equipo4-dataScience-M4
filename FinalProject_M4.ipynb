{
  "cells": [
    {
      "cell_type": "markdown",
      "metadata": {
        "id": "dgEQwSosKe0f"
      },
      "source": [
        "#Proyecto Final Fase 3 Módulo 4 BEDU\n",
        "\n",
        "##Análisis de datos con Python - Equipo 4\n",
        "\n",
        "###Integrantes: \n",
        "- Juan Manuel Ledesma Rangel\n",
        "- Hannia Melendres Samaniego\n",
        "- Alejandro Cortéz Sánchez\n",
        "- Martín Otamendi Torres\n"
      ]
    },
    {
      "cell_type": "markdown",
      "source": [
        "---\n",
        "##A. [Previo] Procesamiento de datos [MODIFICAR]"
      ],
      "metadata": {
        "id": "mBDxoUOGn-7f"
      }
    },
    {
      "cell_type": "markdown",
      "metadata": {
        "id": "m2KGyGRsFYZL"
      },
      "source": [
        "###A.1 Problema: [MODIFICAR]\n",
        "> _x_\n",
        "\n",
        "###A.2 Fundamento teórico del proyecto: [MODIFICAR]\n",
        "> Se puede encontrar en orden en el siguiente documento de Google: _x_\n",
        "\n",
        "###A.3 Planteamiento de preguntas [MODIFICAR]\n",
        "Tras realizar la investigación preliminar, surgieron las siguientes preguntas (también encontradas dentro del documento comentado con anterioridad):\n",
        "\n",
        "1.   _x_\n",
        "2.   _x_\n",
        "3.   _x_\n",
        "4.   _x_\n",
        "5.   _x_"
      ]
    },
    {
      "cell_type": "markdown",
      "source": [
        "### A.4 Colección de datos/AED/Limpieza\n",
        "\n",
        "Para el análisis, utilizaremos los dataset (en formato .csv)...\n",
        "\n",
        ">\"credit_card_approvals_clean.csv\"\n",
        "\n",
        "obtenido desde https://www.kaggle.com/datasets/samuelcortinhas/credit-card-approval-clean-data?select=crx.csv, y encontrado en nuestro repositorio."
      ],
      "metadata": {
        "id": "_moo4ogY9juI"
      }
    },
    {
      "cell_type": "markdown",
      "source": [
        "####A.4.1 Importación y AED"
      ],
      "metadata": {
        "id": "SPlDmPdGGHVh"
      }
    },
    {
      "cell_type": "markdown",
      "source": [
        "Realizamos un análisis exploratorio de datos para conocerlos."
      ],
      "metadata": {
        "id": "KySagbwRZ8pR"
      }
    },
    {
      "cell_type": "code",
      "source": [
        "import pandas as pd\n",
        "import numpy as np\n",
        "\n",
        "df = pd.read_csv(\"https://raw.githubusercontent.com/HanniaMele/bedu-equipo4-dataScience-M4/main/raw_data/credit_card_approvals_clean.csv\")\n",
        "\n",
        "df.head()"
      ],
      "metadata": {
        "colab": {
          "base_uri": "https://localhost:8080/",
          "height": 270
        },
        "id": "7XLe2px1mubY",
        "outputId": "79b421de-49e5-47a4-d5d0-891e0f76d59e"
      },
      "execution_count": 19,
      "outputs": [
        {
          "output_type": "execute_result",
          "data": {
            "text/plain": [
              "   Gender    Age   Debt  Married  BankCustomer     Industry Ethnicity  \\\n",
              "0       1  30.83  0.000        1             1  Industrials     White   \n",
              "1       0  58.67  4.460        1             1    Materials     Black   \n",
              "2       0  24.50  0.500        1             1    Materials     Black   \n",
              "3       1  27.83  1.540        1             1  Industrials     White   \n",
              "4       1  20.17  5.625        1             1  Industrials     White   \n",
              "\n",
              "   YearsEmployed  PriorDefault  Employed  CreditScore  DriversLicense  \\\n",
              "0           1.25             1         1            1               0   \n",
              "1           3.04             1         1            6               0   \n",
              "2           1.50             1         0            0               0   \n",
              "3           3.75             1         1            5               1   \n",
              "4           1.71             1         0            0               0   \n",
              "\n",
              "        Citizen  ZipCode  Income  Approved  \n",
              "0       ByBirth      202       0         1  \n",
              "1       ByBirth       43     560         1  \n",
              "2       ByBirth      280     824         1  \n",
              "3       ByBirth      100       3         1  \n",
              "4  ByOtherMeans      120       0         1  "
            ],
            "text/html": [
              "\n",
              "  <div id=\"df-d697755b-5d87-4c35-ab6b-68a2b25dcd93\">\n",
              "    <div class=\"colab-df-container\">\n",
              "      <div>\n",
              "<style scoped>\n",
              "    .dataframe tbody tr th:only-of-type {\n",
              "        vertical-align: middle;\n",
              "    }\n",
              "\n",
              "    .dataframe tbody tr th {\n",
              "        vertical-align: top;\n",
              "    }\n",
              "\n",
              "    .dataframe thead th {\n",
              "        text-align: right;\n",
              "    }\n",
              "</style>\n",
              "<table border=\"1\" class=\"dataframe\">\n",
              "  <thead>\n",
              "    <tr style=\"text-align: right;\">\n",
              "      <th></th>\n",
              "      <th>Gender</th>\n",
              "      <th>Age</th>\n",
              "      <th>Debt</th>\n",
              "      <th>Married</th>\n",
              "      <th>BankCustomer</th>\n",
              "      <th>Industry</th>\n",
              "      <th>Ethnicity</th>\n",
              "      <th>YearsEmployed</th>\n",
              "      <th>PriorDefault</th>\n",
              "      <th>Employed</th>\n",
              "      <th>CreditScore</th>\n",
              "      <th>DriversLicense</th>\n",
              "      <th>Citizen</th>\n",
              "      <th>ZipCode</th>\n",
              "      <th>Income</th>\n",
              "      <th>Approved</th>\n",
              "    </tr>\n",
              "  </thead>\n",
              "  <tbody>\n",
              "    <tr>\n",
              "      <th>0</th>\n",
              "      <td>1</td>\n",
              "      <td>30.83</td>\n",
              "      <td>0.000</td>\n",
              "      <td>1</td>\n",
              "      <td>1</td>\n",
              "      <td>Industrials</td>\n",
              "      <td>White</td>\n",
              "      <td>1.25</td>\n",
              "      <td>1</td>\n",
              "      <td>1</td>\n",
              "      <td>1</td>\n",
              "      <td>0</td>\n",
              "      <td>ByBirth</td>\n",
              "      <td>202</td>\n",
              "      <td>0</td>\n",
              "      <td>1</td>\n",
              "    </tr>\n",
              "    <tr>\n",
              "      <th>1</th>\n",
              "      <td>0</td>\n",
              "      <td>58.67</td>\n",
              "      <td>4.460</td>\n",
              "      <td>1</td>\n",
              "      <td>1</td>\n",
              "      <td>Materials</td>\n",
              "      <td>Black</td>\n",
              "      <td>3.04</td>\n",
              "      <td>1</td>\n",
              "      <td>1</td>\n",
              "      <td>6</td>\n",
              "      <td>0</td>\n",
              "      <td>ByBirth</td>\n",
              "      <td>43</td>\n",
              "      <td>560</td>\n",
              "      <td>1</td>\n",
              "    </tr>\n",
              "    <tr>\n",
              "      <th>2</th>\n",
              "      <td>0</td>\n",
              "      <td>24.50</td>\n",
              "      <td>0.500</td>\n",
              "      <td>1</td>\n",
              "      <td>1</td>\n",
              "      <td>Materials</td>\n",
              "      <td>Black</td>\n",
              "      <td>1.50</td>\n",
              "      <td>1</td>\n",
              "      <td>0</td>\n",
              "      <td>0</td>\n",
              "      <td>0</td>\n",
              "      <td>ByBirth</td>\n",
              "      <td>280</td>\n",
              "      <td>824</td>\n",
              "      <td>1</td>\n",
              "    </tr>\n",
              "    <tr>\n",
              "      <th>3</th>\n",
              "      <td>1</td>\n",
              "      <td>27.83</td>\n",
              "      <td>1.540</td>\n",
              "      <td>1</td>\n",
              "      <td>1</td>\n",
              "      <td>Industrials</td>\n",
              "      <td>White</td>\n",
              "      <td>3.75</td>\n",
              "      <td>1</td>\n",
              "      <td>1</td>\n",
              "      <td>5</td>\n",
              "      <td>1</td>\n",
              "      <td>ByBirth</td>\n",
              "      <td>100</td>\n",
              "      <td>3</td>\n",
              "      <td>1</td>\n",
              "    </tr>\n",
              "    <tr>\n",
              "      <th>4</th>\n",
              "      <td>1</td>\n",
              "      <td>20.17</td>\n",
              "      <td>5.625</td>\n",
              "      <td>1</td>\n",
              "      <td>1</td>\n",
              "      <td>Industrials</td>\n",
              "      <td>White</td>\n",
              "      <td>1.71</td>\n",
              "      <td>1</td>\n",
              "      <td>0</td>\n",
              "      <td>0</td>\n",
              "      <td>0</td>\n",
              "      <td>ByOtherMeans</td>\n",
              "      <td>120</td>\n",
              "      <td>0</td>\n",
              "      <td>1</td>\n",
              "    </tr>\n",
              "  </tbody>\n",
              "</table>\n",
              "</div>\n",
              "      <button class=\"colab-df-convert\" onclick=\"convertToInteractive('df-d697755b-5d87-4c35-ab6b-68a2b25dcd93')\"\n",
              "              title=\"Convert this dataframe to an interactive table.\"\n",
              "              style=\"display:none;\">\n",
              "        \n",
              "  <svg xmlns=\"http://www.w3.org/2000/svg\" height=\"24px\"viewBox=\"0 0 24 24\"\n",
              "       width=\"24px\">\n",
              "    <path d=\"M0 0h24v24H0V0z\" fill=\"none\"/>\n",
              "    <path d=\"M18.56 5.44l.94 2.06.94-2.06 2.06-.94-2.06-.94-.94-2.06-.94 2.06-2.06.94zm-11 1L8.5 8.5l.94-2.06 2.06-.94-2.06-.94L8.5 2.5l-.94 2.06-2.06.94zm10 10l.94 2.06.94-2.06 2.06-.94-2.06-.94-.94-2.06-.94 2.06-2.06.94z\"/><path d=\"M17.41 7.96l-1.37-1.37c-.4-.4-.92-.59-1.43-.59-.52 0-1.04.2-1.43.59L10.3 9.45l-7.72 7.72c-.78.78-.78 2.05 0 2.83L4 21.41c.39.39.9.59 1.41.59.51 0 1.02-.2 1.41-.59l7.78-7.78 2.81-2.81c.8-.78.8-2.07 0-2.86zM5.41 20L4 18.59l7.72-7.72 1.47 1.35L5.41 20z\"/>\n",
              "  </svg>\n",
              "      </button>\n",
              "      \n",
              "  <style>\n",
              "    .colab-df-container {\n",
              "      display:flex;\n",
              "      flex-wrap:wrap;\n",
              "      gap: 12px;\n",
              "    }\n",
              "\n",
              "    .colab-df-convert {\n",
              "      background-color: #E8F0FE;\n",
              "      border: none;\n",
              "      border-radius: 50%;\n",
              "      cursor: pointer;\n",
              "      display: none;\n",
              "      fill: #1967D2;\n",
              "      height: 32px;\n",
              "      padding: 0 0 0 0;\n",
              "      width: 32px;\n",
              "    }\n",
              "\n",
              "    .colab-df-convert:hover {\n",
              "      background-color: #E2EBFA;\n",
              "      box-shadow: 0px 1px 2px rgba(60, 64, 67, 0.3), 0px 1px 3px 1px rgba(60, 64, 67, 0.15);\n",
              "      fill: #174EA6;\n",
              "    }\n",
              "\n",
              "    [theme=dark] .colab-df-convert {\n",
              "      background-color: #3B4455;\n",
              "      fill: #D2E3FC;\n",
              "    }\n",
              "\n",
              "    [theme=dark] .colab-df-convert:hover {\n",
              "      background-color: #434B5C;\n",
              "      box-shadow: 0px 1px 3px 1px rgba(0, 0, 0, 0.15);\n",
              "      filter: drop-shadow(0px 1px 2px rgba(0, 0, 0, 0.3));\n",
              "      fill: #FFFFFF;\n",
              "    }\n",
              "  </style>\n",
              "\n",
              "      <script>\n",
              "        const buttonEl =\n",
              "          document.querySelector('#df-d697755b-5d87-4c35-ab6b-68a2b25dcd93 button.colab-df-convert');\n",
              "        buttonEl.style.display =\n",
              "          google.colab.kernel.accessAllowed ? 'block' : 'none';\n",
              "\n",
              "        async function convertToInteractive(key) {\n",
              "          const element = document.querySelector('#df-d697755b-5d87-4c35-ab6b-68a2b25dcd93');\n",
              "          const dataTable =\n",
              "            await google.colab.kernel.invokeFunction('convertToInteractive',\n",
              "                                                     [key], {});\n",
              "          if (!dataTable) return;\n",
              "\n",
              "          const docLinkHtml = 'Like what you see? Visit the ' +\n",
              "            '<a target=\"_blank\" href=https://colab.research.google.com/notebooks/data_table.ipynb>data table notebook</a>'\n",
              "            + ' to learn more about interactive tables.';\n",
              "          element.innerHTML = '';\n",
              "          dataTable['output_type'] = 'display_data';\n",
              "          await google.colab.output.renderOutput(dataTable, element);\n",
              "          const docLink = document.createElement('div');\n",
              "          docLink.innerHTML = docLinkHtml;\n",
              "          element.appendChild(docLink);\n",
              "        }\n",
              "      </script>\n",
              "    </div>\n",
              "  </div>\n",
              "  "
            ]
          },
          "metadata": {},
          "execution_count": 19
        }
      ]
    },
    {
      "cell_type": "code",
      "source": [
        "df.tail()"
      ],
      "metadata": {
        "colab": {
          "base_uri": "https://localhost:8080/",
          "height": 270
        },
        "id": "SUOmjvQOEAdI",
        "outputId": "4d660ebf-b00f-47bc-efba-3992aa3f58a1"
      },
      "execution_count": 20,
      "outputs": [
        {
          "output_type": "execute_result",
          "data": {
            "text/plain": [
              "     Gender    Age    Debt  Married  BankCustomer         Industry Ethnicity  \\\n",
              "685       1  21.08  10.085        0             0        Education     Black   \n",
              "686       0  22.67   0.750        1             1           Energy     White   \n",
              "687       0  25.25  13.500        0             0       Healthcare    Latino   \n",
              "688       1  17.92   0.205        1             1  ConsumerStaples     White   \n",
              "689       1  35.00   3.375        1             1           Energy     Black   \n",
              "\n",
              "     YearsEmployed  PriorDefault  Employed  CreditScore  DriversLicense  \\\n",
              "685           1.25             0         0            0               0   \n",
              "686           2.00             0         1            2               1   \n",
              "687           2.00             0         1            1               1   \n",
              "688           0.04             0         0            0               0   \n",
              "689           8.29             0         0            0               1   \n",
              "\n",
              "     Citizen  ZipCode  Income  Approved  \n",
              "685  ByBirth      260       0         0  \n",
              "686  ByBirth      200     394         0  \n",
              "687  ByBirth      200       1         0  \n",
              "688  ByBirth      280     750         0  \n",
              "689  ByBirth        0       0         0  "
            ],
            "text/html": [
              "\n",
              "  <div id=\"df-e425c346-7c32-4fa9-8920-33560fcfbe6e\">\n",
              "    <div class=\"colab-df-container\">\n",
              "      <div>\n",
              "<style scoped>\n",
              "    .dataframe tbody tr th:only-of-type {\n",
              "        vertical-align: middle;\n",
              "    }\n",
              "\n",
              "    .dataframe tbody tr th {\n",
              "        vertical-align: top;\n",
              "    }\n",
              "\n",
              "    .dataframe thead th {\n",
              "        text-align: right;\n",
              "    }\n",
              "</style>\n",
              "<table border=\"1\" class=\"dataframe\">\n",
              "  <thead>\n",
              "    <tr style=\"text-align: right;\">\n",
              "      <th></th>\n",
              "      <th>Gender</th>\n",
              "      <th>Age</th>\n",
              "      <th>Debt</th>\n",
              "      <th>Married</th>\n",
              "      <th>BankCustomer</th>\n",
              "      <th>Industry</th>\n",
              "      <th>Ethnicity</th>\n",
              "      <th>YearsEmployed</th>\n",
              "      <th>PriorDefault</th>\n",
              "      <th>Employed</th>\n",
              "      <th>CreditScore</th>\n",
              "      <th>DriversLicense</th>\n",
              "      <th>Citizen</th>\n",
              "      <th>ZipCode</th>\n",
              "      <th>Income</th>\n",
              "      <th>Approved</th>\n",
              "    </tr>\n",
              "  </thead>\n",
              "  <tbody>\n",
              "    <tr>\n",
              "      <th>685</th>\n",
              "      <td>1</td>\n",
              "      <td>21.08</td>\n",
              "      <td>10.085</td>\n",
              "      <td>0</td>\n",
              "      <td>0</td>\n",
              "      <td>Education</td>\n",
              "      <td>Black</td>\n",
              "      <td>1.25</td>\n",
              "      <td>0</td>\n",
              "      <td>0</td>\n",
              "      <td>0</td>\n",
              "      <td>0</td>\n",
              "      <td>ByBirth</td>\n",
              "      <td>260</td>\n",
              "      <td>0</td>\n",
              "      <td>0</td>\n",
              "    </tr>\n",
              "    <tr>\n",
              "      <th>686</th>\n",
              "      <td>0</td>\n",
              "      <td>22.67</td>\n",
              "      <td>0.750</td>\n",
              "      <td>1</td>\n",
              "      <td>1</td>\n",
              "      <td>Energy</td>\n",
              "      <td>White</td>\n",
              "      <td>2.00</td>\n",
              "      <td>0</td>\n",
              "      <td>1</td>\n",
              "      <td>2</td>\n",
              "      <td>1</td>\n",
              "      <td>ByBirth</td>\n",
              "      <td>200</td>\n",
              "      <td>394</td>\n",
              "      <td>0</td>\n",
              "    </tr>\n",
              "    <tr>\n",
              "      <th>687</th>\n",
              "      <td>0</td>\n",
              "      <td>25.25</td>\n",
              "      <td>13.500</td>\n",
              "      <td>0</td>\n",
              "      <td>0</td>\n",
              "      <td>Healthcare</td>\n",
              "      <td>Latino</td>\n",
              "      <td>2.00</td>\n",
              "      <td>0</td>\n",
              "      <td>1</td>\n",
              "      <td>1</td>\n",
              "      <td>1</td>\n",
              "      <td>ByBirth</td>\n",
              "      <td>200</td>\n",
              "      <td>1</td>\n",
              "      <td>0</td>\n",
              "    </tr>\n",
              "    <tr>\n",
              "      <th>688</th>\n",
              "      <td>1</td>\n",
              "      <td>17.92</td>\n",
              "      <td>0.205</td>\n",
              "      <td>1</td>\n",
              "      <td>1</td>\n",
              "      <td>ConsumerStaples</td>\n",
              "      <td>White</td>\n",
              "      <td>0.04</td>\n",
              "      <td>0</td>\n",
              "      <td>0</td>\n",
              "      <td>0</td>\n",
              "      <td>0</td>\n",
              "      <td>ByBirth</td>\n",
              "      <td>280</td>\n",
              "      <td>750</td>\n",
              "      <td>0</td>\n",
              "    </tr>\n",
              "    <tr>\n",
              "      <th>689</th>\n",
              "      <td>1</td>\n",
              "      <td>35.00</td>\n",
              "      <td>3.375</td>\n",
              "      <td>1</td>\n",
              "      <td>1</td>\n",
              "      <td>Energy</td>\n",
              "      <td>Black</td>\n",
              "      <td>8.29</td>\n",
              "      <td>0</td>\n",
              "      <td>0</td>\n",
              "      <td>0</td>\n",
              "      <td>1</td>\n",
              "      <td>ByBirth</td>\n",
              "      <td>0</td>\n",
              "      <td>0</td>\n",
              "      <td>0</td>\n",
              "    </tr>\n",
              "  </tbody>\n",
              "</table>\n",
              "</div>\n",
              "      <button class=\"colab-df-convert\" onclick=\"convertToInteractive('df-e425c346-7c32-4fa9-8920-33560fcfbe6e')\"\n",
              "              title=\"Convert this dataframe to an interactive table.\"\n",
              "              style=\"display:none;\">\n",
              "        \n",
              "  <svg xmlns=\"http://www.w3.org/2000/svg\" height=\"24px\"viewBox=\"0 0 24 24\"\n",
              "       width=\"24px\">\n",
              "    <path d=\"M0 0h24v24H0V0z\" fill=\"none\"/>\n",
              "    <path d=\"M18.56 5.44l.94 2.06.94-2.06 2.06-.94-2.06-.94-.94-2.06-.94 2.06-2.06.94zm-11 1L8.5 8.5l.94-2.06 2.06-.94-2.06-.94L8.5 2.5l-.94 2.06-2.06.94zm10 10l.94 2.06.94-2.06 2.06-.94-2.06-.94-.94-2.06-.94 2.06-2.06.94z\"/><path d=\"M17.41 7.96l-1.37-1.37c-.4-.4-.92-.59-1.43-.59-.52 0-1.04.2-1.43.59L10.3 9.45l-7.72 7.72c-.78.78-.78 2.05 0 2.83L4 21.41c.39.39.9.59 1.41.59.51 0 1.02-.2 1.41-.59l7.78-7.78 2.81-2.81c.8-.78.8-2.07 0-2.86zM5.41 20L4 18.59l7.72-7.72 1.47 1.35L5.41 20z\"/>\n",
              "  </svg>\n",
              "      </button>\n",
              "      \n",
              "  <style>\n",
              "    .colab-df-container {\n",
              "      display:flex;\n",
              "      flex-wrap:wrap;\n",
              "      gap: 12px;\n",
              "    }\n",
              "\n",
              "    .colab-df-convert {\n",
              "      background-color: #E8F0FE;\n",
              "      border: none;\n",
              "      border-radius: 50%;\n",
              "      cursor: pointer;\n",
              "      display: none;\n",
              "      fill: #1967D2;\n",
              "      height: 32px;\n",
              "      padding: 0 0 0 0;\n",
              "      width: 32px;\n",
              "    }\n",
              "\n",
              "    .colab-df-convert:hover {\n",
              "      background-color: #E2EBFA;\n",
              "      box-shadow: 0px 1px 2px rgba(60, 64, 67, 0.3), 0px 1px 3px 1px rgba(60, 64, 67, 0.15);\n",
              "      fill: #174EA6;\n",
              "    }\n",
              "\n",
              "    [theme=dark] .colab-df-convert {\n",
              "      background-color: #3B4455;\n",
              "      fill: #D2E3FC;\n",
              "    }\n",
              "\n",
              "    [theme=dark] .colab-df-convert:hover {\n",
              "      background-color: #434B5C;\n",
              "      box-shadow: 0px 1px 3px 1px rgba(0, 0, 0, 0.15);\n",
              "      filter: drop-shadow(0px 1px 2px rgba(0, 0, 0, 0.3));\n",
              "      fill: #FFFFFF;\n",
              "    }\n",
              "  </style>\n",
              "\n",
              "      <script>\n",
              "        const buttonEl =\n",
              "          document.querySelector('#df-e425c346-7c32-4fa9-8920-33560fcfbe6e button.colab-df-convert');\n",
              "        buttonEl.style.display =\n",
              "          google.colab.kernel.accessAllowed ? 'block' : 'none';\n",
              "\n",
              "        async function convertToInteractive(key) {\n",
              "          const element = document.querySelector('#df-e425c346-7c32-4fa9-8920-33560fcfbe6e');\n",
              "          const dataTable =\n",
              "            await google.colab.kernel.invokeFunction('convertToInteractive',\n",
              "                                                     [key], {});\n",
              "          if (!dataTable) return;\n",
              "\n",
              "          const docLinkHtml = 'Like what you see? Visit the ' +\n",
              "            '<a target=\"_blank\" href=https://colab.research.google.com/notebooks/data_table.ipynb>data table notebook</a>'\n",
              "            + ' to learn more about interactive tables.';\n",
              "          element.innerHTML = '';\n",
              "          dataTable['output_type'] = 'display_data';\n",
              "          await google.colab.output.renderOutput(dataTable, element);\n",
              "          const docLink = document.createElement('div');\n",
              "          docLink.innerHTML = docLinkHtml;\n",
              "          element.appendChild(docLink);\n",
              "        }\n",
              "      </script>\n",
              "    </div>\n",
              "  </div>\n",
              "  "
            ]
          },
          "metadata": {},
          "execution_count": 20
        }
      ]
    },
    {
      "cell_type": "code",
      "source": [
        "df.shape"
      ],
      "metadata": {
        "colab": {
          "base_uri": "https://localhost:8080/"
        },
        "id": "zSHfA1L-xPHt",
        "outputId": "f1d5e003-52eb-4f77-ca6e-8d1c9767777f"
      },
      "execution_count": 21,
      "outputs": [
        {
          "output_type": "execute_result",
          "data": {
            "text/plain": [
              "(690, 16)"
            ]
          },
          "metadata": {},
          "execution_count": 21
        }
      ]
    },
    {
      "cell_type": "markdown",
      "source": [
        "####A.4.2 Mapping e indexación de filas"
      ],
      "metadata": {
        "id": "Ehlj4J7VMNJT"
      }
    },
    {
      "cell_type": "code",
      "source": [
        "df.columns"
      ],
      "metadata": {
        "colab": {
          "base_uri": "https://localhost:8080/"
        },
        "id": "AO3A9bPdMWpu",
        "outputId": "94bd6500-dd05-4f6f-e8f0-02b9d14b6fa6"
      },
      "execution_count": 22,
      "outputs": [
        {
          "output_type": "execute_result",
          "data": {
            "text/plain": [
              "Index(['Gender', 'Age', 'Debt', 'Married', 'BankCustomer', 'Industry',\n",
              "       'Ethnicity', 'YearsEmployed', 'PriorDefault', 'Employed', 'CreditScore',\n",
              "       'DriversLicense', 'Citizen', 'ZipCode', 'Income', 'Approved'],\n",
              "      dtype='object')"
            ]
          },
          "metadata": {},
          "execution_count": 22
        }
      ]
    },
    {
      "cell_type": "markdown",
      "source": [
        "Observamos las columnas y notamos que estás no tienen el formato `snake_case`, por lo que realizamos mapping."
      ],
      "metadata": {
        "id": "uw21mAs8aDxL"
      }
    },
    {
      "cell_type": "code",
      "source": [
        "df = df.rename({\"Gender\": \"gender\",\n",
        "            \"Age\": \"age\",\n",
        "            \"Debt\": \"debt\",\n",
        "            \"Married\": \"married\",\n",
        "            \"BankCustomer\": \"bank_customer\",\n",
        "            \"Industry\": \"industry\",\n",
        "            \"Ethnicity\": \"ethnicity\",\n",
        "            \"YearsEmployed\": \"years_employed\",\n",
        "            \"PriorDefault\": \"prior_default\",\n",
        "            \"Employed\": \"employed\",\n",
        "            \"CreditScore\": \"credit_score\",\n",
        "            \"DriversLicense\": \"driver_license\",\n",
        "            \"Citizen\": \"citizen\",\n",
        "            \"ZipCode\": \"zip_code\",\n",
        "            \"Income\": \"income\",\n",
        "            \"Approved\": \"approved\"},\n",
        "            axis = 1)\n",
        "\n",
        "df.head()"
      ],
      "metadata": {
        "colab": {
          "base_uri": "https://localhost:8080/",
          "height": 270
        },
        "id": "iuiLStBQMkne",
        "outputId": "3adb5e88-7f86-40e6-fe7d-3769c645cce7"
      },
      "execution_count": 23,
      "outputs": [
        {
          "output_type": "execute_result",
          "data": {
            "text/plain": [
              "   gender    age   debt  married  bank_customer     industry ethnicity  \\\n",
              "0       1  30.83  0.000        1              1  Industrials     White   \n",
              "1       0  58.67  4.460        1              1    Materials     Black   \n",
              "2       0  24.50  0.500        1              1    Materials     Black   \n",
              "3       1  27.83  1.540        1              1  Industrials     White   \n",
              "4       1  20.17  5.625        1              1  Industrials     White   \n",
              "\n",
              "   years_employed  prior_default  employed  credit_score  driver_license  \\\n",
              "0            1.25              1         1             1               0   \n",
              "1            3.04              1         1             6               0   \n",
              "2            1.50              1         0             0               0   \n",
              "3            3.75              1         1             5               1   \n",
              "4            1.71              1         0             0               0   \n",
              "\n",
              "        citizen  zip_code  income  approved  \n",
              "0       ByBirth       202       0         1  \n",
              "1       ByBirth        43     560         1  \n",
              "2       ByBirth       280     824         1  \n",
              "3       ByBirth       100       3         1  \n",
              "4  ByOtherMeans       120       0         1  "
            ],
            "text/html": [
              "\n",
              "  <div id=\"df-255e9c90-69c2-47ab-aaa2-b67931fa3f1d\">\n",
              "    <div class=\"colab-df-container\">\n",
              "      <div>\n",
              "<style scoped>\n",
              "    .dataframe tbody tr th:only-of-type {\n",
              "        vertical-align: middle;\n",
              "    }\n",
              "\n",
              "    .dataframe tbody tr th {\n",
              "        vertical-align: top;\n",
              "    }\n",
              "\n",
              "    .dataframe thead th {\n",
              "        text-align: right;\n",
              "    }\n",
              "</style>\n",
              "<table border=\"1\" class=\"dataframe\">\n",
              "  <thead>\n",
              "    <tr style=\"text-align: right;\">\n",
              "      <th></th>\n",
              "      <th>gender</th>\n",
              "      <th>age</th>\n",
              "      <th>debt</th>\n",
              "      <th>married</th>\n",
              "      <th>bank_customer</th>\n",
              "      <th>industry</th>\n",
              "      <th>ethnicity</th>\n",
              "      <th>years_employed</th>\n",
              "      <th>prior_default</th>\n",
              "      <th>employed</th>\n",
              "      <th>credit_score</th>\n",
              "      <th>driver_license</th>\n",
              "      <th>citizen</th>\n",
              "      <th>zip_code</th>\n",
              "      <th>income</th>\n",
              "      <th>approved</th>\n",
              "    </tr>\n",
              "  </thead>\n",
              "  <tbody>\n",
              "    <tr>\n",
              "      <th>0</th>\n",
              "      <td>1</td>\n",
              "      <td>30.83</td>\n",
              "      <td>0.000</td>\n",
              "      <td>1</td>\n",
              "      <td>1</td>\n",
              "      <td>Industrials</td>\n",
              "      <td>White</td>\n",
              "      <td>1.25</td>\n",
              "      <td>1</td>\n",
              "      <td>1</td>\n",
              "      <td>1</td>\n",
              "      <td>0</td>\n",
              "      <td>ByBirth</td>\n",
              "      <td>202</td>\n",
              "      <td>0</td>\n",
              "      <td>1</td>\n",
              "    </tr>\n",
              "    <tr>\n",
              "      <th>1</th>\n",
              "      <td>0</td>\n",
              "      <td>58.67</td>\n",
              "      <td>4.460</td>\n",
              "      <td>1</td>\n",
              "      <td>1</td>\n",
              "      <td>Materials</td>\n",
              "      <td>Black</td>\n",
              "      <td>3.04</td>\n",
              "      <td>1</td>\n",
              "      <td>1</td>\n",
              "      <td>6</td>\n",
              "      <td>0</td>\n",
              "      <td>ByBirth</td>\n",
              "      <td>43</td>\n",
              "      <td>560</td>\n",
              "      <td>1</td>\n",
              "    </tr>\n",
              "    <tr>\n",
              "      <th>2</th>\n",
              "      <td>0</td>\n",
              "      <td>24.50</td>\n",
              "      <td>0.500</td>\n",
              "      <td>1</td>\n",
              "      <td>1</td>\n",
              "      <td>Materials</td>\n",
              "      <td>Black</td>\n",
              "      <td>1.50</td>\n",
              "      <td>1</td>\n",
              "      <td>0</td>\n",
              "      <td>0</td>\n",
              "      <td>0</td>\n",
              "      <td>ByBirth</td>\n",
              "      <td>280</td>\n",
              "      <td>824</td>\n",
              "      <td>1</td>\n",
              "    </tr>\n",
              "    <tr>\n",
              "      <th>3</th>\n",
              "      <td>1</td>\n",
              "      <td>27.83</td>\n",
              "      <td>1.540</td>\n",
              "      <td>1</td>\n",
              "      <td>1</td>\n",
              "      <td>Industrials</td>\n",
              "      <td>White</td>\n",
              "      <td>3.75</td>\n",
              "      <td>1</td>\n",
              "      <td>1</td>\n",
              "      <td>5</td>\n",
              "      <td>1</td>\n",
              "      <td>ByBirth</td>\n",
              "      <td>100</td>\n",
              "      <td>3</td>\n",
              "      <td>1</td>\n",
              "    </tr>\n",
              "    <tr>\n",
              "      <th>4</th>\n",
              "      <td>1</td>\n",
              "      <td>20.17</td>\n",
              "      <td>5.625</td>\n",
              "      <td>1</td>\n",
              "      <td>1</td>\n",
              "      <td>Industrials</td>\n",
              "      <td>White</td>\n",
              "      <td>1.71</td>\n",
              "      <td>1</td>\n",
              "      <td>0</td>\n",
              "      <td>0</td>\n",
              "      <td>0</td>\n",
              "      <td>ByOtherMeans</td>\n",
              "      <td>120</td>\n",
              "      <td>0</td>\n",
              "      <td>1</td>\n",
              "    </tr>\n",
              "  </tbody>\n",
              "</table>\n",
              "</div>\n",
              "      <button class=\"colab-df-convert\" onclick=\"convertToInteractive('df-255e9c90-69c2-47ab-aaa2-b67931fa3f1d')\"\n",
              "              title=\"Convert this dataframe to an interactive table.\"\n",
              "              style=\"display:none;\">\n",
              "        \n",
              "  <svg xmlns=\"http://www.w3.org/2000/svg\" height=\"24px\"viewBox=\"0 0 24 24\"\n",
              "       width=\"24px\">\n",
              "    <path d=\"M0 0h24v24H0V0z\" fill=\"none\"/>\n",
              "    <path d=\"M18.56 5.44l.94 2.06.94-2.06 2.06-.94-2.06-.94-.94-2.06-.94 2.06-2.06.94zm-11 1L8.5 8.5l.94-2.06 2.06-.94-2.06-.94L8.5 2.5l-.94 2.06-2.06.94zm10 10l.94 2.06.94-2.06 2.06-.94-2.06-.94-.94-2.06-.94 2.06-2.06.94z\"/><path d=\"M17.41 7.96l-1.37-1.37c-.4-.4-.92-.59-1.43-.59-.52 0-1.04.2-1.43.59L10.3 9.45l-7.72 7.72c-.78.78-.78 2.05 0 2.83L4 21.41c.39.39.9.59 1.41.59.51 0 1.02-.2 1.41-.59l7.78-7.78 2.81-2.81c.8-.78.8-2.07 0-2.86zM5.41 20L4 18.59l7.72-7.72 1.47 1.35L5.41 20z\"/>\n",
              "  </svg>\n",
              "      </button>\n",
              "      \n",
              "  <style>\n",
              "    .colab-df-container {\n",
              "      display:flex;\n",
              "      flex-wrap:wrap;\n",
              "      gap: 12px;\n",
              "    }\n",
              "\n",
              "    .colab-df-convert {\n",
              "      background-color: #E8F0FE;\n",
              "      border: none;\n",
              "      border-radius: 50%;\n",
              "      cursor: pointer;\n",
              "      display: none;\n",
              "      fill: #1967D2;\n",
              "      height: 32px;\n",
              "      padding: 0 0 0 0;\n",
              "      width: 32px;\n",
              "    }\n",
              "\n",
              "    .colab-df-convert:hover {\n",
              "      background-color: #E2EBFA;\n",
              "      box-shadow: 0px 1px 2px rgba(60, 64, 67, 0.3), 0px 1px 3px 1px rgba(60, 64, 67, 0.15);\n",
              "      fill: #174EA6;\n",
              "    }\n",
              "\n",
              "    [theme=dark] .colab-df-convert {\n",
              "      background-color: #3B4455;\n",
              "      fill: #D2E3FC;\n",
              "    }\n",
              "\n",
              "    [theme=dark] .colab-df-convert:hover {\n",
              "      background-color: #434B5C;\n",
              "      box-shadow: 0px 1px 3px 1px rgba(0, 0, 0, 0.15);\n",
              "      filter: drop-shadow(0px 1px 2px rgba(0, 0, 0, 0.3));\n",
              "      fill: #FFFFFF;\n",
              "    }\n",
              "  </style>\n",
              "\n",
              "      <script>\n",
              "        const buttonEl =\n",
              "          document.querySelector('#df-255e9c90-69c2-47ab-aaa2-b67931fa3f1d button.colab-df-convert');\n",
              "        buttonEl.style.display =\n",
              "          google.colab.kernel.accessAllowed ? 'block' : 'none';\n",
              "\n",
              "        async function convertToInteractive(key) {\n",
              "          const element = document.querySelector('#df-255e9c90-69c2-47ab-aaa2-b67931fa3f1d');\n",
              "          const dataTable =\n",
              "            await google.colab.kernel.invokeFunction('convertToInteractive',\n",
              "                                                     [key], {});\n",
              "          if (!dataTable) return;\n",
              "\n",
              "          const docLinkHtml = 'Like what you see? Visit the ' +\n",
              "            '<a target=\"_blank\" href=https://colab.research.google.com/notebooks/data_table.ipynb>data table notebook</a>'\n",
              "            + ' to learn more about interactive tables.';\n",
              "          element.innerHTML = '';\n",
              "          dataTable['output_type'] = 'display_data';\n",
              "          await google.colab.output.renderOutput(dataTable, element);\n",
              "          const docLink = document.createElement('div');\n",
              "          docLink.innerHTML = docLinkHtml;\n",
              "          element.appendChild(docLink);\n",
              "        }\n",
              "      </script>\n",
              "    </div>\n",
              "  </div>\n",
              "  "
            ]
          },
          "metadata": {},
          "execution_count": 23
        }
      ]
    },
    {
      "cell_type": "markdown",
      "source": [
        "####A.4.3 NaNs"
      ],
      "metadata": {
        "id": "f5QFHcxSGqNP"
      }
    },
    {
      "cell_type": "markdown",
      "source": [
        "Buscamos nans con la función `.isna()`."
      ],
      "metadata": {
        "id": "6QyQN9hXdV6D"
      }
    },
    {
      "cell_type": "code",
      "source": [
        "df.isna().sum(axis=0)"
      ],
      "metadata": {
        "colab": {
          "base_uri": "https://localhost:8080/"
        },
        "id": "8PNfAe22F4d-",
        "outputId": "b7ed3491-4bba-416c-e7d9-fd89ae736e68"
      },
      "execution_count": 24,
      "outputs": [
        {
          "output_type": "execute_result",
          "data": {
            "text/plain": [
              "gender            0\n",
              "age               0\n",
              "debt              0\n",
              "married           0\n",
              "bank_customer     0\n",
              "industry          0\n",
              "ethnicity         0\n",
              "years_employed    0\n",
              "prior_default     0\n",
              "employed          0\n",
              "credit_score      0\n",
              "driver_license    0\n",
              "citizen           0\n",
              "zip_code          0\n",
              "income            0\n",
              "approved          0\n",
              "dtype: int64"
            ]
          },
          "metadata": {},
          "execution_count": 24
        }
      ]
    },
    {
      "cell_type": "markdown",
      "source": [
        "Nuestros datos están **limpios**."
      ],
      "metadata": {
        "id": "tfqoB8GhdkBi"
      }
    },
    {
      "cell_type": "markdown",
      "source": [
        "####A.4.4 Tipos de datos"
      ],
      "metadata": {
        "id": "_ElRPg2pGmdT"
      }
    },
    {
      "cell_type": "markdown",
      "source": [
        "Verificamos tipos de datos con `.dtypes`."
      ],
      "metadata": {
        "id": "-XSzh8ONdqty"
      }
    },
    {
      "cell_type": "code",
      "source": [
        "df.dtypes"
      ],
      "metadata": {
        "colab": {
          "base_uri": "https://localhost:8080/"
        },
        "id": "eC5Y3kYk5khh",
        "outputId": "c10e23c1-e347-4887-b1a8-509b32493522"
      },
      "execution_count": 25,
      "outputs": [
        {
          "output_type": "execute_result",
          "data": {
            "text/plain": [
              "gender              int64\n",
              "age               float64\n",
              "debt              float64\n",
              "married             int64\n",
              "bank_customer       int64\n",
              "industry           object\n",
              "ethnicity          object\n",
              "years_employed    float64\n",
              "prior_default       int64\n",
              "employed            int64\n",
              "credit_score        int64\n",
              "driver_license      int64\n",
              "citizen            object\n",
              "zip_code            int64\n",
              "income              int64\n",
              "approved            int64\n",
              "dtype: object"
            ]
          },
          "metadata": {},
          "execution_count": 25
        }
      ]
    },
    {
      "cell_type": "markdown",
      "source": [
        "Nuestros datos están correctamente tipeados y **listos para usarse**."
      ],
      "metadata": {
        "id": "H7qzXA80dvXs"
      }
    },
    {
      "cell_type": "markdown",
      "metadata": {
        "id": "jWWFfDJNLqPD"
      },
      "source": [
        "---\n",
        "##B. Estimados de locación y variabilidad - Postwork 1"
      ]
    },
    {
      "cell_type": "markdown",
      "source": [
        "###B.1 Datos estructurados\n",
        "Visualizamos `.head()` de nuestro dataset nuevamente..."
      ],
      "metadata": {
        "id": "4gwlOHJFeWHR"
      }
    },
    {
      "cell_type": "code",
      "source": [
        "df.head()"
      ],
      "metadata": {
        "colab": {
          "base_uri": "https://localhost:8080/",
          "height": 270
        },
        "id": "J1A4Pap6fx9d",
        "outputId": "a91b0346-972b-4a03-ccaf-dc624fc2d4f7"
      },
      "execution_count": 26,
      "outputs": [
        {
          "output_type": "execute_result",
          "data": {
            "text/plain": [
              "   gender    age   debt  married  bank_customer     industry ethnicity  \\\n",
              "0       1  30.83  0.000        1              1  Industrials     White   \n",
              "1       0  58.67  4.460        1              1    Materials     Black   \n",
              "2       0  24.50  0.500        1              1    Materials     Black   \n",
              "3       1  27.83  1.540        1              1  Industrials     White   \n",
              "4       1  20.17  5.625        1              1  Industrials     White   \n",
              "\n",
              "   years_employed  prior_default  employed  credit_score  driver_license  \\\n",
              "0            1.25              1         1             1               0   \n",
              "1            3.04              1         1             6               0   \n",
              "2            1.50              1         0             0               0   \n",
              "3            3.75              1         1             5               1   \n",
              "4            1.71              1         0             0               0   \n",
              "\n",
              "        citizen  zip_code  income  approved  \n",
              "0       ByBirth       202       0         1  \n",
              "1       ByBirth        43     560         1  \n",
              "2       ByBirth       280     824         1  \n",
              "3       ByBirth       100       3         1  \n",
              "4  ByOtherMeans       120       0         1  "
            ],
            "text/html": [
              "\n",
              "  <div id=\"df-5fbcd434-19b7-4c97-afd4-fae10485e802\">\n",
              "    <div class=\"colab-df-container\">\n",
              "      <div>\n",
              "<style scoped>\n",
              "    .dataframe tbody tr th:only-of-type {\n",
              "        vertical-align: middle;\n",
              "    }\n",
              "\n",
              "    .dataframe tbody tr th {\n",
              "        vertical-align: top;\n",
              "    }\n",
              "\n",
              "    .dataframe thead th {\n",
              "        text-align: right;\n",
              "    }\n",
              "</style>\n",
              "<table border=\"1\" class=\"dataframe\">\n",
              "  <thead>\n",
              "    <tr style=\"text-align: right;\">\n",
              "      <th></th>\n",
              "      <th>gender</th>\n",
              "      <th>age</th>\n",
              "      <th>debt</th>\n",
              "      <th>married</th>\n",
              "      <th>bank_customer</th>\n",
              "      <th>industry</th>\n",
              "      <th>ethnicity</th>\n",
              "      <th>years_employed</th>\n",
              "      <th>prior_default</th>\n",
              "      <th>employed</th>\n",
              "      <th>credit_score</th>\n",
              "      <th>driver_license</th>\n",
              "      <th>citizen</th>\n",
              "      <th>zip_code</th>\n",
              "      <th>income</th>\n",
              "      <th>approved</th>\n",
              "    </tr>\n",
              "  </thead>\n",
              "  <tbody>\n",
              "    <tr>\n",
              "      <th>0</th>\n",
              "      <td>1</td>\n",
              "      <td>30.83</td>\n",
              "      <td>0.000</td>\n",
              "      <td>1</td>\n",
              "      <td>1</td>\n",
              "      <td>Industrials</td>\n",
              "      <td>White</td>\n",
              "      <td>1.25</td>\n",
              "      <td>1</td>\n",
              "      <td>1</td>\n",
              "      <td>1</td>\n",
              "      <td>0</td>\n",
              "      <td>ByBirth</td>\n",
              "      <td>202</td>\n",
              "      <td>0</td>\n",
              "      <td>1</td>\n",
              "    </tr>\n",
              "    <tr>\n",
              "      <th>1</th>\n",
              "      <td>0</td>\n",
              "      <td>58.67</td>\n",
              "      <td>4.460</td>\n",
              "      <td>1</td>\n",
              "      <td>1</td>\n",
              "      <td>Materials</td>\n",
              "      <td>Black</td>\n",
              "      <td>3.04</td>\n",
              "      <td>1</td>\n",
              "      <td>1</td>\n",
              "      <td>6</td>\n",
              "      <td>0</td>\n",
              "      <td>ByBirth</td>\n",
              "      <td>43</td>\n",
              "      <td>560</td>\n",
              "      <td>1</td>\n",
              "    </tr>\n",
              "    <tr>\n",
              "      <th>2</th>\n",
              "      <td>0</td>\n",
              "      <td>24.50</td>\n",
              "      <td>0.500</td>\n",
              "      <td>1</td>\n",
              "      <td>1</td>\n",
              "      <td>Materials</td>\n",
              "      <td>Black</td>\n",
              "      <td>1.50</td>\n",
              "      <td>1</td>\n",
              "      <td>0</td>\n",
              "      <td>0</td>\n",
              "      <td>0</td>\n",
              "      <td>ByBirth</td>\n",
              "      <td>280</td>\n",
              "      <td>824</td>\n",
              "      <td>1</td>\n",
              "    </tr>\n",
              "    <tr>\n",
              "      <th>3</th>\n",
              "      <td>1</td>\n",
              "      <td>27.83</td>\n",
              "      <td>1.540</td>\n",
              "      <td>1</td>\n",
              "      <td>1</td>\n",
              "      <td>Industrials</td>\n",
              "      <td>White</td>\n",
              "      <td>3.75</td>\n",
              "      <td>1</td>\n",
              "      <td>1</td>\n",
              "      <td>5</td>\n",
              "      <td>1</td>\n",
              "      <td>ByBirth</td>\n",
              "      <td>100</td>\n",
              "      <td>3</td>\n",
              "      <td>1</td>\n",
              "    </tr>\n",
              "    <tr>\n",
              "      <th>4</th>\n",
              "      <td>1</td>\n",
              "      <td>20.17</td>\n",
              "      <td>5.625</td>\n",
              "      <td>1</td>\n",
              "      <td>1</td>\n",
              "      <td>Industrials</td>\n",
              "      <td>White</td>\n",
              "      <td>1.71</td>\n",
              "      <td>1</td>\n",
              "      <td>0</td>\n",
              "      <td>0</td>\n",
              "      <td>0</td>\n",
              "      <td>ByOtherMeans</td>\n",
              "      <td>120</td>\n",
              "      <td>0</td>\n",
              "      <td>1</td>\n",
              "    </tr>\n",
              "  </tbody>\n",
              "</table>\n",
              "</div>\n",
              "      <button class=\"colab-df-convert\" onclick=\"convertToInteractive('df-5fbcd434-19b7-4c97-afd4-fae10485e802')\"\n",
              "              title=\"Convert this dataframe to an interactive table.\"\n",
              "              style=\"display:none;\">\n",
              "        \n",
              "  <svg xmlns=\"http://www.w3.org/2000/svg\" height=\"24px\"viewBox=\"0 0 24 24\"\n",
              "       width=\"24px\">\n",
              "    <path d=\"M0 0h24v24H0V0z\" fill=\"none\"/>\n",
              "    <path d=\"M18.56 5.44l.94 2.06.94-2.06 2.06-.94-2.06-.94-.94-2.06-.94 2.06-2.06.94zm-11 1L8.5 8.5l.94-2.06 2.06-.94-2.06-.94L8.5 2.5l-.94 2.06-2.06.94zm10 10l.94 2.06.94-2.06 2.06-.94-2.06-.94-.94-2.06-.94 2.06-2.06.94z\"/><path d=\"M17.41 7.96l-1.37-1.37c-.4-.4-.92-.59-1.43-.59-.52 0-1.04.2-1.43.59L10.3 9.45l-7.72 7.72c-.78.78-.78 2.05 0 2.83L4 21.41c.39.39.9.59 1.41.59.51 0 1.02-.2 1.41-.59l7.78-7.78 2.81-2.81c.8-.78.8-2.07 0-2.86zM5.41 20L4 18.59l7.72-7.72 1.47 1.35L5.41 20z\"/>\n",
              "  </svg>\n",
              "      </button>\n",
              "      \n",
              "  <style>\n",
              "    .colab-df-container {\n",
              "      display:flex;\n",
              "      flex-wrap:wrap;\n",
              "      gap: 12px;\n",
              "    }\n",
              "\n",
              "    .colab-df-convert {\n",
              "      background-color: #E8F0FE;\n",
              "      border: none;\n",
              "      border-radius: 50%;\n",
              "      cursor: pointer;\n",
              "      display: none;\n",
              "      fill: #1967D2;\n",
              "      height: 32px;\n",
              "      padding: 0 0 0 0;\n",
              "      width: 32px;\n",
              "    }\n",
              "\n",
              "    .colab-df-convert:hover {\n",
              "      background-color: #E2EBFA;\n",
              "      box-shadow: 0px 1px 2px rgba(60, 64, 67, 0.3), 0px 1px 3px 1px rgba(60, 64, 67, 0.15);\n",
              "      fill: #174EA6;\n",
              "    }\n",
              "\n",
              "    [theme=dark] .colab-df-convert {\n",
              "      background-color: #3B4455;\n",
              "      fill: #D2E3FC;\n",
              "    }\n",
              "\n",
              "    [theme=dark] .colab-df-convert:hover {\n",
              "      background-color: #434B5C;\n",
              "      box-shadow: 0px 1px 3px 1px rgba(0, 0, 0, 0.15);\n",
              "      filter: drop-shadow(0px 1px 2px rgba(0, 0, 0, 0.3));\n",
              "      fill: #FFFFFF;\n",
              "    }\n",
              "  </style>\n",
              "\n",
              "      <script>\n",
              "        const buttonEl =\n",
              "          document.querySelector('#df-5fbcd434-19b7-4c97-afd4-fae10485e802 button.colab-df-convert');\n",
              "        buttonEl.style.display =\n",
              "          google.colab.kernel.accessAllowed ? 'block' : 'none';\n",
              "\n",
              "        async function convertToInteractive(key) {\n",
              "          const element = document.querySelector('#df-5fbcd434-19b7-4c97-afd4-fae10485e802');\n",
              "          const dataTable =\n",
              "            await google.colab.kernel.invokeFunction('convertToInteractive',\n",
              "                                                     [key], {});\n",
              "          if (!dataTable) return;\n",
              "\n",
              "          const docLinkHtml = 'Like what you see? Visit the ' +\n",
              "            '<a target=\"_blank\" href=https://colab.research.google.com/notebooks/data_table.ipynb>data table notebook</a>'\n",
              "            + ' to learn more about interactive tables.';\n",
              "          element.innerHTML = '';\n",
              "          dataTable['output_type'] = 'display_data';\n",
              "          await google.colab.output.renderOutput(dataTable, element);\n",
              "          const docLink = document.createElement('div');\n",
              "          docLink.innerHTML = docLinkHtml;\n",
              "          element.appendChild(docLink);\n",
              "        }\n",
              "      </script>\n",
              "    </div>\n",
              "  </div>\n",
              "  "
            ]
          },
          "metadata": {},
          "execution_count": 26
        }
      ]
    },
    {
      "cell_type": "markdown",
      "source": [
        "y notamos que contamos tanto con `variables cualitativas` como `variables cuantitativas`."
      ],
      "metadata": {
        "id": "LmzaQtQygDiC"
      }
    },
    {
      "cell_type": "markdown",
      "source": [
        "####B.1.1 Datos cualitativos no binarios\n",
        "\n",
        "Tras analizar e investigar la fuente de nuestro dataset, determinamos que hay dos tipos de datos categóricos (no binarios)...\n",
        "\n",
        "- Aquellos con valores textuales (strings):"
      ],
      "metadata": {
        "id": "R52JaTm-gMxH"
      }
    },
    {
      "cell_type": "code",
      "source": [
        "df[[\"industry\", \"ethnicity\", \"citizen\"]].dtypes"
      ],
      "metadata": {
        "colab": {
          "base_uri": "https://localhost:8080/"
        },
        "id": "CPoYzHTmupDW",
        "outputId": "99f57cf1-4343-4102-ba78-498fed7be02e"
      },
      "execution_count": 46,
      "outputs": [
        {
          "output_type": "execute_result",
          "data": {
            "text/plain": [
              "industry     object\n",
              "ethnicity    object\n",
              "citizen      object\n",
              "dtype: object"
            ]
          },
          "metadata": {},
          "execution_count": 46
        }
      ]
    },
    {
      "cell_type": "markdown",
      "source": [
        "- Aquellos con valores numéricos:"
      ],
      "metadata": {
        "id": "NrwuL1XVyldd"
      }
    },
    {
      "cell_type": "code",
      "source": [
        "df[[\"credit_score\", \"zip_code\"]].dtypes"
      ],
      "metadata": {
        "colab": {
          "base_uri": "https://localhost:8080/"
        },
        "id": "V9ldVPi0y90i",
        "outputId": "63b3cd78-5e66-43f9-c599-62f87dab53bd"
      },
      "execution_count": 47,
      "outputs": [
        {
          "output_type": "execute_result",
          "data": {
            "text/plain": [
              "credit_score    int64\n",
              "zip_code        int64\n",
              "dtype: object"
            ]
          },
          "metadata": {},
          "execution_count": 47
        }
      ]
    },
    {
      "cell_type": "markdown",
      "source": [
        "Para el caso de `zip_code`, sus valores determinan cierta zona geográfica. En cambio, para `credit_score`, sus valores indican el puntaje crediticio obtenido según reportes anteriores a la solicitud de tarjeta de crédito de este dataset. \n",
        "\n",
        "Los bancos (y otras empresas como aquellas de tiendas departamentales) cuentan con su rango de puntaje crediticio que van otorgando a sus clientes según corresponda. Por ende, este último ya tiene un rango establecido desde mucho antes, convirtiéndolo en una variable categórica a pesar de contar con valores numéricos.\n",
        "\n",
        "Sus valores para este dataset son:"
      ],
      "metadata": {
        "id": "45zRxKIc0cBq"
      }
    },
    {
      "cell_type": "code",
      "source": [
        "np.unique(df[\"credit_score\"])"
      ],
      "metadata": {
        "colab": {
          "base_uri": "https://localhost:8080/"
        },
        "id": "em_-Twec04xD",
        "outputId": "064a0ae2-2e49-4b54-d540-7db94e8de8fb"
      },
      "execution_count": 52,
      "outputs": [
        {
          "output_type": "execute_result",
          "data": {
            "text/plain": [
              "array([ 0,  1,  2,  3,  4,  5,  6,  7,  8,  9, 10, 11, 12, 13, 14, 15, 16,\n",
              "       17, 19, 20, 23, 40, 67])"
            ]
          },
          "metadata": {},
          "execution_count": 52
        }
      ]
    },
    {
      "cell_type": "markdown",
      "source": [
        "####B.1.2 Datos cualitativos binarios\n",
        "\n",
        "Solo por la visualización del `.head()`, podemos suponer cuáles de nuestras columnas contienen datos binarios. Sin embargo, lo comprobaremos con la función `np.unique()`."
      ],
      "metadata": {
        "id": "xUpkbe3ppvNH"
      }
    },
    {
      "cell_type": "code",
      "source": [
        "#Columna gender\n",
        "print(f\"Para 'gender':\")\n",
        "print(np.unique(df[\"gender\"]))\n",
        "print(\"\\n\")\n",
        "\n",
        "#Columna married\n",
        "print(f\"Para 'married':\")\n",
        "print(np.unique(df[\"married\"]))\n",
        "print(\"\\n\")\n",
        "\n",
        "#Columna bank_customer\n",
        "print(f\"Para 'bank_customer':\")\n",
        "print(np.unique(df[\"bank_customer\"]))\n",
        "print(\"\\n\")\n",
        "\n",
        "#Columna prior_default\n",
        "print(f\"Para 'prior_default':\")\n",
        "print(np.unique(df[\"prior_default\"]))\n",
        "print(\"\\n\")\n",
        "\n",
        "#Columna employed\n",
        "print(f\"Para 'employed':\")\n",
        "print(np.unique(df[\"employed\"]))\n",
        "print(\"\\n\")\n",
        "\n",
        "#Columna driver_license\n",
        "print(f\"Para 'driver_license':\")\n",
        "print(np.unique(df[\"driver_license\"]))\n",
        "print(\"\\n\")\n",
        "\n",
        "#Columna approved\n",
        "print(f\"Para 'approved':\")\n",
        "print(np.unique(df[\"approved\"]))\n",
        "print(\"\\n\")"
      ],
      "metadata": {
        "colab": {
          "base_uri": "https://localhost:8080/"
        },
        "id": "4hhRsoSdrEoP",
        "outputId": "3edacb63-defb-42a8-a88b-80b37b399c96"
      },
      "execution_count": 45,
      "outputs": [
        {
          "output_type": "stream",
          "name": "stdout",
          "text": [
            "Para 'gender':\n",
            "[0 1]\n",
            "\n",
            "\n",
            "Para 'married':\n",
            "[0 1]\n",
            "\n",
            "\n",
            "Para 'bank_customer':\n",
            "[0 1]\n",
            "\n",
            "\n",
            "Para 'prior_default':\n",
            "[0 1]\n",
            "\n",
            "\n",
            "Para 'employed':\n",
            "[0 1]\n",
            "\n",
            "\n",
            "Para 'driver_license':\n",
            "[0 1]\n",
            "\n",
            "\n",
            "Para 'approved':\n",
            "[0 1]\n",
            "\n",
            "\n"
          ]
        }
      ]
    },
    {
      "cell_type": "markdown",
      "source": [
        "Y efectivamente, todas las columnas que sospechábamos de tipo binario, resultaron serlo."
      ],
      "metadata": {
        "id": "4AB2ioIztj57"
      }
    },
    {
      "cell_type": "markdown",
      "source": [
        "####B.1.3 Datos cuantitativos\n",
        "\n",
        "Nuestros datos cuantitativos son:"
      ],
      "metadata": {
        "id": "h8qhLxLBzhRf"
      }
    },
    {
      "cell_type": "code",
      "source": [
        "df[[\"age\", \"debt\", \"years_employed\", \"income\"]].dtypes"
      ],
      "metadata": {
        "colab": {
          "base_uri": "https://localhost:8080/"
        },
        "id": "IkfcVYHCzrzn",
        "outputId": "e7001774-100c-42ea-9596-3a03ccaba45a"
      },
      "execution_count": 51,
      "outputs": [
        {
          "output_type": "execute_result",
          "data": {
            "text/plain": [
              "age               float64\n",
              "debt              float64\n",
              "years_employed    float64\n",
              "income              int64\n",
              "dtype: object"
            ]
          },
          "metadata": {},
          "execution_count": 51
        }
      ]
    },
    {
      "cell_type": "markdown",
      "source": [
        "###B.2 Estimados de locación\n",
        "Con nuestros datos estructurados ya distinguidos, podemos proceder a conocerlos por medio de estadísticos y visualizaciones."
      ],
      "metadata": {
        "id": "ngOvTaru4ECz"
      }
    },
    {
      "cell_type": "markdown",
      "source": [
        "####B.2.1 Datos cuantitativos\n",
        "La mayoría de estimados de locación o medidas de tendencia central se pueden realizar para datos cuantitativos. Así:"
      ],
      "metadata": {
        "id": "oSaQn_vD7Hcr"
      }
    },
    {
      "cell_type": "markdown",
      "source": [
        "#####B.2.1.1 Media\n",
        "Aplicamos `.mean()` a nuestros datos cuantitativos, para obtener el promedio."
      ],
      "metadata": {
        "id": "9V4eufEh79iR"
      }
    },
    {
      "cell_type": "code",
      "source": [
        "#Columna age\n",
        "print(f\"Para columna 'age', la media es de {round(df['age'].mean(), 2)}\")\n",
        "print(\"\\n\")\n",
        "\n",
        "#Columna debt\n",
        "print(f\"Para columna 'debt', la media es de {round(df['debt'].mean(), 2)}\")\n",
        "print(\"\\n\")\n",
        "\n",
        "#Columna years_employed\n",
        "print(f\"Para columna 'years_employed', la media es de {round(df['years_employed'].mean(),2)}\")\n",
        "print(\"\\n\")\n",
        "\n",
        "#Columna age\n",
        "print(f\"Para columna 'income', la media es de {round(df['income'].mean(),2)}\")\n",
        "print(\"\\n\")"
      ],
      "metadata": {
        "colab": {
          "base_uri": "https://localhost:8080/"
        },
        "id": "k08SrSLn7G0c",
        "outputId": "a4e79930-be13-4e24-b7dc-ebe90bb47a42"
      },
      "execution_count": 59,
      "outputs": [
        {
          "output_type": "stream",
          "name": "stdout",
          "text": [
            "Para columna 'age', la media es de 31.51\n",
            "\n",
            "\n",
            "Para columna 'debt', la media es de 4.76\n",
            "\n",
            "\n",
            "Para columna 'years_employed', la media es de 2.22\n",
            "\n",
            "\n",
            "Para columna 'income', la media es de 1017.39\n",
            "\n",
            "\n"
          ]
        }
      ]
    },
    {
      "cell_type": "markdown",
      "source": [
        "#####B.2.1.2 Mediana\n",
        "Aplicamos `.median()` a nuestros datos cuantitativos, para conocer el valor posicionado al centro."
      ],
      "metadata": {
        "id": "FvPDiC_H9lkc"
      }
    },
    {
      "cell_type": "code",
      "source": [
        "#Columna age\n",
        "print(f\"Para columna 'age', la mediana es de {round(df['age'].median(), 2)}\")\n",
        "print(\"\\n\")\n",
        "\n",
        "#Columna debt\n",
        "print(f\"Para columna 'debt', la mediana es de {round(df['debt'].median(), 2)}\")\n",
        "print(\"\\n\")\n",
        "\n",
        "#Columna years_employed\n",
        "print(f\"Para columna 'years_employed', la mediana es de {round(df['years_employed'].median(),2)}\")\n",
        "print(\"\\n\")\n",
        "\n",
        "#Columna age\n",
        "print(f\"Para columna 'income', la mediana es de {round(df['income'].median(),2)}\")\n",
        "print(\"\\n\")"
      ],
      "metadata": {
        "colab": {
          "base_uri": "https://localhost:8080/"
        },
        "id": "wrRDwBQq93Aa",
        "outputId": "d34fcc61-d55c-4b60-b531-e46a9eee9c98"
      },
      "execution_count": 61,
      "outputs": [
        {
          "output_type": "stream",
          "name": "stdout",
          "text": [
            "Para columna 'age', la mediana es de 28.46\n",
            "\n",
            "\n",
            "Para columna 'debt', la mediana es de 2.75\n",
            "\n",
            "\n",
            "Para columna 'years_employed', la mediana es de 1.0\n",
            "\n",
            "\n",
            "Para columna 'income', la mediana es de 5.0\n",
            "\n",
            "\n"
          ]
        }
      ]
    },
    {
      "cell_type": "markdown",
      "source": [
        "Aunque sencillos, estos dos datos ya nos están otorgando información interesante sobre nuestro dataset. Por ejemplo, para las columnas de age, debt y years_employed, entre la mediana y la media no parece haber una distinción tan severa, al menos no a primera vista. No obstante, la diferencia para la columna income es abismal, y puede indicarnos la existencia de datos atípicos."
      ],
      "metadata": {
        "id": "nrtWcIoa_Evf"
      }
    },
    {
      "cell_type": "markdown",
      "source": [
        "#####B.2.1.3 Media truncada\n",
        "[PREGUNTA PARA EL EQUIPO] ¿Creen que sea necesario hacer al menos una media truncada?"
      ],
      "metadata": {
        "id": "dMNAWp8M-Cyc"
      }
    },
    {
      "cell_type": "markdown",
      "source": [
        "#####B.2.1.4 Desviación estándar\n",
        "La desviación estándar nos permitirá identificar qué tan dispersos están nuestros datos. Para ello usamos la función `.std()`."
      ],
      "metadata": {
        "id": "gHN2drkDDc50"
      }
    },
    {
      "cell_type": "code",
      "source": [
        "#Columna age\n",
        "print(f\"Para columna 'age', la desviación estándar es de {round(df['age'].std(), 2)}\")\n",
        "print(\"\\n\")\n",
        "\n",
        "#Columna debt\n",
        "print(f\"Para columna 'debt', la desviación estándar es de {round(df['debt'].std(), 2)}\")\n",
        "print(\"\\n\")\n",
        "\n",
        "#Columna years_employed\n",
        "print(f\"Para columna 'years_employed', la desviación estándar es de {round(df['years_employed'].std(),2)}\")\n",
        "print(\"\\n\")\n",
        "\n",
        "#Columna age\n",
        "print(f\"Para columna 'income', la desviación estándar es de {round(df['income'].std(),2)}\")\n",
        "print(\"\\n\")"
      ],
      "metadata": {
        "colab": {
          "base_uri": "https://localhost:8080/"
        },
        "id": "c39765TaD_h1",
        "outputId": "3dffca52-00f2-45e7-91ab-98567fd4b54a"
      },
      "execution_count": 62,
      "outputs": [
        {
          "output_type": "stream",
          "name": "stdout",
          "text": [
            "Para columna 'age', la desviación estándar es de 11.86\n",
            "\n",
            "\n",
            "Para columna 'debt', la desviación estándar es de 4.98\n",
            "\n",
            "\n",
            "Para columna 'years_employed', la desviación estándar es de 3.35\n",
            "\n",
            "\n",
            "Para columna 'income', la desviación estándar es de 5210.1\n",
            "\n",
            "\n"
          ]
        }
      ]
    },
    {
      "cell_type": "markdown",
      "source": [
        "Con este nuevo dato, definitivamente notamos que la columna de \"income\" es un caso interesante."
      ],
      "metadata": {
        "id": "XvOUPl-cEd4Y"
      }
    },
    {
      "cell_type": "markdown",
      "source": [
        "#####B.2.1.5 Estadísticos de orden\n",
        "Usando los estadísticos de orden, conoceremos las dimensiones de los valores de nuestros datos, y completaremos nuestra imagen mental de las distribuciones que hemos ido recopilando hasta ahora. Usamos la función `.quantile()`."
      ],
      "metadata": {
        "id": "8rE-VQB1B1f0"
      }
    },
    {
      "cell_type": "markdown",
      "source": [
        "####B.2.2 Datos cualitativos\n",
        "Se utiliza la moda, `statistics.mode()`, para conocer el valor que más se repite de un conjunto de datos categóricos. Así:"
      ],
      "metadata": {
        "id": "0JR3NAD1Gr9W"
      }
    },
    {
      "cell_type": "markdown",
      "source": [
        "#####B.2.2.1 No binarios"
      ],
      "metadata": {
        "id": "8rALHrxJHRq1"
      }
    },
    {
      "cell_type": "code",
      "source": [
        "import statistics\n",
        "print(\"De valor cadena:\")\n",
        "\n",
        "#Columna industry\n",
        "print(f\"Para columna 'industry', la moda es {statistics.mode(df['industry'])}\")\n",
        "print(\"\\n\")\n",
        "\n",
        "#Columna ethnicity\n",
        "print(f\"Para columna 'ethnicity', la moda es {statistics.mode(df['ethnicity'])}\")\n",
        "print(\"\\n\")\n",
        "\n",
        "#Columna citizen\n",
        "print(f\"Para columna 'citizen', la moda es {statistics.mode(df['citizen'])}\")\n",
        "print(\"\\n\")\n",
        "\n",
        "#---------\n",
        "\n",
        "print(\"De valor numérico:\")\n",
        "\n",
        "#Columna credit_score\n",
        "print(f\"Para columna 'credit_score', la moda es de {statistics.mode(df['credit_score'])}\")\n",
        "print(\"\\n\")\n",
        "\n",
        "#Columna zip_code\n",
        "print(f\"Para columna 'zip_code', la moda es de {statistics.mode(df['zip_code'])}\")\n",
        "print(\"\\n\")"
      ],
      "metadata": {
        "colab": {
          "base_uri": "https://localhost:8080/"
        },
        "id": "CI8DFkAdHbwC",
        "outputId": "675b4822-1714-4873-83ab-9edf38df1273"
      },
      "execution_count": 67,
      "outputs": [
        {
          "output_type": "stream",
          "name": "stdout",
          "text": [
            "De valor cadena:\n",
            "Para columna 'industry', la moda es Energy\n",
            "\n",
            "\n",
            "Para columna 'ethnicity', la moda es White\n",
            "\n",
            "\n",
            "Para columna 'citizen', la moda es ByBirth\n",
            "\n",
            "\n",
            "De valor numérico:\n",
            "Para columna 'credit_score', la moda es de 0\n",
            "\n",
            "\n",
            "Para columna 'zip_code', la moda es de 0\n",
            "\n",
            "\n"
          ]
        }
      ]
    },
    {
      "cell_type": "markdown",
      "source": [
        "#####B.2.2.2 Binarios"
      ],
      "metadata": {
        "id": "ejTe-TdZHV8_"
      }
    },
    {
      "cell_type": "code",
      "source": [
        "#Columna gender\n",
        "print(f\"Para columna 'gender', la moda es {statistics.mode(df['gender'])}\")\n",
        "print(\"\\n\")\n",
        "\n",
        "#Columna married\n",
        "print(f\"Para columna 'married', la moda es {statistics.mode(df['married'])}\")\n",
        "print(\"\\n\")\n",
        "\n",
        "#Columna bank_customer\n",
        "print(f\"Para columna 'bank_customer', la moda es {statistics.mode(df['bank_customer'])}\")\n",
        "print(\"\\n\")\n",
        "\n",
        "#Columna prior_default\n",
        "print(f\"Para columna 'prior_default', la moda es de {statistics.mode(df['prior_default'])}\")\n",
        "print(\"\\n\")\n",
        "\n",
        "#Columna employed\n",
        "print(f\"Para columna 'employed', la moda es de {statistics.mode(df['employed'])}\")\n",
        "print(\"\\n\")\n",
        "\n",
        "#Columna driver_license\n",
        "print(f\"Para columna 'driver_license', la moda es de {statistics.mode(df['driver_license'])}\")\n",
        "print(\"\\n\")\n",
        "\n",
        "#Columna approved\n",
        "print(f\"Para columna 'approved', la moda es de {statistics.mode(df['approved'])}\")\n",
        "print(\"\\n\")"
      ],
      "metadata": {
        "colab": {
          "base_uri": "https://localhost:8080/"
        },
        "id": "5vSvc7WbHcow",
        "outputId": "98b3f23c-329f-46dc-c4b9-5323e0dc5dd5"
      },
      "execution_count": 71,
      "outputs": [
        {
          "output_type": "stream",
          "name": "stdout",
          "text": [
            "Para columna 'gender', la moda es 1\n",
            "\n",
            "\n",
            "Para columna 'married', la moda es 1\n",
            "\n",
            "\n",
            "Para columna 'bank_customer', la moda es 1\n",
            "\n",
            "\n",
            "Para columna 'prior_default', la moda es de 1\n",
            "\n",
            "\n",
            "Para columna 'employed', la moda es de 0\n",
            "\n",
            "\n",
            "Para columna 'driver_license', la moda es de 0\n",
            "\n",
            "\n",
            "Para columna 'approved', la moda es de 0\n",
            "\n",
            "\n"
          ]
        }
      ]
    },
    {
      "cell_type": "markdown",
      "metadata": {
        "id": "Q-Fz2dX9Lqr6"
      },
      "source": [
        "---\n",
        "## C. Introducción a visualización de datos: Visualizaciones  - Postwork 2\n"
      ]
    },
    {
      "cell_type": "markdown",
      "metadata": {
        "id": "5dSFGdPoLrKu"
      },
      "source": [
        "---\n",
        "##D. Exploración de variables categóticas y análisis multivariable - Postwork 3\n"
      ]
    },
    {
      "cell_type": "markdown",
      "source": [
        "---\n",
        "##E. Correlaciones y regresión linear simple - Postwork 4"
      ],
      "metadata": {
        "id": "fUroasGez_GZ"
      }
    },
    {
      "cell_type": "markdown",
      "metadata": {
        "id": "idYDgfBgLrnn"
      },
      "source": [
        "---\n",
        "##F. Distribuciones muestrales y técnicas de evaluación de modelos - Postwork 5\n"
      ]
    },
    {
      "cell_type": "markdown",
      "metadata": {
        "id": "x8er8YldGsfe"
      },
      "source": [
        "---\n",
        "##G. Visualización de datos avanzada - Postwork 6\n"
      ]
    },
    {
      "cell_type": "markdown",
      "metadata": {
        "id": "Z4mWIZq8Lsf3"
      },
      "source": [
        "---\n",
        "##H. Pruebas A/B y procesamiento del lenguaje natural - Postwork 7"
      ]
    },
    {
      "cell_type": "markdown",
      "source": [
        "---\n",
        "##I. Introducción a Machine Learning - Postwork 8"
      ],
      "metadata": {
        "id": "S2twJW_OyltD"
      }
    }
  ],
  "metadata": {
    "colab": {
      "collapsed_sections": [
        "mBDxoUOGn-7f",
        "_moo4ogY9juI",
        "SPlDmPdGGHVh",
        "Ehlj4J7VMNJT",
        "f5QFHcxSGqNP",
        "_ElRPg2pGmdT",
        "jWWFfDJNLqPD",
        "4gwlOHJFeWHR",
        "R52JaTm-gMxH",
        "xUpkbe3ppvNH",
        "h8qhLxLBzhRf",
        "ngOvTaru4ECz",
        "oSaQn_vD7Hcr",
        "9V4eufEh79iR",
        "FvPDiC_H9lkc",
        "gHN2drkDDc50",
        "0JR3NAD1Gr9W",
        "8rALHrxJHRq1",
        "ejTe-TdZHV8_"
      ],
      "provenance": []
    },
    "kernelspec": {
      "display_name": "Python 3 (ipykernel)",
      "language": "python",
      "name": "python3"
    },
    "language_info": {
      "codemirror_mode": {
        "name": "ipython",
        "version": 3
      },
      "file_extension": ".py",
      "mimetype": "text/x-python",
      "name": "python",
      "nbconvert_exporter": "python",
      "pygments_lexer": "ipython3",
      "version": "3.10.4"
    }
  },
  "nbformat": 4,
  "nbformat_minor": 0
}