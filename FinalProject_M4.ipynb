{
  "cells": [
    {
      "cell_type": "markdown",
      "metadata": {
        "id": "view-in-github",
        "colab_type": "text"
      },
      "source": [
        "<a href=\"https://colab.research.google.com/github/HanniaMele/bedu-equipo4-dataScience-M4/blob/main/FinalProject_M4.ipynb\" target=\"_parent\"><img src=\"https://colab.research.google.com/assets/colab-badge.svg\" alt=\"Open In Colab\"/></a>"
      ]
    },
    {
      "cell_type": "markdown",
      "metadata": {
        "id": "dgEQwSosKe0f"
      },
      "source": [
        "#Proyecto Final Fase 3 Módulo 4 BEDU\n",
        "\n",
        "##Análisis de datos con Python - Equipo 4\n",
        "\n",
        "###Integrantes: \n",
        "- Juan Manuel Ledesma Rangel\n",
        "- Hannia Melendres Samaniego\n",
        "- Alejandro Cortéz Sánchez\n",
        "- Martín Otamendi Torres\n"
      ]
    },
    {
      "cell_type": "markdown",
      "source": [
        "---\n",
        "##A. [Previo] Procesamiento de datos [MODIFICAR]"
      ],
      "metadata": {
        "id": "mBDxoUOGn-7f"
      }
    },
    {
      "cell_type": "markdown",
      "metadata": {
        "id": "m2KGyGRsFYZL"
      },
      "source": [
        "###A.1 Problema: [MODIFICAR]\n",
        "> _x_\n",
        "\n",
        "###A.2 Fundamento teórico del proyecto: [MODIFICAR]\n",
        "> Se puede encontrar en orden en el siguiente documento de Google: _x_\n",
        "\n",
        "###A.3 Planteamiento de preguntas [MODIFICAR]\n",
        "Tras realizar la investigación preliminar, surgieron las siguientes preguntas (también encontradas dentro del documento comentado con anterioridad):\n",
        "\n",
        "1.   _x_\n",
        "2.   _x_\n",
        "3.   _x_\n",
        "4.   _x_\n",
        "5.   _x_"
      ]
    },
    {
      "cell_type": "markdown",
      "source": [
        "### A.4 Colección de datos/AED/Limpieza\n",
        "\n",
        "Para el análisis, utilizaremos los dataset (en formato .csv)...\n",
        "\n",
        ">\"credit_card_approvals_clean.csv\"\n",
        "\n",
        "obtenido desde https://www.kaggle.com/datasets/samuelcortinhas/credit-card-approval-clean-data?select=crx.csv, y encontrado en nuestro repositorio."
      ],
      "metadata": {
        "id": "_moo4ogY9juI"
      }
    },
    {
      "cell_type": "markdown",
      "source": [
        "####A.4.1 Importación y AED"
      ],
      "metadata": {
        "id": "SPlDmPdGGHVh"
      }
    },
    {
      "cell_type": "markdown",
      "source": [
        "Realizamos un análisis exploratorio de datos para conocerlos."
      ],
      "metadata": {
        "id": "KySagbwRZ8pR"
      }
    },
    {
      "cell_type": "code",
      "source": [
        "import pandas as pd\n",
        "import numpy as np\n",
        "\n",
        "df = pd.read_csv(\"https://raw.githubusercontent.com/HanniaMele/bedu-equipo4-dataScience-M4/main/raw_data/credit_card_approvals_clean.csv\")\n",
        "\n",
        "df.head()"
      ],
      "metadata": {
        "colab": {
          "base_uri": "https://localhost:8080/",
          "height": 206
        },
        "id": "7XLe2px1mubY",
        "outputId": "2921094f-b80a-4099-a666-4ef3897744bd"
      },
      "execution_count": 229,
      "outputs": [
        {
          "output_type": "execute_result",
          "data": {
            "text/plain": [
              "   Gender    Age   Debt  Married  BankCustomer     Industry Ethnicity  \\\n",
              "0       1  30.83  0.000        1             1  Industrials     White   \n",
              "1       0  58.67  4.460        1             1    Materials     Black   \n",
              "2       0  24.50  0.500        1             1    Materials     Black   \n",
              "3       1  27.83  1.540        1             1  Industrials     White   \n",
              "4       1  20.17  5.625        1             1  Industrials     White   \n",
              "\n",
              "   YearsEmployed  PriorDefault  Employed  CreditScore  DriversLicense  \\\n",
              "0           1.25             1         1            1               0   \n",
              "1           3.04             1         1            6               0   \n",
              "2           1.50             1         0            0               0   \n",
              "3           3.75             1         1            5               1   \n",
              "4           1.71             1         0            0               0   \n",
              "\n",
              "        Citizen  ZipCode  Income  Approved  \n",
              "0       ByBirth      202       0         1  \n",
              "1       ByBirth       43     560         1  \n",
              "2       ByBirth      280     824         1  \n",
              "3       ByBirth      100       3         1  \n",
              "4  ByOtherMeans      120       0         1  "
            ],
            "text/html": [
              "\n",
              "  <div id=\"df-843c41d4-c0ba-403a-bb42-fd2c412dc220\">\n",
              "    <div class=\"colab-df-container\">\n",
              "      <div>\n",
              "<style scoped>\n",
              "    .dataframe tbody tr th:only-of-type {\n",
              "        vertical-align: middle;\n",
              "    }\n",
              "\n",
              "    .dataframe tbody tr th {\n",
              "        vertical-align: top;\n",
              "    }\n",
              "\n",
              "    .dataframe thead th {\n",
              "        text-align: right;\n",
              "    }\n",
              "</style>\n",
              "<table border=\"1\" class=\"dataframe\">\n",
              "  <thead>\n",
              "    <tr style=\"text-align: right;\">\n",
              "      <th></th>\n",
              "      <th>Gender</th>\n",
              "      <th>Age</th>\n",
              "      <th>Debt</th>\n",
              "      <th>Married</th>\n",
              "      <th>BankCustomer</th>\n",
              "      <th>Industry</th>\n",
              "      <th>Ethnicity</th>\n",
              "      <th>YearsEmployed</th>\n",
              "      <th>PriorDefault</th>\n",
              "      <th>Employed</th>\n",
              "      <th>CreditScore</th>\n",
              "      <th>DriversLicense</th>\n",
              "      <th>Citizen</th>\n",
              "      <th>ZipCode</th>\n",
              "      <th>Income</th>\n",
              "      <th>Approved</th>\n",
              "    </tr>\n",
              "  </thead>\n",
              "  <tbody>\n",
              "    <tr>\n",
              "      <th>0</th>\n",
              "      <td>1</td>\n",
              "      <td>30.83</td>\n",
              "      <td>0.000</td>\n",
              "      <td>1</td>\n",
              "      <td>1</td>\n",
              "      <td>Industrials</td>\n",
              "      <td>White</td>\n",
              "      <td>1.25</td>\n",
              "      <td>1</td>\n",
              "      <td>1</td>\n",
              "      <td>1</td>\n",
              "      <td>0</td>\n",
              "      <td>ByBirth</td>\n",
              "      <td>202</td>\n",
              "      <td>0</td>\n",
              "      <td>1</td>\n",
              "    </tr>\n",
              "    <tr>\n",
              "      <th>1</th>\n",
              "      <td>0</td>\n",
              "      <td>58.67</td>\n",
              "      <td>4.460</td>\n",
              "      <td>1</td>\n",
              "      <td>1</td>\n",
              "      <td>Materials</td>\n",
              "      <td>Black</td>\n",
              "      <td>3.04</td>\n",
              "      <td>1</td>\n",
              "      <td>1</td>\n",
              "      <td>6</td>\n",
              "      <td>0</td>\n",
              "      <td>ByBirth</td>\n",
              "      <td>43</td>\n",
              "      <td>560</td>\n",
              "      <td>1</td>\n",
              "    </tr>\n",
              "    <tr>\n",
              "      <th>2</th>\n",
              "      <td>0</td>\n",
              "      <td>24.50</td>\n",
              "      <td>0.500</td>\n",
              "      <td>1</td>\n",
              "      <td>1</td>\n",
              "      <td>Materials</td>\n",
              "      <td>Black</td>\n",
              "      <td>1.50</td>\n",
              "      <td>1</td>\n",
              "      <td>0</td>\n",
              "      <td>0</td>\n",
              "      <td>0</td>\n",
              "      <td>ByBirth</td>\n",
              "      <td>280</td>\n",
              "      <td>824</td>\n",
              "      <td>1</td>\n",
              "    </tr>\n",
              "    <tr>\n",
              "      <th>3</th>\n",
              "      <td>1</td>\n",
              "      <td>27.83</td>\n",
              "      <td>1.540</td>\n",
              "      <td>1</td>\n",
              "      <td>1</td>\n",
              "      <td>Industrials</td>\n",
              "      <td>White</td>\n",
              "      <td>3.75</td>\n",
              "      <td>1</td>\n",
              "      <td>1</td>\n",
              "      <td>5</td>\n",
              "      <td>1</td>\n",
              "      <td>ByBirth</td>\n",
              "      <td>100</td>\n",
              "      <td>3</td>\n",
              "      <td>1</td>\n",
              "    </tr>\n",
              "    <tr>\n",
              "      <th>4</th>\n",
              "      <td>1</td>\n",
              "      <td>20.17</td>\n",
              "      <td>5.625</td>\n",
              "      <td>1</td>\n",
              "      <td>1</td>\n",
              "      <td>Industrials</td>\n",
              "      <td>White</td>\n",
              "      <td>1.71</td>\n",
              "      <td>1</td>\n",
              "      <td>0</td>\n",
              "      <td>0</td>\n",
              "      <td>0</td>\n",
              "      <td>ByOtherMeans</td>\n",
              "      <td>120</td>\n",
              "      <td>0</td>\n",
              "      <td>1</td>\n",
              "    </tr>\n",
              "  </tbody>\n",
              "</table>\n",
              "</div>\n",
              "      <button class=\"colab-df-convert\" onclick=\"convertToInteractive('df-843c41d4-c0ba-403a-bb42-fd2c412dc220')\"\n",
              "              title=\"Convert this dataframe to an interactive table.\"\n",
              "              style=\"display:none;\">\n",
              "        \n",
              "  <svg xmlns=\"http://www.w3.org/2000/svg\" height=\"24px\"viewBox=\"0 0 24 24\"\n",
              "       width=\"24px\">\n",
              "    <path d=\"M0 0h24v24H0V0z\" fill=\"none\"/>\n",
              "    <path d=\"M18.56 5.44l.94 2.06.94-2.06 2.06-.94-2.06-.94-.94-2.06-.94 2.06-2.06.94zm-11 1L8.5 8.5l.94-2.06 2.06-.94-2.06-.94L8.5 2.5l-.94 2.06-2.06.94zm10 10l.94 2.06.94-2.06 2.06-.94-2.06-.94-.94-2.06-.94 2.06-2.06.94z\"/><path d=\"M17.41 7.96l-1.37-1.37c-.4-.4-.92-.59-1.43-.59-.52 0-1.04.2-1.43.59L10.3 9.45l-7.72 7.72c-.78.78-.78 2.05 0 2.83L4 21.41c.39.39.9.59 1.41.59.51 0 1.02-.2 1.41-.59l7.78-7.78 2.81-2.81c.8-.78.8-2.07 0-2.86zM5.41 20L4 18.59l7.72-7.72 1.47 1.35L5.41 20z\"/>\n",
              "  </svg>\n",
              "      </button>\n",
              "      \n",
              "  <style>\n",
              "    .colab-df-container {\n",
              "      display:flex;\n",
              "      flex-wrap:wrap;\n",
              "      gap: 12px;\n",
              "    }\n",
              "\n",
              "    .colab-df-convert {\n",
              "      background-color: #E8F0FE;\n",
              "      border: none;\n",
              "      border-radius: 50%;\n",
              "      cursor: pointer;\n",
              "      display: none;\n",
              "      fill: #1967D2;\n",
              "      height: 32px;\n",
              "      padding: 0 0 0 0;\n",
              "      width: 32px;\n",
              "    }\n",
              "\n",
              "    .colab-df-convert:hover {\n",
              "      background-color: #E2EBFA;\n",
              "      box-shadow: 0px 1px 2px rgba(60, 64, 67, 0.3), 0px 1px 3px 1px rgba(60, 64, 67, 0.15);\n",
              "      fill: #174EA6;\n",
              "    }\n",
              "\n",
              "    [theme=dark] .colab-df-convert {\n",
              "      background-color: #3B4455;\n",
              "      fill: #D2E3FC;\n",
              "    }\n",
              "\n",
              "    [theme=dark] .colab-df-convert:hover {\n",
              "      background-color: #434B5C;\n",
              "      box-shadow: 0px 1px 3px 1px rgba(0, 0, 0, 0.15);\n",
              "      filter: drop-shadow(0px 1px 2px rgba(0, 0, 0, 0.3));\n",
              "      fill: #FFFFFF;\n",
              "    }\n",
              "  </style>\n",
              "\n",
              "      <script>\n",
              "        const buttonEl =\n",
              "          document.querySelector('#df-843c41d4-c0ba-403a-bb42-fd2c412dc220 button.colab-df-convert');\n",
              "        buttonEl.style.display =\n",
              "          google.colab.kernel.accessAllowed ? 'block' : 'none';\n",
              "\n",
              "        async function convertToInteractive(key) {\n",
              "          const element = document.querySelector('#df-843c41d4-c0ba-403a-bb42-fd2c412dc220');\n",
              "          const dataTable =\n",
              "            await google.colab.kernel.invokeFunction('convertToInteractive',\n",
              "                                                     [key], {});\n",
              "          if (!dataTable) return;\n",
              "\n",
              "          const docLinkHtml = 'Like what you see? Visit the ' +\n",
              "            '<a target=\"_blank\" href=https://colab.research.google.com/notebooks/data_table.ipynb>data table notebook</a>'\n",
              "            + ' to learn more about interactive tables.';\n",
              "          element.innerHTML = '';\n",
              "          dataTable['output_type'] = 'display_data';\n",
              "          await google.colab.output.renderOutput(dataTable, element);\n",
              "          const docLink = document.createElement('div');\n",
              "          docLink.innerHTML = docLinkHtml;\n",
              "          element.appendChild(docLink);\n",
              "        }\n",
              "      </script>\n",
              "    </div>\n",
              "  </div>\n",
              "  "
            ]
          },
          "metadata": {},
          "execution_count": 229
        }
      ]
    },
    {
      "cell_type": "code",
      "source": [
        "df.tail()"
      ],
      "metadata": {
        "colab": {
          "base_uri": "https://localhost:8080/",
          "height": 206
        },
        "id": "SUOmjvQOEAdI",
        "outputId": "dbf736d2-7f6b-4404-8fe2-05f492e7ab25"
      },
      "execution_count": 230,
      "outputs": [
        {
          "output_type": "execute_result",
          "data": {
            "text/plain": [
              "     Gender    Age    Debt  Married  BankCustomer         Industry Ethnicity  \\\n",
              "685       1  21.08  10.085        0             0        Education     Black   \n",
              "686       0  22.67   0.750        1             1           Energy     White   \n",
              "687       0  25.25  13.500        0             0       Healthcare    Latino   \n",
              "688       1  17.92   0.205        1             1  ConsumerStaples     White   \n",
              "689       1  35.00   3.375        1             1           Energy     Black   \n",
              "\n",
              "     YearsEmployed  PriorDefault  Employed  CreditScore  DriversLicense  \\\n",
              "685           1.25             0         0            0               0   \n",
              "686           2.00             0         1            2               1   \n",
              "687           2.00             0         1            1               1   \n",
              "688           0.04             0         0            0               0   \n",
              "689           8.29             0         0            0               1   \n",
              "\n",
              "     Citizen  ZipCode  Income  Approved  \n",
              "685  ByBirth      260       0         0  \n",
              "686  ByBirth      200     394         0  \n",
              "687  ByBirth      200       1         0  \n",
              "688  ByBirth      280     750         0  \n",
              "689  ByBirth        0       0         0  "
            ],
            "text/html": [
              "\n",
              "  <div id=\"df-59da39b8-a91f-4411-8806-938d447f347b\">\n",
              "    <div class=\"colab-df-container\">\n",
              "      <div>\n",
              "<style scoped>\n",
              "    .dataframe tbody tr th:only-of-type {\n",
              "        vertical-align: middle;\n",
              "    }\n",
              "\n",
              "    .dataframe tbody tr th {\n",
              "        vertical-align: top;\n",
              "    }\n",
              "\n",
              "    .dataframe thead th {\n",
              "        text-align: right;\n",
              "    }\n",
              "</style>\n",
              "<table border=\"1\" class=\"dataframe\">\n",
              "  <thead>\n",
              "    <tr style=\"text-align: right;\">\n",
              "      <th></th>\n",
              "      <th>Gender</th>\n",
              "      <th>Age</th>\n",
              "      <th>Debt</th>\n",
              "      <th>Married</th>\n",
              "      <th>BankCustomer</th>\n",
              "      <th>Industry</th>\n",
              "      <th>Ethnicity</th>\n",
              "      <th>YearsEmployed</th>\n",
              "      <th>PriorDefault</th>\n",
              "      <th>Employed</th>\n",
              "      <th>CreditScore</th>\n",
              "      <th>DriversLicense</th>\n",
              "      <th>Citizen</th>\n",
              "      <th>ZipCode</th>\n",
              "      <th>Income</th>\n",
              "      <th>Approved</th>\n",
              "    </tr>\n",
              "  </thead>\n",
              "  <tbody>\n",
              "    <tr>\n",
              "      <th>685</th>\n",
              "      <td>1</td>\n",
              "      <td>21.08</td>\n",
              "      <td>10.085</td>\n",
              "      <td>0</td>\n",
              "      <td>0</td>\n",
              "      <td>Education</td>\n",
              "      <td>Black</td>\n",
              "      <td>1.25</td>\n",
              "      <td>0</td>\n",
              "      <td>0</td>\n",
              "      <td>0</td>\n",
              "      <td>0</td>\n",
              "      <td>ByBirth</td>\n",
              "      <td>260</td>\n",
              "      <td>0</td>\n",
              "      <td>0</td>\n",
              "    </tr>\n",
              "    <tr>\n",
              "      <th>686</th>\n",
              "      <td>0</td>\n",
              "      <td>22.67</td>\n",
              "      <td>0.750</td>\n",
              "      <td>1</td>\n",
              "      <td>1</td>\n",
              "      <td>Energy</td>\n",
              "      <td>White</td>\n",
              "      <td>2.00</td>\n",
              "      <td>0</td>\n",
              "      <td>1</td>\n",
              "      <td>2</td>\n",
              "      <td>1</td>\n",
              "      <td>ByBirth</td>\n",
              "      <td>200</td>\n",
              "      <td>394</td>\n",
              "      <td>0</td>\n",
              "    </tr>\n",
              "    <tr>\n",
              "      <th>687</th>\n",
              "      <td>0</td>\n",
              "      <td>25.25</td>\n",
              "      <td>13.500</td>\n",
              "      <td>0</td>\n",
              "      <td>0</td>\n",
              "      <td>Healthcare</td>\n",
              "      <td>Latino</td>\n",
              "      <td>2.00</td>\n",
              "      <td>0</td>\n",
              "      <td>1</td>\n",
              "      <td>1</td>\n",
              "      <td>1</td>\n",
              "      <td>ByBirth</td>\n",
              "      <td>200</td>\n",
              "      <td>1</td>\n",
              "      <td>0</td>\n",
              "    </tr>\n",
              "    <tr>\n",
              "      <th>688</th>\n",
              "      <td>1</td>\n",
              "      <td>17.92</td>\n",
              "      <td>0.205</td>\n",
              "      <td>1</td>\n",
              "      <td>1</td>\n",
              "      <td>ConsumerStaples</td>\n",
              "      <td>White</td>\n",
              "      <td>0.04</td>\n",
              "      <td>0</td>\n",
              "      <td>0</td>\n",
              "      <td>0</td>\n",
              "      <td>0</td>\n",
              "      <td>ByBirth</td>\n",
              "      <td>280</td>\n",
              "      <td>750</td>\n",
              "      <td>0</td>\n",
              "    </tr>\n",
              "    <tr>\n",
              "      <th>689</th>\n",
              "      <td>1</td>\n",
              "      <td>35.00</td>\n",
              "      <td>3.375</td>\n",
              "      <td>1</td>\n",
              "      <td>1</td>\n",
              "      <td>Energy</td>\n",
              "      <td>Black</td>\n",
              "      <td>8.29</td>\n",
              "      <td>0</td>\n",
              "      <td>0</td>\n",
              "      <td>0</td>\n",
              "      <td>1</td>\n",
              "      <td>ByBirth</td>\n",
              "      <td>0</td>\n",
              "      <td>0</td>\n",
              "      <td>0</td>\n",
              "    </tr>\n",
              "  </tbody>\n",
              "</table>\n",
              "</div>\n",
              "      <button class=\"colab-df-convert\" onclick=\"convertToInteractive('df-59da39b8-a91f-4411-8806-938d447f347b')\"\n",
              "              title=\"Convert this dataframe to an interactive table.\"\n",
              "              style=\"display:none;\">\n",
              "        \n",
              "  <svg xmlns=\"http://www.w3.org/2000/svg\" height=\"24px\"viewBox=\"0 0 24 24\"\n",
              "       width=\"24px\">\n",
              "    <path d=\"M0 0h24v24H0V0z\" fill=\"none\"/>\n",
              "    <path d=\"M18.56 5.44l.94 2.06.94-2.06 2.06-.94-2.06-.94-.94-2.06-.94 2.06-2.06.94zm-11 1L8.5 8.5l.94-2.06 2.06-.94-2.06-.94L8.5 2.5l-.94 2.06-2.06.94zm10 10l.94 2.06.94-2.06 2.06-.94-2.06-.94-.94-2.06-.94 2.06-2.06.94z\"/><path d=\"M17.41 7.96l-1.37-1.37c-.4-.4-.92-.59-1.43-.59-.52 0-1.04.2-1.43.59L10.3 9.45l-7.72 7.72c-.78.78-.78 2.05 0 2.83L4 21.41c.39.39.9.59 1.41.59.51 0 1.02-.2 1.41-.59l7.78-7.78 2.81-2.81c.8-.78.8-2.07 0-2.86zM5.41 20L4 18.59l7.72-7.72 1.47 1.35L5.41 20z\"/>\n",
              "  </svg>\n",
              "      </button>\n",
              "      \n",
              "  <style>\n",
              "    .colab-df-container {\n",
              "      display:flex;\n",
              "      flex-wrap:wrap;\n",
              "      gap: 12px;\n",
              "    }\n",
              "\n",
              "    .colab-df-convert {\n",
              "      background-color: #E8F0FE;\n",
              "      border: none;\n",
              "      border-radius: 50%;\n",
              "      cursor: pointer;\n",
              "      display: none;\n",
              "      fill: #1967D2;\n",
              "      height: 32px;\n",
              "      padding: 0 0 0 0;\n",
              "      width: 32px;\n",
              "    }\n",
              "\n",
              "    .colab-df-convert:hover {\n",
              "      background-color: #E2EBFA;\n",
              "      box-shadow: 0px 1px 2px rgba(60, 64, 67, 0.3), 0px 1px 3px 1px rgba(60, 64, 67, 0.15);\n",
              "      fill: #174EA6;\n",
              "    }\n",
              "\n",
              "    [theme=dark] .colab-df-convert {\n",
              "      background-color: #3B4455;\n",
              "      fill: #D2E3FC;\n",
              "    }\n",
              "\n",
              "    [theme=dark] .colab-df-convert:hover {\n",
              "      background-color: #434B5C;\n",
              "      box-shadow: 0px 1px 3px 1px rgba(0, 0, 0, 0.15);\n",
              "      filter: drop-shadow(0px 1px 2px rgba(0, 0, 0, 0.3));\n",
              "      fill: #FFFFFF;\n",
              "    }\n",
              "  </style>\n",
              "\n",
              "      <script>\n",
              "        const buttonEl =\n",
              "          document.querySelector('#df-59da39b8-a91f-4411-8806-938d447f347b button.colab-df-convert');\n",
              "        buttonEl.style.display =\n",
              "          google.colab.kernel.accessAllowed ? 'block' : 'none';\n",
              "\n",
              "        async function convertToInteractive(key) {\n",
              "          const element = document.querySelector('#df-59da39b8-a91f-4411-8806-938d447f347b');\n",
              "          const dataTable =\n",
              "            await google.colab.kernel.invokeFunction('convertToInteractive',\n",
              "                                                     [key], {});\n",
              "          if (!dataTable) return;\n",
              "\n",
              "          const docLinkHtml = 'Like what you see? Visit the ' +\n",
              "            '<a target=\"_blank\" href=https://colab.research.google.com/notebooks/data_table.ipynb>data table notebook</a>'\n",
              "            + ' to learn more about interactive tables.';\n",
              "          element.innerHTML = '';\n",
              "          dataTable['output_type'] = 'display_data';\n",
              "          await google.colab.output.renderOutput(dataTable, element);\n",
              "          const docLink = document.createElement('div');\n",
              "          docLink.innerHTML = docLinkHtml;\n",
              "          element.appendChild(docLink);\n",
              "        }\n",
              "      </script>\n",
              "    </div>\n",
              "  </div>\n",
              "  "
            ]
          },
          "metadata": {},
          "execution_count": 230
        }
      ]
    },
    {
      "cell_type": "code",
      "source": [
        "df.shape"
      ],
      "metadata": {
        "colab": {
          "base_uri": "https://localhost:8080/"
        },
        "id": "zSHfA1L-xPHt",
        "outputId": "0114c37c-9c77-4c12-dc9e-11fefbce2057"
      },
      "execution_count": 231,
      "outputs": [
        {
          "output_type": "execute_result",
          "data": {
            "text/plain": [
              "(690, 16)"
            ]
          },
          "metadata": {},
          "execution_count": 231
        }
      ]
    },
    {
      "cell_type": "markdown",
      "source": [
        "####A.4.2 Mapping e indexación de filas"
      ],
      "metadata": {
        "id": "Ehlj4J7VMNJT"
      }
    },
    {
      "cell_type": "code",
      "source": [
        "df.columns"
      ],
      "metadata": {
        "colab": {
          "base_uri": "https://localhost:8080/"
        },
        "id": "AO3A9bPdMWpu",
        "outputId": "c0a8c952-db13-441c-ffee-8dae1ce7f521"
      },
      "execution_count": 232,
      "outputs": [
        {
          "output_type": "execute_result",
          "data": {
            "text/plain": [
              "Index(['Gender', 'Age', 'Debt', 'Married', 'BankCustomer', 'Industry',\n",
              "       'Ethnicity', 'YearsEmployed', 'PriorDefault', 'Employed', 'CreditScore',\n",
              "       'DriversLicense', 'Citizen', 'ZipCode', 'Income', 'Approved'],\n",
              "      dtype='object')"
            ]
          },
          "metadata": {},
          "execution_count": 232
        }
      ]
    },
    {
      "cell_type": "markdown",
      "source": [
        "Observamos las columnas y notamos que estás no tienen el formato `snake_case`, por lo que realizamos mapping."
      ],
      "metadata": {
        "id": "uw21mAs8aDxL"
      }
    },
    {
      "cell_type": "code",
      "source": [
        "df = df.rename({\"Gender\": \"gender\",\n",
        "            \"Age\": \"age\",\n",
        "            \"Debt\": \"debt\",\n",
        "            \"Married\": \"married\",\n",
        "            \"BankCustomer\": \"bank_customer\",\n",
        "            \"Industry\": \"industry\",\n",
        "            \"Ethnicity\": \"ethnicity\",\n",
        "            \"YearsEmployed\": \"years_employed\",\n",
        "            \"PriorDefault\": \"prior_default\",\n",
        "            \"Employed\": \"employed\",\n",
        "            \"CreditScore\": \"credit_score\",\n",
        "            \"DriversLicense\": \"driver_license\",\n",
        "            \"Citizen\": \"citizen\",\n",
        "            \"ZipCode\": \"zip_code\",\n",
        "            \"Income\": \"income\",\n",
        "            \"Approved\": \"approved\"},\n",
        "            axis = 1)\n",
        "\n",
        "df.head()"
      ],
      "metadata": {
        "colab": {
          "base_uri": "https://localhost:8080/",
          "height": 206
        },
        "id": "iuiLStBQMkne",
        "outputId": "8d4b5d9b-8d0a-40d6-8a93-37af69fc1300"
      },
      "execution_count": 233,
      "outputs": [
        {
          "output_type": "execute_result",
          "data": {
            "text/plain": [
              "   gender    age   debt  married  bank_customer     industry ethnicity  \\\n",
              "0       1  30.83  0.000        1              1  Industrials     White   \n",
              "1       0  58.67  4.460        1              1    Materials     Black   \n",
              "2       0  24.50  0.500        1              1    Materials     Black   \n",
              "3       1  27.83  1.540        1              1  Industrials     White   \n",
              "4       1  20.17  5.625        1              1  Industrials     White   \n",
              "\n",
              "   years_employed  prior_default  employed  credit_score  driver_license  \\\n",
              "0            1.25              1         1             1               0   \n",
              "1            3.04              1         1             6               0   \n",
              "2            1.50              1         0             0               0   \n",
              "3            3.75              1         1             5               1   \n",
              "4            1.71              1         0             0               0   \n",
              "\n",
              "        citizen  zip_code  income  approved  \n",
              "0       ByBirth       202       0         1  \n",
              "1       ByBirth        43     560         1  \n",
              "2       ByBirth       280     824         1  \n",
              "3       ByBirth       100       3         1  \n",
              "4  ByOtherMeans       120       0         1  "
            ],
            "text/html": [
              "\n",
              "  <div id=\"df-8058f404-e168-4c50-af01-1715a73b0a3c\">\n",
              "    <div class=\"colab-df-container\">\n",
              "      <div>\n",
              "<style scoped>\n",
              "    .dataframe tbody tr th:only-of-type {\n",
              "        vertical-align: middle;\n",
              "    }\n",
              "\n",
              "    .dataframe tbody tr th {\n",
              "        vertical-align: top;\n",
              "    }\n",
              "\n",
              "    .dataframe thead th {\n",
              "        text-align: right;\n",
              "    }\n",
              "</style>\n",
              "<table border=\"1\" class=\"dataframe\">\n",
              "  <thead>\n",
              "    <tr style=\"text-align: right;\">\n",
              "      <th></th>\n",
              "      <th>gender</th>\n",
              "      <th>age</th>\n",
              "      <th>debt</th>\n",
              "      <th>married</th>\n",
              "      <th>bank_customer</th>\n",
              "      <th>industry</th>\n",
              "      <th>ethnicity</th>\n",
              "      <th>years_employed</th>\n",
              "      <th>prior_default</th>\n",
              "      <th>employed</th>\n",
              "      <th>credit_score</th>\n",
              "      <th>driver_license</th>\n",
              "      <th>citizen</th>\n",
              "      <th>zip_code</th>\n",
              "      <th>income</th>\n",
              "      <th>approved</th>\n",
              "    </tr>\n",
              "  </thead>\n",
              "  <tbody>\n",
              "    <tr>\n",
              "      <th>0</th>\n",
              "      <td>1</td>\n",
              "      <td>30.83</td>\n",
              "      <td>0.000</td>\n",
              "      <td>1</td>\n",
              "      <td>1</td>\n",
              "      <td>Industrials</td>\n",
              "      <td>White</td>\n",
              "      <td>1.25</td>\n",
              "      <td>1</td>\n",
              "      <td>1</td>\n",
              "      <td>1</td>\n",
              "      <td>0</td>\n",
              "      <td>ByBirth</td>\n",
              "      <td>202</td>\n",
              "      <td>0</td>\n",
              "      <td>1</td>\n",
              "    </tr>\n",
              "    <tr>\n",
              "      <th>1</th>\n",
              "      <td>0</td>\n",
              "      <td>58.67</td>\n",
              "      <td>4.460</td>\n",
              "      <td>1</td>\n",
              "      <td>1</td>\n",
              "      <td>Materials</td>\n",
              "      <td>Black</td>\n",
              "      <td>3.04</td>\n",
              "      <td>1</td>\n",
              "      <td>1</td>\n",
              "      <td>6</td>\n",
              "      <td>0</td>\n",
              "      <td>ByBirth</td>\n",
              "      <td>43</td>\n",
              "      <td>560</td>\n",
              "      <td>1</td>\n",
              "    </tr>\n",
              "    <tr>\n",
              "      <th>2</th>\n",
              "      <td>0</td>\n",
              "      <td>24.50</td>\n",
              "      <td>0.500</td>\n",
              "      <td>1</td>\n",
              "      <td>1</td>\n",
              "      <td>Materials</td>\n",
              "      <td>Black</td>\n",
              "      <td>1.50</td>\n",
              "      <td>1</td>\n",
              "      <td>0</td>\n",
              "      <td>0</td>\n",
              "      <td>0</td>\n",
              "      <td>ByBirth</td>\n",
              "      <td>280</td>\n",
              "      <td>824</td>\n",
              "      <td>1</td>\n",
              "    </tr>\n",
              "    <tr>\n",
              "      <th>3</th>\n",
              "      <td>1</td>\n",
              "      <td>27.83</td>\n",
              "      <td>1.540</td>\n",
              "      <td>1</td>\n",
              "      <td>1</td>\n",
              "      <td>Industrials</td>\n",
              "      <td>White</td>\n",
              "      <td>3.75</td>\n",
              "      <td>1</td>\n",
              "      <td>1</td>\n",
              "      <td>5</td>\n",
              "      <td>1</td>\n",
              "      <td>ByBirth</td>\n",
              "      <td>100</td>\n",
              "      <td>3</td>\n",
              "      <td>1</td>\n",
              "    </tr>\n",
              "    <tr>\n",
              "      <th>4</th>\n",
              "      <td>1</td>\n",
              "      <td>20.17</td>\n",
              "      <td>5.625</td>\n",
              "      <td>1</td>\n",
              "      <td>1</td>\n",
              "      <td>Industrials</td>\n",
              "      <td>White</td>\n",
              "      <td>1.71</td>\n",
              "      <td>1</td>\n",
              "      <td>0</td>\n",
              "      <td>0</td>\n",
              "      <td>0</td>\n",
              "      <td>ByOtherMeans</td>\n",
              "      <td>120</td>\n",
              "      <td>0</td>\n",
              "      <td>1</td>\n",
              "    </tr>\n",
              "  </tbody>\n",
              "</table>\n",
              "</div>\n",
              "      <button class=\"colab-df-convert\" onclick=\"convertToInteractive('df-8058f404-e168-4c50-af01-1715a73b0a3c')\"\n",
              "              title=\"Convert this dataframe to an interactive table.\"\n",
              "              style=\"display:none;\">\n",
              "        \n",
              "  <svg xmlns=\"http://www.w3.org/2000/svg\" height=\"24px\"viewBox=\"0 0 24 24\"\n",
              "       width=\"24px\">\n",
              "    <path d=\"M0 0h24v24H0V0z\" fill=\"none\"/>\n",
              "    <path d=\"M18.56 5.44l.94 2.06.94-2.06 2.06-.94-2.06-.94-.94-2.06-.94 2.06-2.06.94zm-11 1L8.5 8.5l.94-2.06 2.06-.94-2.06-.94L8.5 2.5l-.94 2.06-2.06.94zm10 10l.94 2.06.94-2.06 2.06-.94-2.06-.94-.94-2.06-.94 2.06-2.06.94z\"/><path d=\"M17.41 7.96l-1.37-1.37c-.4-.4-.92-.59-1.43-.59-.52 0-1.04.2-1.43.59L10.3 9.45l-7.72 7.72c-.78.78-.78 2.05 0 2.83L4 21.41c.39.39.9.59 1.41.59.51 0 1.02-.2 1.41-.59l7.78-7.78 2.81-2.81c.8-.78.8-2.07 0-2.86zM5.41 20L4 18.59l7.72-7.72 1.47 1.35L5.41 20z\"/>\n",
              "  </svg>\n",
              "      </button>\n",
              "      \n",
              "  <style>\n",
              "    .colab-df-container {\n",
              "      display:flex;\n",
              "      flex-wrap:wrap;\n",
              "      gap: 12px;\n",
              "    }\n",
              "\n",
              "    .colab-df-convert {\n",
              "      background-color: #E8F0FE;\n",
              "      border: none;\n",
              "      border-radius: 50%;\n",
              "      cursor: pointer;\n",
              "      display: none;\n",
              "      fill: #1967D2;\n",
              "      height: 32px;\n",
              "      padding: 0 0 0 0;\n",
              "      width: 32px;\n",
              "    }\n",
              "\n",
              "    .colab-df-convert:hover {\n",
              "      background-color: #E2EBFA;\n",
              "      box-shadow: 0px 1px 2px rgba(60, 64, 67, 0.3), 0px 1px 3px 1px rgba(60, 64, 67, 0.15);\n",
              "      fill: #174EA6;\n",
              "    }\n",
              "\n",
              "    [theme=dark] .colab-df-convert {\n",
              "      background-color: #3B4455;\n",
              "      fill: #D2E3FC;\n",
              "    }\n",
              "\n",
              "    [theme=dark] .colab-df-convert:hover {\n",
              "      background-color: #434B5C;\n",
              "      box-shadow: 0px 1px 3px 1px rgba(0, 0, 0, 0.15);\n",
              "      filter: drop-shadow(0px 1px 2px rgba(0, 0, 0, 0.3));\n",
              "      fill: #FFFFFF;\n",
              "    }\n",
              "  </style>\n",
              "\n",
              "      <script>\n",
              "        const buttonEl =\n",
              "          document.querySelector('#df-8058f404-e168-4c50-af01-1715a73b0a3c button.colab-df-convert');\n",
              "        buttonEl.style.display =\n",
              "          google.colab.kernel.accessAllowed ? 'block' : 'none';\n",
              "\n",
              "        async function convertToInteractive(key) {\n",
              "          const element = document.querySelector('#df-8058f404-e168-4c50-af01-1715a73b0a3c');\n",
              "          const dataTable =\n",
              "            await google.colab.kernel.invokeFunction('convertToInteractive',\n",
              "                                                     [key], {});\n",
              "          if (!dataTable) return;\n",
              "\n",
              "          const docLinkHtml = 'Like what you see? Visit the ' +\n",
              "            '<a target=\"_blank\" href=https://colab.research.google.com/notebooks/data_table.ipynb>data table notebook</a>'\n",
              "            + ' to learn more about interactive tables.';\n",
              "          element.innerHTML = '';\n",
              "          dataTable['output_type'] = 'display_data';\n",
              "          await google.colab.output.renderOutput(dataTable, element);\n",
              "          const docLink = document.createElement('div');\n",
              "          docLink.innerHTML = docLinkHtml;\n",
              "          element.appendChild(docLink);\n",
              "        }\n",
              "      </script>\n",
              "    </div>\n",
              "  </div>\n",
              "  "
            ]
          },
          "metadata": {},
          "execution_count": 233
        }
      ]
    },
    {
      "cell_type": "markdown",
      "source": [
        "####A.4.3 NaNs"
      ],
      "metadata": {
        "id": "f5QFHcxSGqNP"
      }
    },
    {
      "cell_type": "markdown",
      "source": [
        "Buscamos nans con la función `.isna()`."
      ],
      "metadata": {
        "id": "6QyQN9hXdV6D"
      }
    },
    {
      "cell_type": "code",
      "source": [
        "df.isna().sum(axis=0)"
      ],
      "metadata": {
        "colab": {
          "base_uri": "https://localhost:8080/"
        },
        "id": "8PNfAe22F4d-",
        "outputId": "dd58799c-ada7-4de9-8b4d-60195ccd7a62"
      },
      "execution_count": 234,
      "outputs": [
        {
          "output_type": "execute_result",
          "data": {
            "text/plain": [
              "gender            0\n",
              "age               0\n",
              "debt              0\n",
              "married           0\n",
              "bank_customer     0\n",
              "industry          0\n",
              "ethnicity         0\n",
              "years_employed    0\n",
              "prior_default     0\n",
              "employed          0\n",
              "credit_score      0\n",
              "driver_license    0\n",
              "citizen           0\n",
              "zip_code          0\n",
              "income            0\n",
              "approved          0\n",
              "dtype: int64"
            ]
          },
          "metadata": {},
          "execution_count": 234
        }
      ]
    },
    {
      "cell_type": "markdown",
      "source": [
        "Nuestros datos están **limpios**."
      ],
      "metadata": {
        "id": "tfqoB8GhdkBi"
      }
    },
    {
      "cell_type": "markdown",
      "source": [
        "####A.4.4 Tipos de datos"
      ],
      "metadata": {
        "id": "_ElRPg2pGmdT"
      }
    },
    {
      "cell_type": "markdown",
      "source": [
        "Verificamos tipos de datos con `.dtypes`."
      ],
      "metadata": {
        "id": "-XSzh8ONdqty"
      }
    },
    {
      "cell_type": "code",
      "source": [
        "df.dtypes"
      ],
      "metadata": {
        "colab": {
          "base_uri": "https://localhost:8080/"
        },
        "id": "eC5Y3kYk5khh",
        "outputId": "c42f74ad-6490-4d5f-c0f0-7a21d2f0a123"
      },
      "execution_count": 235,
      "outputs": [
        {
          "output_type": "execute_result",
          "data": {
            "text/plain": [
              "gender              int64\n",
              "age               float64\n",
              "debt              float64\n",
              "married             int64\n",
              "bank_customer       int64\n",
              "industry           object\n",
              "ethnicity          object\n",
              "years_employed    float64\n",
              "prior_default       int64\n",
              "employed            int64\n",
              "credit_score        int64\n",
              "driver_license      int64\n",
              "citizen            object\n",
              "zip_code            int64\n",
              "income              int64\n",
              "approved            int64\n",
              "dtype: object"
            ]
          },
          "metadata": {},
          "execution_count": 235
        }
      ]
    },
    {
      "cell_type": "markdown",
      "source": [
        "Nuestros datos están correctamente tipeados y **listos para usarse**."
      ],
      "metadata": {
        "id": "H7qzXA80dvXs"
      }
    },
    {
      "cell_type": "markdown",
      "metadata": {
        "id": "jWWFfDJNLqPD"
      },
      "source": [
        "---\n",
        "##B. Estimados de locación y variabilidad - Postwork 1"
      ]
    },
    {
      "cell_type": "markdown",
      "source": [
        "###B.1 Datos estructurados\n",
        "Visualizamos `.head()` de nuestro dataset nuevamente..."
      ],
      "metadata": {
        "id": "4gwlOHJFeWHR"
      }
    },
    {
      "cell_type": "code",
      "source": [
        "df.head()"
      ],
      "metadata": {
        "colab": {
          "base_uri": "https://localhost:8080/",
          "height": 206
        },
        "id": "J1A4Pap6fx9d",
        "outputId": "aea6d52d-54aa-40e6-f623-f75155b5d2a2"
      },
      "execution_count": 236,
      "outputs": [
        {
          "output_type": "execute_result",
          "data": {
            "text/plain": [
              "   gender    age   debt  married  bank_customer     industry ethnicity  \\\n",
              "0       1  30.83  0.000        1              1  Industrials     White   \n",
              "1       0  58.67  4.460        1              1    Materials     Black   \n",
              "2       0  24.50  0.500        1              1    Materials     Black   \n",
              "3       1  27.83  1.540        1              1  Industrials     White   \n",
              "4       1  20.17  5.625        1              1  Industrials     White   \n",
              "\n",
              "   years_employed  prior_default  employed  credit_score  driver_license  \\\n",
              "0            1.25              1         1             1               0   \n",
              "1            3.04              1         1             6               0   \n",
              "2            1.50              1         0             0               0   \n",
              "3            3.75              1         1             5               1   \n",
              "4            1.71              1         0             0               0   \n",
              "\n",
              "        citizen  zip_code  income  approved  \n",
              "0       ByBirth       202       0         1  \n",
              "1       ByBirth        43     560         1  \n",
              "2       ByBirth       280     824         1  \n",
              "3       ByBirth       100       3         1  \n",
              "4  ByOtherMeans       120       0         1  "
            ],
            "text/html": [
              "\n",
              "  <div id=\"df-09dd1156-08fe-4013-ac22-eea8dac1e4bd\">\n",
              "    <div class=\"colab-df-container\">\n",
              "      <div>\n",
              "<style scoped>\n",
              "    .dataframe tbody tr th:only-of-type {\n",
              "        vertical-align: middle;\n",
              "    }\n",
              "\n",
              "    .dataframe tbody tr th {\n",
              "        vertical-align: top;\n",
              "    }\n",
              "\n",
              "    .dataframe thead th {\n",
              "        text-align: right;\n",
              "    }\n",
              "</style>\n",
              "<table border=\"1\" class=\"dataframe\">\n",
              "  <thead>\n",
              "    <tr style=\"text-align: right;\">\n",
              "      <th></th>\n",
              "      <th>gender</th>\n",
              "      <th>age</th>\n",
              "      <th>debt</th>\n",
              "      <th>married</th>\n",
              "      <th>bank_customer</th>\n",
              "      <th>industry</th>\n",
              "      <th>ethnicity</th>\n",
              "      <th>years_employed</th>\n",
              "      <th>prior_default</th>\n",
              "      <th>employed</th>\n",
              "      <th>credit_score</th>\n",
              "      <th>driver_license</th>\n",
              "      <th>citizen</th>\n",
              "      <th>zip_code</th>\n",
              "      <th>income</th>\n",
              "      <th>approved</th>\n",
              "    </tr>\n",
              "  </thead>\n",
              "  <tbody>\n",
              "    <tr>\n",
              "      <th>0</th>\n",
              "      <td>1</td>\n",
              "      <td>30.83</td>\n",
              "      <td>0.000</td>\n",
              "      <td>1</td>\n",
              "      <td>1</td>\n",
              "      <td>Industrials</td>\n",
              "      <td>White</td>\n",
              "      <td>1.25</td>\n",
              "      <td>1</td>\n",
              "      <td>1</td>\n",
              "      <td>1</td>\n",
              "      <td>0</td>\n",
              "      <td>ByBirth</td>\n",
              "      <td>202</td>\n",
              "      <td>0</td>\n",
              "      <td>1</td>\n",
              "    </tr>\n",
              "    <tr>\n",
              "      <th>1</th>\n",
              "      <td>0</td>\n",
              "      <td>58.67</td>\n",
              "      <td>4.460</td>\n",
              "      <td>1</td>\n",
              "      <td>1</td>\n",
              "      <td>Materials</td>\n",
              "      <td>Black</td>\n",
              "      <td>3.04</td>\n",
              "      <td>1</td>\n",
              "      <td>1</td>\n",
              "      <td>6</td>\n",
              "      <td>0</td>\n",
              "      <td>ByBirth</td>\n",
              "      <td>43</td>\n",
              "      <td>560</td>\n",
              "      <td>1</td>\n",
              "    </tr>\n",
              "    <tr>\n",
              "      <th>2</th>\n",
              "      <td>0</td>\n",
              "      <td>24.50</td>\n",
              "      <td>0.500</td>\n",
              "      <td>1</td>\n",
              "      <td>1</td>\n",
              "      <td>Materials</td>\n",
              "      <td>Black</td>\n",
              "      <td>1.50</td>\n",
              "      <td>1</td>\n",
              "      <td>0</td>\n",
              "      <td>0</td>\n",
              "      <td>0</td>\n",
              "      <td>ByBirth</td>\n",
              "      <td>280</td>\n",
              "      <td>824</td>\n",
              "      <td>1</td>\n",
              "    </tr>\n",
              "    <tr>\n",
              "      <th>3</th>\n",
              "      <td>1</td>\n",
              "      <td>27.83</td>\n",
              "      <td>1.540</td>\n",
              "      <td>1</td>\n",
              "      <td>1</td>\n",
              "      <td>Industrials</td>\n",
              "      <td>White</td>\n",
              "      <td>3.75</td>\n",
              "      <td>1</td>\n",
              "      <td>1</td>\n",
              "      <td>5</td>\n",
              "      <td>1</td>\n",
              "      <td>ByBirth</td>\n",
              "      <td>100</td>\n",
              "      <td>3</td>\n",
              "      <td>1</td>\n",
              "    </tr>\n",
              "    <tr>\n",
              "      <th>4</th>\n",
              "      <td>1</td>\n",
              "      <td>20.17</td>\n",
              "      <td>5.625</td>\n",
              "      <td>1</td>\n",
              "      <td>1</td>\n",
              "      <td>Industrials</td>\n",
              "      <td>White</td>\n",
              "      <td>1.71</td>\n",
              "      <td>1</td>\n",
              "      <td>0</td>\n",
              "      <td>0</td>\n",
              "      <td>0</td>\n",
              "      <td>ByOtherMeans</td>\n",
              "      <td>120</td>\n",
              "      <td>0</td>\n",
              "      <td>1</td>\n",
              "    </tr>\n",
              "  </tbody>\n",
              "</table>\n",
              "</div>\n",
              "      <button class=\"colab-df-convert\" onclick=\"convertToInteractive('df-09dd1156-08fe-4013-ac22-eea8dac1e4bd')\"\n",
              "              title=\"Convert this dataframe to an interactive table.\"\n",
              "              style=\"display:none;\">\n",
              "        \n",
              "  <svg xmlns=\"http://www.w3.org/2000/svg\" height=\"24px\"viewBox=\"0 0 24 24\"\n",
              "       width=\"24px\">\n",
              "    <path d=\"M0 0h24v24H0V0z\" fill=\"none\"/>\n",
              "    <path d=\"M18.56 5.44l.94 2.06.94-2.06 2.06-.94-2.06-.94-.94-2.06-.94 2.06-2.06.94zm-11 1L8.5 8.5l.94-2.06 2.06-.94-2.06-.94L8.5 2.5l-.94 2.06-2.06.94zm10 10l.94 2.06.94-2.06 2.06-.94-2.06-.94-.94-2.06-.94 2.06-2.06.94z\"/><path d=\"M17.41 7.96l-1.37-1.37c-.4-.4-.92-.59-1.43-.59-.52 0-1.04.2-1.43.59L10.3 9.45l-7.72 7.72c-.78.78-.78 2.05 0 2.83L4 21.41c.39.39.9.59 1.41.59.51 0 1.02-.2 1.41-.59l7.78-7.78 2.81-2.81c.8-.78.8-2.07 0-2.86zM5.41 20L4 18.59l7.72-7.72 1.47 1.35L5.41 20z\"/>\n",
              "  </svg>\n",
              "      </button>\n",
              "      \n",
              "  <style>\n",
              "    .colab-df-container {\n",
              "      display:flex;\n",
              "      flex-wrap:wrap;\n",
              "      gap: 12px;\n",
              "    }\n",
              "\n",
              "    .colab-df-convert {\n",
              "      background-color: #E8F0FE;\n",
              "      border: none;\n",
              "      border-radius: 50%;\n",
              "      cursor: pointer;\n",
              "      display: none;\n",
              "      fill: #1967D2;\n",
              "      height: 32px;\n",
              "      padding: 0 0 0 0;\n",
              "      width: 32px;\n",
              "    }\n",
              "\n",
              "    .colab-df-convert:hover {\n",
              "      background-color: #E2EBFA;\n",
              "      box-shadow: 0px 1px 2px rgba(60, 64, 67, 0.3), 0px 1px 3px 1px rgba(60, 64, 67, 0.15);\n",
              "      fill: #174EA6;\n",
              "    }\n",
              "\n",
              "    [theme=dark] .colab-df-convert {\n",
              "      background-color: #3B4455;\n",
              "      fill: #D2E3FC;\n",
              "    }\n",
              "\n",
              "    [theme=dark] .colab-df-convert:hover {\n",
              "      background-color: #434B5C;\n",
              "      box-shadow: 0px 1px 3px 1px rgba(0, 0, 0, 0.15);\n",
              "      filter: drop-shadow(0px 1px 2px rgba(0, 0, 0, 0.3));\n",
              "      fill: #FFFFFF;\n",
              "    }\n",
              "  </style>\n",
              "\n",
              "      <script>\n",
              "        const buttonEl =\n",
              "          document.querySelector('#df-09dd1156-08fe-4013-ac22-eea8dac1e4bd button.colab-df-convert');\n",
              "        buttonEl.style.display =\n",
              "          google.colab.kernel.accessAllowed ? 'block' : 'none';\n",
              "\n",
              "        async function convertToInteractive(key) {\n",
              "          const element = document.querySelector('#df-09dd1156-08fe-4013-ac22-eea8dac1e4bd');\n",
              "          const dataTable =\n",
              "            await google.colab.kernel.invokeFunction('convertToInteractive',\n",
              "                                                     [key], {});\n",
              "          if (!dataTable) return;\n",
              "\n",
              "          const docLinkHtml = 'Like what you see? Visit the ' +\n",
              "            '<a target=\"_blank\" href=https://colab.research.google.com/notebooks/data_table.ipynb>data table notebook</a>'\n",
              "            + ' to learn more about interactive tables.';\n",
              "          element.innerHTML = '';\n",
              "          dataTable['output_type'] = 'display_data';\n",
              "          await google.colab.output.renderOutput(dataTable, element);\n",
              "          const docLink = document.createElement('div');\n",
              "          docLink.innerHTML = docLinkHtml;\n",
              "          element.appendChild(docLink);\n",
              "        }\n",
              "      </script>\n",
              "    </div>\n",
              "  </div>\n",
              "  "
            ]
          },
          "metadata": {},
          "execution_count": 236
        }
      ]
    },
    {
      "cell_type": "markdown",
      "source": [
        "y notamos que contamos tanto con `variables cualitativas` como `variables cuantitativas`."
      ],
      "metadata": {
        "id": "LmzaQtQygDiC"
      }
    },
    {
      "cell_type": "markdown",
      "source": [
        "####B.1.1 Datos cualitativos no binarios\n",
        "\n",
        "Tras analizar e investigar la fuente de nuestro dataset, determinamos que hay dos tipos de datos categóricos (no binarios)...\n",
        "\n",
        "- Aquellos con valores textuales (strings):"
      ],
      "metadata": {
        "id": "R52JaTm-gMxH"
      }
    },
    {
      "cell_type": "code",
      "source": [
        "df[[\"industry\", \"ethnicity\", \"citizen\"]].dtypes"
      ],
      "metadata": {
        "colab": {
          "base_uri": "https://localhost:8080/"
        },
        "id": "CPoYzHTmupDW",
        "outputId": "c3197ceb-fb20-4294-cd5b-d812288d11b9"
      },
      "execution_count": 237,
      "outputs": [
        {
          "output_type": "execute_result",
          "data": {
            "text/plain": [
              "industry     object\n",
              "ethnicity    object\n",
              "citizen      object\n",
              "dtype: object"
            ]
          },
          "metadata": {},
          "execution_count": 237
        }
      ]
    },
    {
      "cell_type": "markdown",
      "source": [
        "- Aquellos con valores numéricos:"
      ],
      "metadata": {
        "id": "NrwuL1XVyldd"
      }
    },
    {
      "cell_type": "code",
      "source": [
        "df[[\"credit_score\", \"zip_code\"]].dtypes"
      ],
      "metadata": {
        "colab": {
          "base_uri": "https://localhost:8080/"
        },
        "id": "V9ldVPi0y90i",
        "outputId": "8601ec16-8a57-4ac5-da44-8357f2ee67d9"
      },
      "execution_count": 238,
      "outputs": [
        {
          "output_type": "execute_result",
          "data": {
            "text/plain": [
              "credit_score    int64\n",
              "zip_code        int64\n",
              "dtype: object"
            ]
          },
          "metadata": {},
          "execution_count": 238
        }
      ]
    },
    {
      "cell_type": "markdown",
      "source": [
        "Para el caso de `zip_code`, sus valores determinan cierta zona geográfica. En cambio, para `credit_score`, sus valores indican el puntaje crediticio obtenido según reportes anteriores a la solicitud de tarjeta de crédito de este dataset. \n",
        "\n",
        "Los bancos (y otras empresas como aquellas de tiendas departamentales) cuentan con su rango de puntaje crediticio que van otorgando a sus clientes según corresponda. Por ende, este último ya tiene un rango establecido desde mucho antes, convirtiéndolo en una variable categórica a pesar de contar con valores numéricos.\n",
        "\n",
        "Sus valores para este dataset son:"
      ],
      "metadata": {
        "id": "45zRxKIc0cBq"
      }
    },
    {
      "cell_type": "code",
      "source": [
        "np.unique(df[\"credit_score\"])"
      ],
      "metadata": {
        "colab": {
          "base_uri": "https://localhost:8080/"
        },
        "id": "em_-Twec04xD",
        "outputId": "7cc7f23a-59b5-453c-bc0f-86966bc7217d"
      },
      "execution_count": 239,
      "outputs": [
        {
          "output_type": "execute_result",
          "data": {
            "text/plain": [
              "array([ 0,  1,  2,  3,  4,  5,  6,  7,  8,  9, 10, 11, 12, 13, 14, 15, 16,\n",
              "       17, 19, 20, 23, 40, 67])"
            ]
          },
          "metadata": {},
          "execution_count": 239
        }
      ]
    },
    {
      "cell_type": "markdown",
      "source": [
        "####B.1.2 Datos cualitativos binarios\n",
        "\n",
        "Solo por la visualización del `.head()`, podemos suponer cuáles de nuestras columnas contienen datos binarios. Sin embargo, lo comprobaremos con la función `np.unique()`."
      ],
      "metadata": {
        "id": "xUpkbe3ppvNH"
      }
    },
    {
      "cell_type": "code",
      "source": [
        "#Columna gender\n",
        "print(f\"Para 'gender':\")\n",
        "print(np.unique(df[\"gender\"]))\n",
        "print(\"\\n\")\n",
        "\n",
        "#Columna married\n",
        "print(f\"Para 'married':\")\n",
        "print(np.unique(df[\"married\"]))\n",
        "print(\"\\n\")\n",
        "\n",
        "#Columna bank_customer\n",
        "print(f\"Para 'bank_customer':\")\n",
        "print(np.unique(df[\"bank_customer\"]))\n",
        "print(\"\\n\")\n",
        "\n",
        "#Columna prior_default\n",
        "print(f\"Para 'prior_default':\")\n",
        "print(np.unique(df[\"prior_default\"]))\n",
        "print(\"\\n\")\n",
        "\n",
        "#Columna employed\n",
        "print(f\"Para 'employed':\")\n",
        "print(np.unique(df[\"employed\"]))\n",
        "print(\"\\n\")\n",
        "\n",
        "#Columna driver_license\n",
        "print(f\"Para 'driver_license':\")\n",
        "print(np.unique(df[\"driver_license\"]))\n",
        "print(\"\\n\")\n",
        "\n",
        "#Columna approved\n",
        "print(f\"Para 'approved':\")\n",
        "print(np.unique(df[\"approved\"]))\n",
        "print(\"\\n\")"
      ],
      "metadata": {
        "colab": {
          "base_uri": "https://localhost:8080/"
        },
        "id": "4hhRsoSdrEoP",
        "outputId": "bdf37749-ec83-4a9e-da0d-bc47e02735f9"
      },
      "execution_count": 240,
      "outputs": [
        {
          "output_type": "stream",
          "name": "stdout",
          "text": [
            "Para 'gender':\n",
            "[0 1]\n",
            "\n",
            "\n",
            "Para 'married':\n",
            "[0 1]\n",
            "\n",
            "\n",
            "Para 'bank_customer':\n",
            "[0 1]\n",
            "\n",
            "\n",
            "Para 'prior_default':\n",
            "[0 1]\n",
            "\n",
            "\n",
            "Para 'employed':\n",
            "[0 1]\n",
            "\n",
            "\n",
            "Para 'driver_license':\n",
            "[0 1]\n",
            "\n",
            "\n",
            "Para 'approved':\n",
            "[0 1]\n",
            "\n",
            "\n"
          ]
        }
      ]
    },
    {
      "cell_type": "markdown",
      "source": [
        "Y efectivamente, todas las columnas que sospechábamos de tipo binario, resultaron serlo."
      ],
      "metadata": {
        "id": "4AB2ioIztj57"
      }
    },
    {
      "cell_type": "markdown",
      "source": [
        "####B.1.3 Datos cuantitativos\n",
        "\n",
        "Nuestros datos cuantitativos son:"
      ],
      "metadata": {
        "id": "h8qhLxLBzhRf"
      }
    },
    {
      "cell_type": "code",
      "source": [
        "df[[\"age\", \"debt\", \"years_employed\", \"income\"]].dtypes"
      ],
      "metadata": {
        "colab": {
          "base_uri": "https://localhost:8080/"
        },
        "id": "IkfcVYHCzrzn",
        "outputId": "e3ecd977-11c9-4459-b17c-eefe96d75c99"
      },
      "execution_count": 241,
      "outputs": [
        {
          "output_type": "execute_result",
          "data": {
            "text/plain": [
              "age               float64\n",
              "debt              float64\n",
              "years_employed    float64\n",
              "income              int64\n",
              "dtype: object"
            ]
          },
          "metadata": {},
          "execution_count": 241
        }
      ]
    },
    {
      "cell_type": "markdown",
      "source": [
        "###B.2 Estimados de locación\n",
        "Con nuestros datos estructurados ya distinguidos, podemos proceder a conocerlos por medio de estadísticos y visualizaciones."
      ],
      "metadata": {
        "id": "ngOvTaru4ECz"
      }
    },
    {
      "cell_type": "markdown",
      "source": [
        "####B.2.1 Datos cuantitativos\n",
        "La mayoría de estimados de locación o medidas de tendencia central se pueden realizar para datos cuantitativos. Así:"
      ],
      "metadata": {
        "id": "oSaQn_vD7Hcr"
      }
    },
    {
      "cell_type": "markdown",
      "source": [
        "#####B.2.1.1 Media\n",
        "Aplicamos `.mean()` a nuestros datos cuantitativos, para obtener el promedio."
      ],
      "metadata": {
        "id": "9V4eufEh79iR"
      }
    },
    {
      "cell_type": "code",
      "source": [
        "#Columna age\n",
        "print(f\"Para columna 'age', la media es de {round(df['age'].mean(), 2)}\")\n",
        "print(\"\\n\")\n",
        "\n",
        "#Columna debt\n",
        "print(f\"Para columna 'debt', la media es de {round(df['debt'].mean(), 2)}\")\n",
        "print(\"\\n\")\n",
        "\n",
        "#Columna years_employed\n",
        "print(f\"Para columna 'years_employed', la media es de {round(df['years_employed'].mean(),2)}\")\n",
        "print(\"\\n\")\n",
        "\n",
        "#Columna age\n",
        "print(f\"Para columna 'income', la media es de {round(df['income'].mean(),2)}\")\n",
        "print(\"\\n\")"
      ],
      "metadata": {
        "colab": {
          "base_uri": "https://localhost:8080/"
        },
        "id": "k08SrSLn7G0c",
        "outputId": "1b4168ed-9940-4146-f9bc-3c060f9a29a7"
      },
      "execution_count": 242,
      "outputs": [
        {
          "output_type": "stream",
          "name": "stdout",
          "text": [
            "Para columna 'age', la media es de 31.51\n",
            "\n",
            "\n",
            "Para columna 'debt', la media es de 4.76\n",
            "\n",
            "\n",
            "Para columna 'years_employed', la media es de 2.22\n",
            "\n",
            "\n",
            "Para columna 'income', la media es de 1017.39\n",
            "\n",
            "\n"
          ]
        }
      ]
    },
    {
      "cell_type": "markdown",
      "source": [
        "#####B.2.1.2 Mediana\n",
        "Aplicamos `.median()` a nuestros datos cuantitativos, para conocer el valor posicionado al centro."
      ],
      "metadata": {
        "id": "FvPDiC_H9lkc"
      }
    },
    {
      "cell_type": "code",
      "source": [
        "#Columna age\n",
        "print(f\"Para columna 'age', la mediana es de {round(df['age'].median(), 2)}\")\n",
        "print(\"\\n\")\n",
        "\n",
        "#Columna debt\n",
        "print(f\"Para columna 'debt', la mediana es de {round(df['debt'].median(), 2)}\")\n",
        "print(\"\\n\")\n",
        "\n",
        "#Columna years_employed\n",
        "print(f\"Para columna 'years_employed', la mediana es de {round(df['years_employed'].median(),2)}\")\n",
        "print(\"\\n\")\n",
        "\n",
        "#Columna age\n",
        "print(f\"Para columna 'income', la mediana es de {round(df['income'].median(),2)}\")\n",
        "print(\"\\n\")"
      ],
      "metadata": {
        "colab": {
          "base_uri": "https://localhost:8080/"
        },
        "id": "wrRDwBQq93Aa",
        "outputId": "44ef45ff-7cfd-4f10-d754-9e816eba02ef"
      },
      "execution_count": 243,
      "outputs": [
        {
          "output_type": "stream",
          "name": "stdout",
          "text": [
            "Para columna 'age', la mediana es de 28.46\n",
            "\n",
            "\n",
            "Para columna 'debt', la mediana es de 2.75\n",
            "\n",
            "\n",
            "Para columna 'years_employed', la mediana es de 1.0\n",
            "\n",
            "\n",
            "Para columna 'income', la mediana es de 5.0\n",
            "\n",
            "\n"
          ]
        }
      ]
    },
    {
      "cell_type": "markdown",
      "source": [
        "Aunque sencillos, estos dos datos ya nos están otorgando información interesante sobre nuestro dataset. Por ejemplo, para las columnas de age, debt y years_employed, entre la mediana y la media no parece haber una distinción tan severa, al menos no a primera vista. No obstante, la diferencia para la columna income es abismal, y puede indicarnos la existencia de datos atípicos."
      ],
      "metadata": {
        "id": "nrtWcIoa_Evf"
      }
    },
    {
      "cell_type": "markdown",
      "source": [
        "#####B.2.1.3 Media truncada\n",
        "[PREGUNTA PARA EL EQUIPO] ¿Creen que sea necesario hacer al menos una media truncada?"
      ],
      "metadata": {
        "id": "dMNAWp8M-Cyc"
      }
    },
    {
      "cell_type": "markdown",
      "source": [
        "#####B.2.1.4 Desviación estándar\n",
        "La desviación estándar nos permitirá identificar qué tan dispersos están nuestros datos. Para ello usamos la función `.std()`."
      ],
      "metadata": {
        "id": "gHN2drkDDc50"
      }
    },
    {
      "cell_type": "code",
      "source": [
        "#Columna age\n",
        "print(f\"Para columna 'age', la desviación estándar es de {round(df['age'].std(), 2)}\")\n",
        "print(\"\\n\")\n",
        "\n",
        "#Columna debt\n",
        "print(f\"Para columna 'debt', la desviación estándar es de {round(df['debt'].std(), 2)}\")\n",
        "print(\"\\n\")\n",
        "\n",
        "#Columna years_employed\n",
        "print(f\"Para columna 'years_employed', la desviación estándar es de {round(df['years_employed'].std(),2)}\")\n",
        "print(\"\\n\")\n",
        "\n",
        "#Columna age\n",
        "print(f\"Para columna 'income', la desviación estándar es de {round(df['income'].std(),2)}\")\n",
        "print(\"\\n\")"
      ],
      "metadata": {
        "colab": {
          "base_uri": "https://localhost:8080/"
        },
        "id": "c39765TaD_h1",
        "outputId": "952fbb8d-77ef-4c98-d006-178fc730099b"
      },
      "execution_count": 244,
      "outputs": [
        {
          "output_type": "stream",
          "name": "stdout",
          "text": [
            "Para columna 'age', la desviación estándar es de 11.86\n",
            "\n",
            "\n",
            "Para columna 'debt', la desviación estándar es de 4.98\n",
            "\n",
            "\n",
            "Para columna 'years_employed', la desviación estándar es de 3.35\n",
            "\n",
            "\n",
            "Para columna 'income', la desviación estándar es de 5210.1\n",
            "\n",
            "\n"
          ]
        }
      ]
    },
    {
      "cell_type": "markdown",
      "source": [
        "Con este nuevo dato, definitivamente notamos que la columna de \"income\" es un caso interesante."
      ],
      "metadata": {
        "id": "XvOUPl-cEd4Y"
      }
    },
    {
      "cell_type": "markdown",
      "source": [
        "#####B.2.1.5 Estadísticos de orden\n",
        "Usando los estadísticos de orden, conoceremos las dimensiones de los valores de nuestros datos, y completaremos nuestra imagen mental de las distribuciones que hemos ido recopilando hasta ahora. Usamos la función `.quantile()`."
      ],
      "metadata": {
        "id": "8rE-VQB1B1f0"
      }
    },
    {
      "cell_type": "markdown",
      "source": [
        "####B.2.2 Datos cualitativos\n",
        "Se utiliza la moda, `statistics.mode()`, para conocer el valor que más se repite de un conjunto de datos categóricos. Así:"
      ],
      "metadata": {
        "id": "0JR3NAD1Gr9W"
      }
    },
    {
      "cell_type": "markdown",
      "source": [
        "#####B.2.2.1 No binarios"
      ],
      "metadata": {
        "id": "8rALHrxJHRq1"
      }
    },
    {
      "cell_type": "code",
      "source": [
        "import statistics\n",
        "print(\"De valor cadena:\")\n",
        "\n",
        "#Columna industry\n",
        "print(f\"Para columna 'industry', la moda es {statistics.mode(df['industry'])}\")\n",
        "print(\"\\n\")\n",
        "\n",
        "#Columna ethnicity\n",
        "print(f\"Para columna 'ethnicity', la moda es {statistics.mode(df['ethnicity'])}\")\n",
        "print(\"\\n\")\n",
        "\n",
        "#Columna citizen\n",
        "print(f\"Para columna 'citizen', la moda es {statistics.mode(df['citizen'])}\")\n",
        "print(\"\\n\")\n",
        "\n",
        "#---------\n",
        "\n",
        "print(\"De valor numérico:\")\n",
        "\n",
        "#Columna credit_score\n",
        "print(f\"Para columna 'credit_score', la moda es de {statistics.mode(df['credit_score'])}\")\n",
        "print(\"\\n\")\n",
        "\n",
        "#Columna zip_code\n",
        "print(f\"Para columna 'zip_code', la moda es de {statistics.mode(df['zip_code'])}\")\n",
        "print(\"\\n\")"
      ],
      "metadata": {
        "colab": {
          "base_uri": "https://localhost:8080/"
        },
        "id": "CI8DFkAdHbwC",
        "outputId": "befcd137-7715-4a3a-bccd-8e2701ff4cc1"
      },
      "execution_count": 245,
      "outputs": [
        {
          "output_type": "stream",
          "name": "stdout",
          "text": [
            "De valor cadena:\n",
            "Para columna 'industry', la moda es Energy\n",
            "\n",
            "\n",
            "Para columna 'ethnicity', la moda es White\n",
            "\n",
            "\n",
            "Para columna 'citizen', la moda es ByBirth\n",
            "\n",
            "\n",
            "De valor numérico:\n",
            "Para columna 'credit_score', la moda es de 0\n",
            "\n",
            "\n",
            "Para columna 'zip_code', la moda es de 0\n",
            "\n",
            "\n"
          ]
        }
      ]
    },
    {
      "cell_type": "markdown",
      "source": [
        "#####B.2.2.2 Binarios"
      ],
      "metadata": {
        "id": "ejTe-TdZHV8_"
      }
    },
    {
      "cell_type": "code",
      "source": [
        "#Columna gender\n",
        "print(f\"Para columna 'gender', la moda es {statistics.mode(df['gender'])}\")\n",
        "print(\"\\n\")\n",
        "\n",
        "#Columna married\n",
        "print(f\"Para columna 'married', la moda es {statistics.mode(df['married'])}\")\n",
        "print(\"\\n\")\n",
        "\n",
        "#Columna bank_customer\n",
        "print(f\"Para columna 'bank_customer', la moda es {statistics.mode(df['bank_customer'])}\")\n",
        "print(\"\\n\")\n",
        "\n",
        "#Columna prior_default\n",
        "print(f\"Para columna 'prior_default', la moda es de {statistics.mode(df['prior_default'])}\")\n",
        "print(\"\\n\")\n",
        "\n",
        "#Columna employed\n",
        "print(f\"Para columna 'employed', la moda es de {statistics.mode(df['employed'])}\")\n",
        "print(\"\\n\")\n",
        "\n",
        "#Columna driver_license\n",
        "print(f\"Para columna 'driver_license', la moda es de {statistics.mode(df['driver_license'])}\")\n",
        "print(\"\\n\")\n",
        "\n",
        "#Columna approved\n",
        "print(f\"Para columna 'approved', la moda es de {statistics.mode(df['approved'])}\")\n",
        "print(\"\\n\")"
      ],
      "metadata": {
        "colab": {
          "base_uri": "https://localhost:8080/"
        },
        "id": "5vSvc7WbHcow",
        "outputId": "e95fa8c5-a48b-465f-ac6f-75809d9ac480"
      },
      "execution_count": 246,
      "outputs": [
        {
          "output_type": "stream",
          "name": "stdout",
          "text": [
            "Para columna 'gender', la moda es 1\n",
            "\n",
            "\n",
            "Para columna 'married', la moda es 1\n",
            "\n",
            "\n",
            "Para columna 'bank_customer', la moda es 1\n",
            "\n",
            "\n",
            "Para columna 'prior_default', la moda es de 1\n",
            "\n",
            "\n",
            "Para columna 'employed', la moda es de 0\n",
            "\n",
            "\n",
            "Para columna 'driver_license', la moda es de 0\n",
            "\n",
            "\n",
            "Para columna 'approved', la moda es de 0\n",
            "\n",
            "\n"
          ]
        }
      ]
    },
    {
      "cell_type": "markdown",
      "metadata": {
        "id": "Q-Fz2dX9Lqr6"
      },
      "source": [
        "---\n",
        "## C. Introducción a visualización de datos: Visualizaciones  - Postwork 2\n"
      ]
    },
    {
      "cell_type": "markdown",
      "source": [
        "* Utiliza boxplots para analizar la distribución de tus variables numéricas. Piensa acerca de cuáles son los valores típicos y atípicos y dónde están concentrados el grueso de tus datos.\n",
        "* Utiliza el Score de Rango Intercuartílico para filtrar tus valores atípicos. Compara tus medianas, medias y desviaciones estándares antes y después de realizar la filtración y ve cuánto cambiaron.\n",
        "* Utiliza tablas de frecuencia e histogramas para observar la distribución de tus variables. Caracteriza cada una de las distribuciones usando los términos que aprendiste durante la sesión. Obtén medidas de asimetría y curtosis para ver qué tan alejadas de la distribución normal están tus variables.\n",
        "* Utiliza gráficas de densidad para comparar una variable numérica que pueda ser segmentada en dos o más categorías. Usa esta técnica para entender mejor cómo están distribuidos tus datos en cada uno de los grupos presentes."
      ],
      "metadata": {
        "id": "2th4BN9Ln76c"
      }
    },
    {
      "cell_type": "code",
      "source": [
        "import seaborn as sns\n",
        "import matplotlib.pyplot as plt"
      ],
      "metadata": {
        "id": "yy7XSuqipJIK"
      },
      "execution_count": 247,
      "outputs": []
    },
    {
      "cell_type": "code",
      "source": [
        "df"
      ],
      "metadata": {
        "colab": {
          "base_uri": "https://localhost:8080/",
          "height": 424
        },
        "id": "hnIbuLAKpw9b",
        "outputId": "b111b59c-4ed8-42db-b2c7-9eca72cd8a60"
      },
      "execution_count": 248,
      "outputs": [
        {
          "output_type": "execute_result",
          "data": {
            "text/plain": [
              "     gender    age    debt  married  bank_customer         industry ethnicity  \\\n",
              "0         1  30.83   0.000        1              1      Industrials     White   \n",
              "1         0  58.67   4.460        1              1        Materials     Black   \n",
              "2         0  24.50   0.500        1              1        Materials     Black   \n",
              "3         1  27.83   1.540        1              1      Industrials     White   \n",
              "4         1  20.17   5.625        1              1      Industrials     White   \n",
              "..      ...    ...     ...      ...            ...              ...       ...   \n",
              "685       1  21.08  10.085        0              0        Education     Black   \n",
              "686       0  22.67   0.750        1              1           Energy     White   \n",
              "687       0  25.25  13.500        0              0       Healthcare    Latino   \n",
              "688       1  17.92   0.205        1              1  ConsumerStaples     White   \n",
              "689       1  35.00   3.375        1              1           Energy     Black   \n",
              "\n",
              "     years_employed  prior_default  employed  credit_score  driver_license  \\\n",
              "0              1.25              1         1             1               0   \n",
              "1              3.04              1         1             6               0   \n",
              "2              1.50              1         0             0               0   \n",
              "3              3.75              1         1             5               1   \n",
              "4              1.71              1         0             0               0   \n",
              "..              ...            ...       ...           ...             ...   \n",
              "685            1.25              0         0             0               0   \n",
              "686            2.00              0         1             2               1   \n",
              "687            2.00              0         1             1               1   \n",
              "688            0.04              0         0             0               0   \n",
              "689            8.29              0         0             0               1   \n",
              "\n",
              "          citizen  zip_code  income  approved  \n",
              "0         ByBirth       202       0         1  \n",
              "1         ByBirth        43     560         1  \n",
              "2         ByBirth       280     824         1  \n",
              "3         ByBirth       100       3         1  \n",
              "4    ByOtherMeans       120       0         1  \n",
              "..            ...       ...     ...       ...  \n",
              "685       ByBirth       260       0         0  \n",
              "686       ByBirth       200     394         0  \n",
              "687       ByBirth       200       1         0  \n",
              "688       ByBirth       280     750         0  \n",
              "689       ByBirth         0       0         0  \n",
              "\n",
              "[690 rows x 16 columns]"
            ],
            "text/html": [
              "\n",
              "  <div id=\"df-42d98882-27c6-4005-881c-6fd5d9d4cb87\">\n",
              "    <div class=\"colab-df-container\">\n",
              "      <div>\n",
              "<style scoped>\n",
              "    .dataframe tbody tr th:only-of-type {\n",
              "        vertical-align: middle;\n",
              "    }\n",
              "\n",
              "    .dataframe tbody tr th {\n",
              "        vertical-align: top;\n",
              "    }\n",
              "\n",
              "    .dataframe thead th {\n",
              "        text-align: right;\n",
              "    }\n",
              "</style>\n",
              "<table border=\"1\" class=\"dataframe\">\n",
              "  <thead>\n",
              "    <tr style=\"text-align: right;\">\n",
              "      <th></th>\n",
              "      <th>gender</th>\n",
              "      <th>age</th>\n",
              "      <th>debt</th>\n",
              "      <th>married</th>\n",
              "      <th>bank_customer</th>\n",
              "      <th>industry</th>\n",
              "      <th>ethnicity</th>\n",
              "      <th>years_employed</th>\n",
              "      <th>prior_default</th>\n",
              "      <th>employed</th>\n",
              "      <th>credit_score</th>\n",
              "      <th>driver_license</th>\n",
              "      <th>citizen</th>\n",
              "      <th>zip_code</th>\n",
              "      <th>income</th>\n",
              "      <th>approved</th>\n",
              "    </tr>\n",
              "  </thead>\n",
              "  <tbody>\n",
              "    <tr>\n",
              "      <th>0</th>\n",
              "      <td>1</td>\n",
              "      <td>30.83</td>\n",
              "      <td>0.000</td>\n",
              "      <td>1</td>\n",
              "      <td>1</td>\n",
              "      <td>Industrials</td>\n",
              "      <td>White</td>\n",
              "      <td>1.25</td>\n",
              "      <td>1</td>\n",
              "      <td>1</td>\n",
              "      <td>1</td>\n",
              "      <td>0</td>\n",
              "      <td>ByBirth</td>\n",
              "      <td>202</td>\n",
              "      <td>0</td>\n",
              "      <td>1</td>\n",
              "    </tr>\n",
              "    <tr>\n",
              "      <th>1</th>\n",
              "      <td>0</td>\n",
              "      <td>58.67</td>\n",
              "      <td>4.460</td>\n",
              "      <td>1</td>\n",
              "      <td>1</td>\n",
              "      <td>Materials</td>\n",
              "      <td>Black</td>\n",
              "      <td>3.04</td>\n",
              "      <td>1</td>\n",
              "      <td>1</td>\n",
              "      <td>6</td>\n",
              "      <td>0</td>\n",
              "      <td>ByBirth</td>\n",
              "      <td>43</td>\n",
              "      <td>560</td>\n",
              "      <td>1</td>\n",
              "    </tr>\n",
              "    <tr>\n",
              "      <th>2</th>\n",
              "      <td>0</td>\n",
              "      <td>24.50</td>\n",
              "      <td>0.500</td>\n",
              "      <td>1</td>\n",
              "      <td>1</td>\n",
              "      <td>Materials</td>\n",
              "      <td>Black</td>\n",
              "      <td>1.50</td>\n",
              "      <td>1</td>\n",
              "      <td>0</td>\n",
              "      <td>0</td>\n",
              "      <td>0</td>\n",
              "      <td>ByBirth</td>\n",
              "      <td>280</td>\n",
              "      <td>824</td>\n",
              "      <td>1</td>\n",
              "    </tr>\n",
              "    <tr>\n",
              "      <th>3</th>\n",
              "      <td>1</td>\n",
              "      <td>27.83</td>\n",
              "      <td>1.540</td>\n",
              "      <td>1</td>\n",
              "      <td>1</td>\n",
              "      <td>Industrials</td>\n",
              "      <td>White</td>\n",
              "      <td>3.75</td>\n",
              "      <td>1</td>\n",
              "      <td>1</td>\n",
              "      <td>5</td>\n",
              "      <td>1</td>\n",
              "      <td>ByBirth</td>\n",
              "      <td>100</td>\n",
              "      <td>3</td>\n",
              "      <td>1</td>\n",
              "    </tr>\n",
              "    <tr>\n",
              "      <th>4</th>\n",
              "      <td>1</td>\n",
              "      <td>20.17</td>\n",
              "      <td>5.625</td>\n",
              "      <td>1</td>\n",
              "      <td>1</td>\n",
              "      <td>Industrials</td>\n",
              "      <td>White</td>\n",
              "      <td>1.71</td>\n",
              "      <td>1</td>\n",
              "      <td>0</td>\n",
              "      <td>0</td>\n",
              "      <td>0</td>\n",
              "      <td>ByOtherMeans</td>\n",
              "      <td>120</td>\n",
              "      <td>0</td>\n",
              "      <td>1</td>\n",
              "    </tr>\n",
              "    <tr>\n",
              "      <th>...</th>\n",
              "      <td>...</td>\n",
              "      <td>...</td>\n",
              "      <td>...</td>\n",
              "      <td>...</td>\n",
              "      <td>...</td>\n",
              "      <td>...</td>\n",
              "      <td>...</td>\n",
              "      <td>...</td>\n",
              "      <td>...</td>\n",
              "      <td>...</td>\n",
              "      <td>...</td>\n",
              "      <td>...</td>\n",
              "      <td>...</td>\n",
              "      <td>...</td>\n",
              "      <td>...</td>\n",
              "      <td>...</td>\n",
              "    </tr>\n",
              "    <tr>\n",
              "      <th>685</th>\n",
              "      <td>1</td>\n",
              "      <td>21.08</td>\n",
              "      <td>10.085</td>\n",
              "      <td>0</td>\n",
              "      <td>0</td>\n",
              "      <td>Education</td>\n",
              "      <td>Black</td>\n",
              "      <td>1.25</td>\n",
              "      <td>0</td>\n",
              "      <td>0</td>\n",
              "      <td>0</td>\n",
              "      <td>0</td>\n",
              "      <td>ByBirth</td>\n",
              "      <td>260</td>\n",
              "      <td>0</td>\n",
              "      <td>0</td>\n",
              "    </tr>\n",
              "    <tr>\n",
              "      <th>686</th>\n",
              "      <td>0</td>\n",
              "      <td>22.67</td>\n",
              "      <td>0.750</td>\n",
              "      <td>1</td>\n",
              "      <td>1</td>\n",
              "      <td>Energy</td>\n",
              "      <td>White</td>\n",
              "      <td>2.00</td>\n",
              "      <td>0</td>\n",
              "      <td>1</td>\n",
              "      <td>2</td>\n",
              "      <td>1</td>\n",
              "      <td>ByBirth</td>\n",
              "      <td>200</td>\n",
              "      <td>394</td>\n",
              "      <td>0</td>\n",
              "    </tr>\n",
              "    <tr>\n",
              "      <th>687</th>\n",
              "      <td>0</td>\n",
              "      <td>25.25</td>\n",
              "      <td>13.500</td>\n",
              "      <td>0</td>\n",
              "      <td>0</td>\n",
              "      <td>Healthcare</td>\n",
              "      <td>Latino</td>\n",
              "      <td>2.00</td>\n",
              "      <td>0</td>\n",
              "      <td>1</td>\n",
              "      <td>1</td>\n",
              "      <td>1</td>\n",
              "      <td>ByBirth</td>\n",
              "      <td>200</td>\n",
              "      <td>1</td>\n",
              "      <td>0</td>\n",
              "    </tr>\n",
              "    <tr>\n",
              "      <th>688</th>\n",
              "      <td>1</td>\n",
              "      <td>17.92</td>\n",
              "      <td>0.205</td>\n",
              "      <td>1</td>\n",
              "      <td>1</td>\n",
              "      <td>ConsumerStaples</td>\n",
              "      <td>White</td>\n",
              "      <td>0.04</td>\n",
              "      <td>0</td>\n",
              "      <td>0</td>\n",
              "      <td>0</td>\n",
              "      <td>0</td>\n",
              "      <td>ByBirth</td>\n",
              "      <td>280</td>\n",
              "      <td>750</td>\n",
              "      <td>0</td>\n",
              "    </tr>\n",
              "    <tr>\n",
              "      <th>689</th>\n",
              "      <td>1</td>\n",
              "      <td>35.00</td>\n",
              "      <td>3.375</td>\n",
              "      <td>1</td>\n",
              "      <td>1</td>\n",
              "      <td>Energy</td>\n",
              "      <td>Black</td>\n",
              "      <td>8.29</td>\n",
              "      <td>0</td>\n",
              "      <td>0</td>\n",
              "      <td>0</td>\n",
              "      <td>1</td>\n",
              "      <td>ByBirth</td>\n",
              "      <td>0</td>\n",
              "      <td>0</td>\n",
              "      <td>0</td>\n",
              "    </tr>\n",
              "  </tbody>\n",
              "</table>\n",
              "<p>690 rows × 16 columns</p>\n",
              "</div>\n",
              "      <button class=\"colab-df-convert\" onclick=\"convertToInteractive('df-42d98882-27c6-4005-881c-6fd5d9d4cb87')\"\n",
              "              title=\"Convert this dataframe to an interactive table.\"\n",
              "              style=\"display:none;\">\n",
              "        \n",
              "  <svg xmlns=\"http://www.w3.org/2000/svg\" height=\"24px\"viewBox=\"0 0 24 24\"\n",
              "       width=\"24px\">\n",
              "    <path d=\"M0 0h24v24H0V0z\" fill=\"none\"/>\n",
              "    <path d=\"M18.56 5.44l.94 2.06.94-2.06 2.06-.94-2.06-.94-.94-2.06-.94 2.06-2.06.94zm-11 1L8.5 8.5l.94-2.06 2.06-.94-2.06-.94L8.5 2.5l-.94 2.06-2.06.94zm10 10l.94 2.06.94-2.06 2.06-.94-2.06-.94-.94-2.06-.94 2.06-2.06.94z\"/><path d=\"M17.41 7.96l-1.37-1.37c-.4-.4-.92-.59-1.43-.59-.52 0-1.04.2-1.43.59L10.3 9.45l-7.72 7.72c-.78.78-.78 2.05 0 2.83L4 21.41c.39.39.9.59 1.41.59.51 0 1.02-.2 1.41-.59l7.78-7.78 2.81-2.81c.8-.78.8-2.07 0-2.86zM5.41 20L4 18.59l7.72-7.72 1.47 1.35L5.41 20z\"/>\n",
              "  </svg>\n",
              "      </button>\n",
              "      \n",
              "  <style>\n",
              "    .colab-df-container {\n",
              "      display:flex;\n",
              "      flex-wrap:wrap;\n",
              "      gap: 12px;\n",
              "    }\n",
              "\n",
              "    .colab-df-convert {\n",
              "      background-color: #E8F0FE;\n",
              "      border: none;\n",
              "      border-radius: 50%;\n",
              "      cursor: pointer;\n",
              "      display: none;\n",
              "      fill: #1967D2;\n",
              "      height: 32px;\n",
              "      padding: 0 0 0 0;\n",
              "      width: 32px;\n",
              "    }\n",
              "\n",
              "    .colab-df-convert:hover {\n",
              "      background-color: #E2EBFA;\n",
              "      box-shadow: 0px 1px 2px rgba(60, 64, 67, 0.3), 0px 1px 3px 1px rgba(60, 64, 67, 0.15);\n",
              "      fill: #174EA6;\n",
              "    }\n",
              "\n",
              "    [theme=dark] .colab-df-convert {\n",
              "      background-color: #3B4455;\n",
              "      fill: #D2E3FC;\n",
              "    }\n",
              "\n",
              "    [theme=dark] .colab-df-convert:hover {\n",
              "      background-color: #434B5C;\n",
              "      box-shadow: 0px 1px 3px 1px rgba(0, 0, 0, 0.15);\n",
              "      filter: drop-shadow(0px 1px 2px rgba(0, 0, 0, 0.3));\n",
              "      fill: #FFFFFF;\n",
              "    }\n",
              "  </style>\n",
              "\n",
              "      <script>\n",
              "        const buttonEl =\n",
              "          document.querySelector('#df-42d98882-27c6-4005-881c-6fd5d9d4cb87 button.colab-df-convert');\n",
              "        buttonEl.style.display =\n",
              "          google.colab.kernel.accessAllowed ? 'block' : 'none';\n",
              "\n",
              "        async function convertToInteractive(key) {\n",
              "          const element = document.querySelector('#df-42d98882-27c6-4005-881c-6fd5d9d4cb87');\n",
              "          const dataTable =\n",
              "            await google.colab.kernel.invokeFunction('convertToInteractive',\n",
              "                                                     [key], {});\n",
              "          if (!dataTable) return;\n",
              "\n",
              "          const docLinkHtml = 'Like what you see? Visit the ' +\n",
              "            '<a target=\"_blank\" href=https://colab.research.google.com/notebooks/data_table.ipynb>data table notebook</a>'\n",
              "            + ' to learn more about interactive tables.';\n",
              "          element.innerHTML = '';\n",
              "          dataTable['output_type'] = 'display_data';\n",
              "          await google.colab.output.renderOutput(dataTable, element);\n",
              "          const docLink = document.createElement('div');\n",
              "          docLink.innerHTML = docLinkHtml;\n",
              "          element.appendChild(docLink);\n",
              "        }\n",
              "      </script>\n",
              "    </div>\n",
              "  </div>\n",
              "  "
            ]
          },
          "metadata": {},
          "execution_count": 248
        }
      ]
    },
    {
      "cell_type": "code",
      "source": [
        "df.dtypes"
      ],
      "metadata": {
        "colab": {
          "base_uri": "https://localhost:8080/"
        },
        "id": "CbRvAFOIp2yW",
        "outputId": "35f4c529-ab82-4044-e57a-437c94927c5c"
      },
      "execution_count": 249,
      "outputs": [
        {
          "output_type": "execute_result",
          "data": {
            "text/plain": [
              "gender              int64\n",
              "age               float64\n",
              "debt              float64\n",
              "married             int64\n",
              "bank_customer       int64\n",
              "industry           object\n",
              "ethnicity          object\n",
              "years_employed    float64\n",
              "prior_default       int64\n",
              "employed            int64\n",
              "credit_score        int64\n",
              "driver_license      int64\n",
              "citizen            object\n",
              "zip_code            int64\n",
              "income              int64\n",
              "approved            int64\n",
              "dtype: object"
            ]
          },
          "metadata": {},
          "execution_count": 249
        }
      ]
    },
    {
      "cell_type": "code",
      "source": [
        "#Establecemos el estilo de la gráfica\n",
        "sns.set_style(\"whitegrid\") \n",
        "\n",
        "#Creamos una función que nos permitirá graficar todas mis boxplots \n",
        "def grafica_boxplots(df_numerico):\n",
        "  tam = df_numerico.shape[1]\n",
        "\n",
        "  fig, axis = plt.subplots(nrows=int(tam/2), ncols=int(tam/2), figsize=(16, 10));\n",
        "  fig.suptitle('Boxplots para variables numéricas')\n",
        "  \n",
        "  ren = col = 0\n",
        "\n",
        "  for (columnName, columnData) in df_numerico.iteritems():\n",
        "    sns.boxplot(x=columnData.values, ax=axis[ren, col])\n",
        "    axis[ren, col].set_title(f'Boxplot para {columnName}')\n",
        "\n",
        "    col += 1\n",
        "\n",
        "    if(col == int(tam/2)):\n",
        "      col = 0\n",
        "      ren += 1"
      ],
      "metadata": {
        "id": "bzK3HAFpqV-N"
      },
      "execution_count": 250,
      "outputs": []
    },
    {
      "cell_type": "code",
      "source": [
        "#Graficamos los boxplots\n",
        "df_numerico = df[[\"age\", \"debt\", \"years_employed\", \"income\"]]\n",
        "\n",
        "grafica_boxplots(df_numerico)"
      ],
      "metadata": {
        "colab": {
          "base_uri": "https://localhost:8080/",
          "height": 663
        },
        "id": "JWww6jGZs7Im",
        "outputId": "1a3e6893-a087-417b-8404-32d21242babf"
      },
      "execution_count": 251,
      "outputs": [
        {
          "output_type": "display_data",
          "data": {
            "text/plain": [
              "<Figure size 1152x720 with 4 Axes>"
            ],
            "image/png": "[encoded data removed]"
          },
          "metadata": {}
        }
      ]
    },
    {
      "cell_type": "code",
      "source": [
        "#Observamos algunas estadísticas descriptivas de nuestros datos\n",
        "describe_var_num = df_numerico.describe()\n",
        "describe_var_num"
      ],
      "metadata": {
        "colab": {
          "base_uri": "https://localhost:8080/",
          "height": 300
        },
        "id": "8wgpLgRRz_7x",
        "outputId": "92998281-05b7-4988-8f93-85e434a3e912"
      },
      "execution_count": 252,
      "outputs": [
        {
          "output_type": "execute_result",
          "data": {
            "text/plain": [
              "              age        debt  years_employed         income\n",
              "count  690.000000  690.000000      690.000000     690.000000\n",
              "mean    31.514116    4.758725        2.223406    1017.385507\n",
              "std     11.860245    4.978163        3.346513    5210.102598\n",
              "min     13.750000    0.000000        0.000000       0.000000\n",
              "25%     22.670000    1.000000        0.165000       0.000000\n",
              "50%     28.460000    2.750000        1.000000       5.000000\n",
              "75%     37.707500    7.207500        2.625000     395.500000\n",
              "max     80.250000   28.000000       28.500000  100000.000000"
            ],
            "text/html": [
              "\n",
              "  <div id=\"df-184c5f44-6d57-4ff2-b3f1-9eaca8d7a624\">\n",
              "    <div class=\"colab-df-container\">\n",
              "      <div>\n",
              "<style scoped>\n",
              "    .dataframe tbody tr th:only-of-type {\n",
              "        vertical-align: middle;\n",
              "    }\n",
              "\n",
              "    .dataframe tbody tr th {\n",
              "        vertical-align: top;\n",
              "    }\n",
              "\n",
              "    .dataframe thead th {\n",
              "        text-align: right;\n",
              "    }\n",
              "</style>\n",
              "<table border=\"1\" class=\"dataframe\">\n",
              "  <thead>\n",
              "    <tr style=\"text-align: right;\">\n",
              "      <th></th>\n",
              "      <th>age</th>\n",
              "      <th>debt</th>\n",
              "      <th>years_employed</th>\n",
              "      <th>income</th>\n",
              "    </tr>\n",
              "  </thead>\n",
              "  <tbody>\n",
              "    <tr>\n",
              "      <th>count</th>\n",
              "      <td>690.000000</td>\n",
              "      <td>690.000000</td>\n",
              "      <td>690.000000</td>\n",
              "      <td>690.000000</td>\n",
              "    </tr>\n",
              "    <tr>\n",
              "      <th>mean</th>\n",
              "      <td>31.514116</td>\n",
              "      <td>4.758725</td>\n",
              "      <td>2.223406</td>\n",
              "      <td>1017.385507</td>\n",
              "    </tr>\n",
              "    <tr>\n",
              "      <th>std</th>\n",
              "      <td>11.860245</td>\n",
              "      <td>4.978163</td>\n",
              "      <td>3.346513</td>\n",
              "      <td>5210.102598</td>\n",
              "    </tr>\n",
              "    <tr>\n",
              "      <th>min</th>\n",
              "      <td>13.750000</td>\n",
              "      <td>0.000000</td>\n",
              "      <td>0.000000</td>\n",
              "      <td>0.000000</td>\n",
              "    </tr>\n",
              "    <tr>\n",
              "      <th>25%</th>\n",
              "      <td>22.670000</td>\n",
              "      <td>1.000000</td>\n",
              "      <td>0.165000</td>\n",
              "      <td>0.000000</td>\n",
              "    </tr>\n",
              "    <tr>\n",
              "      <th>50%</th>\n",
              "      <td>28.460000</td>\n",
              "      <td>2.750000</td>\n",
              "      <td>1.000000</td>\n",
              "      <td>5.000000</td>\n",
              "    </tr>\n",
              "    <tr>\n",
              "      <th>75%</th>\n",
              "      <td>37.707500</td>\n",
              "      <td>7.207500</td>\n",
              "      <td>2.625000</td>\n",
              "      <td>395.500000</td>\n",
              "    </tr>\n",
              "    <tr>\n",
              "      <th>max</th>\n",
              "      <td>80.250000</td>\n",
              "      <td>28.000000</td>\n",
              "      <td>28.500000</td>\n",
              "      <td>100000.000000</td>\n",
              "    </tr>\n",
              "  </tbody>\n",
              "</table>\n",
              "</div>\n",
              "      <button class=\"colab-df-convert\" onclick=\"convertToInteractive('df-184c5f44-6d57-4ff2-b3f1-9eaca8d7a624')\"\n",
              "              title=\"Convert this dataframe to an interactive table.\"\n",
              "              style=\"display:none;\">\n",
              "        \n",
              "  <svg xmlns=\"http://www.w3.org/2000/svg\" height=\"24px\"viewBox=\"0 0 24 24\"\n",
              "       width=\"24px\">\n",
              "    <path d=\"M0 0h24v24H0V0z\" fill=\"none\"/>\n",
              "    <path d=\"M18.56 5.44l.94 2.06.94-2.06 2.06-.94-2.06-.94-.94-2.06-.94 2.06-2.06.94zm-11 1L8.5 8.5l.94-2.06 2.06-.94-2.06-.94L8.5 2.5l-.94 2.06-2.06.94zm10 10l.94 2.06.94-2.06 2.06-.94-2.06-.94-.94-2.06-.94 2.06-2.06.94z\"/><path d=\"M17.41 7.96l-1.37-1.37c-.4-.4-.92-.59-1.43-.59-.52 0-1.04.2-1.43.59L10.3 9.45l-7.72 7.72c-.78.78-.78 2.05 0 2.83L4 21.41c.39.39.9.59 1.41.59.51 0 1.02-.2 1.41-.59l7.78-7.78 2.81-2.81c.8-.78.8-2.07 0-2.86zM5.41 20L4 18.59l7.72-7.72 1.47 1.35L5.41 20z\"/>\n",
              "  </svg>\n",
              "      </button>\n",
              "      \n",
              "  <style>\n",
              "    .colab-df-container {\n",
              "      display:flex;\n",
              "      flex-wrap:wrap;\n",
              "      gap: 12px;\n",
              "    }\n",
              "\n",
              "    .colab-df-convert {\n",
              "      background-color: #E8F0FE;\n",
              "      border: none;\n",
              "      border-radius: 50%;\n",
              "      cursor: pointer;\n",
              "      display: none;\n",
              "      fill: #1967D2;\n",
              "      height: 32px;\n",
              "      padding: 0 0 0 0;\n",
              "      width: 32px;\n",
              "    }\n",
              "\n",
              "    .colab-df-convert:hover {\n",
              "      background-color: #E2EBFA;\n",
              "      box-shadow: 0px 1px 2px rgba(60, 64, 67, 0.3), 0px 1px 3px 1px rgba(60, 64, 67, 0.15);\n",
              "      fill: #174EA6;\n",
              "    }\n",
              "\n",
              "    [theme=dark] .colab-df-convert {\n",
              "      background-color: #3B4455;\n",
              "      fill: #D2E3FC;\n",
              "    }\n",
              "\n",
              "    [theme=dark] .colab-df-convert:hover {\n",
              "      background-color: #434B5C;\n",
              "      box-shadow: 0px 1px 3px 1px rgba(0, 0, 0, 0.15);\n",
              "      filter: drop-shadow(0px 1px 2px rgba(0, 0, 0, 0.3));\n",
              "      fill: #FFFFFF;\n",
              "    }\n",
              "  </style>\n",
              "\n",
              "      <script>\n",
              "        const buttonEl =\n",
              "          document.querySelector('#df-184c5f44-6d57-4ff2-b3f1-9eaca8d7a624 button.colab-df-convert');\n",
              "        buttonEl.style.display =\n",
              "          google.colab.kernel.accessAllowed ? 'block' : 'none';\n",
              "\n",
              "        async function convertToInteractive(key) {\n",
              "          const element = document.querySelector('#df-184c5f44-6d57-4ff2-b3f1-9eaca8d7a624');\n",
              "          const dataTable =\n",
              "            await google.colab.kernel.invokeFunction('convertToInteractive',\n",
              "                                                     [key], {});\n",
              "          if (!dataTable) return;\n",
              "\n",
              "          const docLinkHtml = 'Like what you see? Visit the ' +\n",
              "            '<a target=\"_blank\" href=https://colab.research.google.com/notebooks/data_table.ipynb>data table notebook</a>'\n",
              "            + ' to learn more about interactive tables.';\n",
              "          element.innerHTML = '';\n",
              "          dataTable['output_type'] = 'display_data';\n",
              "          await google.colab.output.renderOutput(dataTable, element);\n",
              "          const docLink = document.createElement('div');\n",
              "          docLink.innerHTML = docLinkHtml;\n",
              "          element.appendChild(docLink);\n",
              "        }\n",
              "      </script>\n",
              "    </div>\n",
              "  </div>\n",
              "  "
            ]
          },
          "metadata": {},
          "execution_count": 252
        }
      ]
    },
    {
      "cell_type": "code",
      "source": [
        "#Filtro de valores atípicos usando el score del rango intercuartílico\n",
        "\n",
        "#Creamos una copia de mi dataframe original\n",
        "df_copy = df.copy()\n",
        "\n",
        "#Creamos una función para no repetir código\n",
        "def filtro_siqr(serie_numerica):\n",
        "  global df_copy\n",
        "\n",
        "  iqr = serie_numerica.quantile(0.75) - serie_numerica.quantile(0.25)\n",
        "  filtro_inferior = serie_numerica > serie_numerica.quantile(0.25) - (iqr * 1.5)\n",
        "  filtro_superior = serie_numerica < serie_numerica.quantile(0.75) + (iqr * 1.5)\n",
        "\n",
        "  df_copy = df_copy[filtro_inferior & filtro_superior]"
      ],
      "metadata": {
        "id": "NhMDzDWt0QbA"
      },
      "execution_count": 253,
      "outputs": []
    },
    {
      "cell_type": "code",
      "source": [
        "#Filtramos \n",
        "df_numerico.apply(filtro_siqr, axis=0);\n",
        "\n",
        "df_copy"
      ],
      "metadata": {
        "colab": {
          "base_uri": "https://localhost:8080/",
          "height": 459
        },
        "id": "5DinjduJ2FX3",
        "outputId": "7a021f8a-62d5-46e0-aa3c-11518f241ff0"
      },
      "execution_count": 254,
      "outputs": [
        {
          "output_type": "stream",
          "name": "stderr",
          "text": [
            "/usr/local/lib/python3.7/dist-packages/ipykernel_launcher.py:14: UserWarning: Boolean Series key will be reindexed to match DataFrame index.\n",
            "  \n"
          ]
        },
        {
          "output_type": "execute_result",
          "data": {
            "text/plain": [
              "     gender    age    debt  married  bank_customer               industry  \\\n",
              "0         1  30.83   0.000        1              1            Industrials   \n",
              "1         0  58.67   4.460        1              1              Materials   \n",
              "2         0  24.50   0.500        1              1              Materials   \n",
              "3         1  27.83   1.540        1              1            Industrials   \n",
              "4         1  20.17   5.625        1              1            Industrials   \n",
              "..      ...    ...     ...      ...            ...                    ...   \n",
              "684       1  40.58   3.290        1              1  CommunicationServices   \n",
              "685       1  21.08  10.085        0              0              Education   \n",
              "686       0  22.67   0.750        1              1                 Energy   \n",
              "687       0  25.25  13.500        0              0             Healthcare   \n",
              "688       1  17.92   0.205        1              1        ConsumerStaples   \n",
              "\n",
              "    ethnicity  years_employed  prior_default  employed  credit_score  \\\n",
              "0       White            1.25              1         1             1   \n",
              "1       Black            3.04              1         1             6   \n",
              "2       Black            1.50              1         0             0   \n",
              "3       White            3.75              1         1             5   \n",
              "4       White            1.71              1         0             0   \n",
              "..        ...             ...            ...       ...           ...   \n",
              "684     White            3.50              0         0             0   \n",
              "685     Black            1.25              0         0             0   \n",
              "686     White            2.00              0         1             2   \n",
              "687    Latino            2.00              0         1             1   \n",
              "688     White            0.04              0         0             0   \n",
              "\n",
              "     driver_license       citizen  zip_code  income  approved  \n",
              "0                 0       ByBirth       202       0         1  \n",
              "1                 0       ByBirth        43     560         1  \n",
              "2                 0       ByBirth       280     824         1  \n",
              "3                 1       ByBirth       100       3         1  \n",
              "4                 0  ByOtherMeans       120       0         1  \n",
              "..              ...           ...       ...     ...       ...  \n",
              "684               1  ByOtherMeans       400       0         0  \n",
              "685               0       ByBirth       260       0         0  \n",
              "686               1       ByBirth       200     394         0  \n",
              "687               1       ByBirth       200       1         0  \n",
              "688               0       ByBirth       280     750         0  \n",
              "\n",
              "[519 rows x 16 columns]"
            ],
            "text/html": [
              "\n",
              "  <div id=\"df-444c16d7-5b87-4168-9dd5-def889c62767\">\n",
              "    <div class=\"colab-df-container\">\n",
              "      <div>\n",
              "<style scoped>\n",
              "    .dataframe tbody tr th:only-of-type {\n",
              "        vertical-align: middle;\n",
              "    }\n",
              "\n",
              "    .dataframe tbody tr th {\n",
              "        vertical-align: top;\n",
              "    }\n",
              "\n",
              "    .dataframe thead th {\n",
              "        text-align: right;\n",
              "    }\n",
              "</style>\n",
              "<table border=\"1\" class=\"dataframe\">\n",
              "  <thead>\n",
              "    <tr style=\"text-align: right;\">\n",
              "      <th></th>\n",
              "      <th>gender</th>\n",
              "      <th>age</th>\n",
              "      <th>debt</th>\n",
              "      <th>married</th>\n",
              "      <th>bank_customer</th>\n",
              "      <th>industry</th>\n",
              "      <th>ethnicity</th>\n",
              "      <th>years_employed</th>\n",
              "      <th>prior_default</th>\n",
              "      <th>employed</th>\n",
              "      <th>credit_score</th>\n",
              "      <th>driver_license</th>\n",
              "      <th>citizen</th>\n",
              "      <th>zip_code</th>\n",
              "      <th>income</th>\n",
              "      <th>approved</th>\n",
              "    </tr>\n",
              "  </thead>\n",
              "  <tbody>\n",
              "    <tr>\n",
              "      <th>0</th>\n",
              "      <td>1</td>\n",
              "      <td>30.83</td>\n",
              "      <td>0.000</td>\n",
              "      <td>1</td>\n",
              "      <td>1</td>\n",
              "      <td>Industrials</td>\n",
              "      <td>White</td>\n",
              "      <td>1.25</td>\n",
              "      <td>1</td>\n",
              "      <td>1</td>\n",
              "      <td>1</td>\n",
              "      <td>0</td>\n",
              "      <td>ByBirth</td>\n",
              "      <td>202</td>\n",
              "      <td>0</td>\n",
              "      <td>1</td>\n",
              "    </tr>\n",
              "    <tr>\n",
              "      <th>1</th>\n",
              "      <td>0</td>\n",
              "      <td>58.67</td>\n",
              "      <td>4.460</td>\n",
              "      <td>1</td>\n",
              "      <td>1</td>\n",
              "      <td>Materials</td>\n",
              "      <td>Black</td>\n",
              "      <td>3.04</td>\n",
              "      <td>1</td>\n",
              "      <td>1</td>\n",
              "      <td>6</td>\n",
              "      <td>0</td>\n",
              "      <td>ByBirth</td>\n",
              "      <td>43</td>\n",
              "      <td>560</td>\n",
              "      <td>1</td>\n",
              "    </tr>\n",
              "    <tr>\n",
              "      <th>2</th>\n",
              "      <td>0</td>\n",
              "      <td>24.50</td>\n",
              "      <td>0.500</td>\n",
              "      <td>1</td>\n",
              "      <td>1</td>\n",
              "      <td>Materials</td>\n",
              "      <td>Black</td>\n",
              "      <td>1.50</td>\n",
              "      <td>1</td>\n",
              "      <td>0</td>\n",
              "      <td>0</td>\n",
              "      <td>0</td>\n",
              "      <td>ByBirth</td>\n",
              "      <td>280</td>\n",
              "      <td>824</td>\n",
              "      <td>1</td>\n",
              "    </tr>\n",
              "    <tr>\n",
              "      <th>3</th>\n",
              "      <td>1</td>\n",
              "      <td>27.83</td>\n",
              "      <td>1.540</td>\n",
              "      <td>1</td>\n",
              "      <td>1</td>\n",
              "      <td>Industrials</td>\n",
              "      <td>White</td>\n",
              "      <td>3.75</td>\n",
              "      <td>1</td>\n",
              "      <td>1</td>\n",
              "      <td>5</td>\n",
              "      <td>1</td>\n",
              "      <td>ByBirth</td>\n",
              "      <td>100</td>\n",
              "      <td>3</td>\n",
              "      <td>1</td>\n",
              "    </tr>\n",
              "    <tr>\n",
              "      <th>4</th>\n",
              "      <td>1</td>\n",
              "      <td>20.17</td>\n",
              "      <td>5.625</td>\n",
              "      <td>1</td>\n",
              "      <td>1</td>\n",
              "      <td>Industrials</td>\n",
              "      <td>White</td>\n",
              "      <td>1.71</td>\n",
              "      <td>1</td>\n",
              "      <td>0</td>\n",
              "      <td>0</td>\n",
              "      <td>0</td>\n",
              "      <td>ByOtherMeans</td>\n",
              "      <td>120</td>\n",
              "      <td>0</td>\n",
              "      <td>1</td>\n",
              "    </tr>\n",
              "    <tr>\n",
              "      <th>...</th>\n",
              "      <td>...</td>\n",
              "      <td>...</td>\n",
              "      <td>...</td>\n",
              "      <td>...</td>\n",
              "      <td>...</td>\n",
              "      <td>...</td>\n",
              "      <td>...</td>\n",
              "      <td>...</td>\n",
              "      <td>...</td>\n",
              "      <td>...</td>\n",
              "      <td>...</td>\n",
              "      <td>...</td>\n",
              "      <td>...</td>\n",
              "      <td>...</td>\n",
              "      <td>...</td>\n",
              "      <td>...</td>\n",
              "    </tr>\n",
              "    <tr>\n",
              "      <th>684</th>\n",
              "      <td>1</td>\n",
              "      <td>40.58</td>\n",
              "      <td>3.290</td>\n",
              "      <td>1</td>\n",
              "      <td>1</td>\n",
              "      <td>CommunicationServices</td>\n",
              "      <td>White</td>\n",
              "      <td>3.50</td>\n",
              "      <td>0</td>\n",
              "      <td>0</td>\n",
              "      <td>0</td>\n",
              "      <td>1</td>\n",
              "      <td>ByOtherMeans</td>\n",
              "      <td>400</td>\n",
              "      <td>0</td>\n",
              "      <td>0</td>\n",
              "    </tr>\n",
              "    <tr>\n",
              "      <th>685</th>\n",
              "      <td>1</td>\n",
              "      <td>21.08</td>\n",
              "      <td>10.085</td>\n",
              "      <td>0</td>\n",
              "      <td>0</td>\n",
              "      <td>Education</td>\n",
              "      <td>Black</td>\n",
              "      <td>1.25</td>\n",
              "      <td>0</td>\n",
              "      <td>0</td>\n",
              "      <td>0</td>\n",
              "      <td>0</td>\n",
              "      <td>ByBirth</td>\n",
              "      <td>260</td>\n",
              "      <td>0</td>\n",
              "      <td>0</td>\n",
              "    </tr>\n",
              "    <tr>\n",
              "      <th>686</th>\n",
              "      <td>0</td>\n",
              "      <td>22.67</td>\n",
              "      <td>0.750</td>\n",
              "      <td>1</td>\n",
              "      <td>1</td>\n",
              "      <td>Energy</td>\n",
              "      <td>White</td>\n",
              "      <td>2.00</td>\n",
              "      <td>0</td>\n",
              "      <td>1</td>\n",
              "      <td>2</td>\n",
              "      <td>1</td>\n",
              "      <td>ByBirth</td>\n",
              "      <td>200</td>\n",
              "      <td>394</td>\n",
              "      <td>0</td>\n",
              "    </tr>\n",
              "    <tr>\n",
              "      <th>687</th>\n",
              "      <td>0</td>\n",
              "      <td>25.25</td>\n",
              "      <td>13.500</td>\n",
              "      <td>0</td>\n",
              "      <td>0</td>\n",
              "      <td>Healthcare</td>\n",
              "      <td>Latino</td>\n",
              "      <td>2.00</td>\n",
              "      <td>0</td>\n",
              "      <td>1</td>\n",
              "      <td>1</td>\n",
              "      <td>1</td>\n",
              "      <td>ByBirth</td>\n",
              "      <td>200</td>\n",
              "      <td>1</td>\n",
              "      <td>0</td>\n",
              "    </tr>\n",
              "    <tr>\n",
              "      <th>688</th>\n",
              "      <td>1</td>\n",
              "      <td>17.92</td>\n",
              "      <td>0.205</td>\n",
              "      <td>1</td>\n",
              "      <td>1</td>\n",
              "      <td>ConsumerStaples</td>\n",
              "      <td>White</td>\n",
              "      <td>0.04</td>\n",
              "      <td>0</td>\n",
              "      <td>0</td>\n",
              "      <td>0</td>\n",
              "      <td>0</td>\n",
              "      <td>ByBirth</td>\n",
              "      <td>280</td>\n",
              "      <td>750</td>\n",
              "      <td>0</td>\n",
              "    </tr>\n",
              "  </tbody>\n",
              "</table>\n",
              "<p>519 rows × 16 columns</p>\n",
              "</div>\n",
              "      <button class=\"colab-df-convert\" onclick=\"convertToInteractive('df-444c16d7-5b87-4168-9dd5-def889c62767')\"\n",
              "              title=\"Convert this dataframe to an interactive table.\"\n",
              "              style=\"display:none;\">\n",
              "        \n",
              "  <svg xmlns=\"http://www.w3.org/2000/svg\" height=\"24px\"viewBox=\"0 0 24 24\"\n",
              "       width=\"24px\">\n",
              "    <path d=\"M0 0h24v24H0V0z\" fill=\"none\"/>\n",
              "    <path d=\"M18.56 5.44l.94 2.06.94-2.06 2.06-.94-2.06-.94-.94-2.06-.94 2.06-2.06.94zm-11 1L8.5 8.5l.94-2.06 2.06-.94-2.06-.94L8.5 2.5l-.94 2.06-2.06.94zm10 10l.94 2.06.94-2.06 2.06-.94-2.06-.94-.94-2.06-.94 2.06-2.06.94z\"/><path d=\"M17.41 7.96l-1.37-1.37c-.4-.4-.92-.59-1.43-.59-.52 0-1.04.2-1.43.59L10.3 9.45l-7.72 7.72c-.78.78-.78 2.05 0 2.83L4 21.41c.39.39.9.59 1.41.59.51 0 1.02-.2 1.41-.59l7.78-7.78 2.81-2.81c.8-.78.8-2.07 0-2.86zM5.41 20L4 18.59l7.72-7.72 1.47 1.35L5.41 20z\"/>\n",
              "  </svg>\n",
              "      </button>\n",
              "      \n",
              "  <style>\n",
              "    .colab-df-container {\n",
              "      display:flex;\n",
              "      flex-wrap:wrap;\n",
              "      gap: 12px;\n",
              "    }\n",
              "\n",
              "    .colab-df-convert {\n",
              "      background-color: #E8F0FE;\n",
              "      border: none;\n",
              "      border-radius: 50%;\n",
              "      cursor: pointer;\n",
              "      display: none;\n",
              "      fill: #1967D2;\n",
              "      height: 32px;\n",
              "      padding: 0 0 0 0;\n",
              "      width: 32px;\n",
              "    }\n",
              "\n",
              "    .colab-df-convert:hover {\n",
              "      background-color: #E2EBFA;\n",
              "      box-shadow: 0px 1px 2px rgba(60, 64, 67, 0.3), 0px 1px 3px 1px rgba(60, 64, 67, 0.15);\n",
              "      fill: #174EA6;\n",
              "    }\n",
              "\n",
              "    [theme=dark] .colab-df-convert {\n",
              "      background-color: #3B4455;\n",
              "      fill: #D2E3FC;\n",
              "    }\n",
              "\n",
              "    [theme=dark] .colab-df-convert:hover {\n",
              "      background-color: #434B5C;\n",
              "      box-shadow: 0px 1px 3px 1px rgba(0, 0, 0, 0.15);\n",
              "      filter: drop-shadow(0px 1px 2px rgba(0, 0, 0, 0.3));\n",
              "      fill: #FFFFFF;\n",
              "    }\n",
              "  </style>\n",
              "\n",
              "      <script>\n",
              "        const buttonEl =\n",
              "          document.querySelector('#df-444c16d7-5b87-4168-9dd5-def889c62767 button.colab-df-convert');\n",
              "        buttonEl.style.display =\n",
              "          google.colab.kernel.accessAllowed ? 'block' : 'none';\n",
              "\n",
              "        async function convertToInteractive(key) {\n",
              "          const element = document.querySelector('#df-444c16d7-5b87-4168-9dd5-def889c62767');\n",
              "          const dataTable =\n",
              "            await google.colab.kernel.invokeFunction('convertToInteractive',\n",
              "                                                     [key], {});\n",
              "          if (!dataTable) return;\n",
              "\n",
              "          const docLinkHtml = 'Like what you see? Visit the ' +\n",
              "            '<a target=\"_blank\" href=https://colab.research.google.com/notebooks/data_table.ipynb>data table notebook</a>'\n",
              "            + ' to learn more about interactive tables.';\n",
              "          element.innerHTML = '';\n",
              "          dataTable['output_type'] = 'display_data';\n",
              "          await google.colab.output.renderOutput(dataTable, element);\n",
              "          const docLink = document.createElement('div');\n",
              "          docLink.innerHTML = docLinkHtml;\n",
              "          element.appendChild(docLink);\n",
              "        }\n",
              "      </script>\n",
              "    </div>\n",
              "  </div>\n",
              "  "
            ]
          },
          "metadata": {},
          "execution_count": 254
        }
      ]
    },
    {
      "cell_type": "code",
      "source": [
        "#Volvemos a graficar nuestras boxplots\n",
        "grafica_boxplots(df_copy[list(df_numerico.columns)])"
      ],
      "metadata": {
        "colab": {
          "base_uri": "https://localhost:8080/",
          "height": 663
        },
        "id": "B0N-Pv7v4h3H",
        "outputId": "7d9c2c43-8898-4765-ff97-f0307020d63d"
      },
      "execution_count": 265,
      "outputs": [
        {
          "output_type": "display_data",
          "data": {
            "text/plain": [
              "<Figure size 1152x720 with 4 Axes>"
            ],
            "image/png": "[encoded data removed]"
          },
          "metadata": {}
        }
      ]
    },
    {
      "cell_type": "code",
      "source": [
        "#Observamos algunas estadísticas descriptivas de nuestros datos luego de haber sido filtrados\n",
        "describe_var_num = df_copy[list(df_numerico.columns)].describe()\n",
        "describe_var_num"
      ],
      "metadata": {
        "colab": {
          "base_uri": "https://localhost:8080/",
          "height": 300
        },
        "id": "M33YUCZT5Lgg",
        "outputId": "71940199-b3dd-4f3a-d818-d9d5672024b3"
      },
      "execution_count": 266,
      "outputs": [
        {
          "output_type": "execute_result",
          "data": {
            "text/plain": [
              "              age        debt  years_employed      income\n",
              "count  519.000000  519.000000      519.000000  519.000000\n",
              "mean    28.931541    3.978950        1.315424  105.319846\n",
              "std      9.415928    4.091696        1.501684  204.876387\n",
              "min     15.170000    0.000000        0.000000    0.000000\n",
              "25%     21.920000    0.832500        0.165000    0.000000\n",
              "50%     26.670000    2.335000        0.750000    1.000000\n",
              "75%     34.125000    5.772500        2.000000  102.500000\n",
              "max     59.670000   16.500000        6.040000  960.000000"
            ],
            "text/html": [
              "\n",
              "  <div id=\"df-1c41fee4-c314-4720-ba11-33c5233de71e\">\n",
              "    <div class=\"colab-df-container\">\n",
              "      <div>\n",
              "<style scoped>\n",
              "    .dataframe tbody tr th:only-of-type {\n",
              "        vertical-align: middle;\n",
              "    }\n",
              "\n",
              "    .dataframe tbody tr th {\n",
              "        vertical-align: top;\n",
              "    }\n",
              "\n",
              "    .dataframe thead th {\n",
              "        text-align: right;\n",
              "    }\n",
              "</style>\n",
              "<table border=\"1\" class=\"dataframe\">\n",
              "  <thead>\n",
              "    <tr style=\"text-align: right;\">\n",
              "      <th></th>\n",
              "      <th>age</th>\n",
              "      <th>debt</th>\n",
              "      <th>years_employed</th>\n",
              "      <th>income</th>\n",
              "    </tr>\n",
              "  </thead>\n",
              "  <tbody>\n",
              "    <tr>\n",
              "      <th>count</th>\n",
              "      <td>519.000000</td>\n",
              "      <td>519.000000</td>\n",
              "      <td>519.000000</td>\n",
              "      <td>519.000000</td>\n",
              "    </tr>\n",
              "    <tr>\n",
              "      <th>mean</th>\n",
              "      <td>28.931541</td>\n",
              "      <td>3.978950</td>\n",
              "      <td>1.315424</td>\n",
              "      <td>105.319846</td>\n",
              "    </tr>\n",
              "    <tr>\n",
              "      <th>std</th>\n",
              "      <td>9.415928</td>\n",
              "      <td>4.091696</td>\n",
              "      <td>1.501684</td>\n",
              "      <td>204.876387</td>\n",
              "    </tr>\n",
              "    <tr>\n",
              "      <th>min</th>\n",
              "      <td>15.170000</td>\n",
              "      <td>0.000000</td>\n",
              "      <td>0.000000</td>\n",
              "      <td>0.000000</td>\n",
              "    </tr>\n",
              "    <tr>\n",
              "      <th>25%</th>\n",
              "      <td>21.920000</td>\n",
              "      <td>0.832500</td>\n",
              "      <td>0.165000</td>\n",
              "      <td>0.000000</td>\n",
              "    </tr>\n",
              "    <tr>\n",
              "      <th>50%</th>\n",
              "      <td>26.670000</td>\n",
              "      <td>2.335000</td>\n",
              "      <td>0.750000</td>\n",
              "      <td>1.000000</td>\n",
              "    </tr>\n",
              "    <tr>\n",
              "      <th>75%</th>\n",
              "      <td>34.125000</td>\n",
              "      <td>5.772500</td>\n",
              "      <td>2.000000</td>\n",
              "      <td>102.500000</td>\n",
              "    </tr>\n",
              "    <tr>\n",
              "      <th>max</th>\n",
              "      <td>59.670000</td>\n",
              "      <td>16.500000</td>\n",
              "      <td>6.040000</td>\n",
              "      <td>960.000000</td>\n",
              "    </tr>\n",
              "  </tbody>\n",
              "</table>\n",
              "</div>\n",
              "      <button class=\"colab-df-convert\" onclick=\"convertToInteractive('df-1c41fee4-c314-4720-ba11-33c5233de71e')\"\n",
              "              title=\"Convert this dataframe to an interactive table.\"\n",
              "              style=\"display:none;\">\n",
              "        \n",
              "  <svg xmlns=\"http://www.w3.org/2000/svg\" height=\"24px\"viewBox=\"0 0 24 24\"\n",
              "       width=\"24px\">\n",
              "    <path d=\"M0 0h24v24H0V0z\" fill=\"none\"/>\n",
              "    <path d=\"M18.56 5.44l.94 2.06.94-2.06 2.06-.94-2.06-.94-.94-2.06-.94 2.06-2.06.94zm-11 1L8.5 8.5l.94-2.06 2.06-.94-2.06-.94L8.5 2.5l-.94 2.06-2.06.94zm10 10l.94 2.06.94-2.06 2.06-.94-2.06-.94-.94-2.06-.94 2.06-2.06.94z\"/><path d=\"M17.41 7.96l-1.37-1.37c-.4-.4-.92-.59-1.43-.59-.52 0-1.04.2-1.43.59L10.3 9.45l-7.72 7.72c-.78.78-.78 2.05 0 2.83L4 21.41c.39.39.9.59 1.41.59.51 0 1.02-.2 1.41-.59l7.78-7.78 2.81-2.81c.8-.78.8-2.07 0-2.86zM5.41 20L4 18.59l7.72-7.72 1.47 1.35L5.41 20z\"/>\n",
              "  </svg>\n",
              "      </button>\n",
              "      \n",
              "  <style>\n",
              "    .colab-df-container {\n",
              "      display:flex;\n",
              "      flex-wrap:wrap;\n",
              "      gap: 12px;\n",
              "    }\n",
              "\n",
              "    .colab-df-convert {\n",
              "      background-color: #E8F0FE;\n",
              "      border: none;\n",
              "      border-radius: 50%;\n",
              "      cursor: pointer;\n",
              "      display: none;\n",
              "      fill: #1967D2;\n",
              "      height: 32px;\n",
              "      padding: 0 0 0 0;\n",
              "      width: 32px;\n",
              "    }\n",
              "\n",
              "    .colab-df-convert:hover {\n",
              "      background-color: #E2EBFA;\n",
              "      box-shadow: 0px 1px 2px rgba(60, 64, 67, 0.3), 0px 1px 3px 1px rgba(60, 64, 67, 0.15);\n",
              "      fill: #174EA6;\n",
              "    }\n",
              "\n",
              "    [theme=dark] .colab-df-convert {\n",
              "      background-color: #3B4455;\n",
              "      fill: #D2E3FC;\n",
              "    }\n",
              "\n",
              "    [theme=dark] .colab-df-convert:hover {\n",
              "      background-color: #434B5C;\n",
              "      box-shadow: 0px 1px 3px 1px rgba(0, 0, 0, 0.15);\n",
              "      filter: drop-shadow(0px 1px 2px rgba(0, 0, 0, 0.3));\n",
              "      fill: #FFFFFF;\n",
              "    }\n",
              "  </style>\n",
              "\n",
              "      <script>\n",
              "        const buttonEl =\n",
              "          document.querySelector('#df-1c41fee4-c314-4720-ba11-33c5233de71e button.colab-df-convert');\n",
              "        buttonEl.style.display =\n",
              "          google.colab.kernel.accessAllowed ? 'block' : 'none';\n",
              "\n",
              "        async function convertToInteractive(key) {\n",
              "          const element = document.querySelector('#df-1c41fee4-c314-4720-ba11-33c5233de71e');\n",
              "          const dataTable =\n",
              "            await google.colab.kernel.invokeFunction('convertToInteractive',\n",
              "                                                     [key], {});\n",
              "          if (!dataTable) return;\n",
              "\n",
              "          const docLinkHtml = 'Like what you see? Visit the ' +\n",
              "            '<a target=\"_blank\" href=https://colab.research.google.com/notebooks/data_table.ipynb>data table notebook</a>'\n",
              "            + ' to learn more about interactive tables.';\n",
              "          element.innerHTML = '';\n",
              "          dataTable['output_type'] = 'display_data';\n",
              "          await google.colab.output.renderOutput(dataTable, element);\n",
              "          const docLink = document.createElement('div');\n",
              "          docLink.innerHTML = docLinkHtml;\n",
              "          element.appendChild(docLink);\n",
              "        }\n",
              "      </script>\n",
              "    </div>\n",
              "  </div>\n",
              "  "
            ]
          },
          "metadata": {},
          "execution_count": 266
        }
      ]
    },
    {
      "cell_type": "code",
      "source": [
        "arr_bins = pd.Series(dtype=int)\n",
        "\n",
        "#Crear función para encontrar los segmentos de mis variables numéricas\n",
        "def obten_segmentos(serie_numerica):\n",
        "  global arr_bins\n",
        "  \n",
        "  #Regla de Sturge\n",
        "  num_bins = int(1 + np.ceil(np.log2(len(serie_numerica))))\n",
        "  arr_bins[serie_numerica.name] = num_bins\n",
        "\n",
        "  print(serie_numerica.groupby(pd.cut(serie_numerica, num_bins)).count())\n",
        "  print('\\n')"
      ],
      "metadata": {
        "id": "9kNhrgQe5RY0"
      },
      "execution_count": 257,
      "outputs": []
    },
    {
      "cell_type": "code",
      "source": [
        "#Generar tablas de frecuencias para las variables numericas \n",
        "df_copy[list(df_numerico.columns)].apply(obten_segmentos, axis=0);"
      ],
      "metadata": {
        "colab": {
          "base_uri": "https://localhost:8080/"
        },
        "id": "VEbknmnZBq_t",
        "outputId": "83ec55e0-2bec-4964-b96c-b5ac23507faa"
      },
      "execution_count": 267,
      "outputs": [
        {
          "output_type": "stream",
          "name": "stdout",
          "text": [
            "age\n",
            "(15.126, 19.215]     62\n",
            "(19.215, 23.261]    119\n",
            "(23.261, 27.306]     87\n",
            "(27.306, 31.352]     78\n",
            "(31.352, 35.397]     60\n",
            "(35.397, 39.443]     36\n",
            "(39.443, 43.488]     34\n",
            "(43.488, 47.534]     15\n",
            "(47.534, 51.579]     11\n",
            "(51.579, 55.625]     10\n",
            "(55.625, 59.67]       7\n",
            "Name: age, dtype: int64\n",
            "\n",
            "\n",
            "debt\n",
            "(-0.0165, 1.5]    204\n",
            "(1.5, 3.0]        103\n",
            "(3.0, 4.5]         53\n",
            "(4.5, 6.0]         35\n",
            "(6.0, 7.5]         20\n",
            "(7.5, 9.0]         13\n",
            "(9.0, 10.5]        33\n",
            "(10.5, 12.0]       27\n",
            "(12.0, 13.5]       18\n",
            "(13.5, 15.0]        8\n",
            "(15.0, 16.5]        5\n",
            "Name: debt, dtype: int64\n",
            "\n",
            "\n",
            "years_employed\n",
            "(-0.00604, 0.549]    245\n",
            "(0.549, 1.098]        65\n",
            "(1.098, 1.647]        52\n",
            "(1.647, 2.196]        38\n",
            "(2.196, 2.745]        34\n",
            "(2.745, 3.295]        23\n",
            "(3.295, 3.844]        16\n",
            "(3.844, 4.393]        11\n",
            "(4.393, 4.942]         8\n",
            "(4.942, 5.491]        14\n",
            "(5.491, 6.04]         13\n",
            "Name: years_employed, dtype: int64\n",
            "\n",
            "\n",
            "income\n",
            "(-0.96, 87.273]       383\n",
            "(87.273, 174.545]      30\n",
            "(174.545, 261.818]     23\n",
            "(261.818, 349.091]     17\n",
            "(349.091, 436.364]     13\n",
            "(436.364, 523.636]     17\n",
            "(523.636, 610.909]     15\n",
            "(610.909, 698.182]      3\n",
            "(698.182, 785.455]      7\n",
            "(785.455, 872.727]      7\n",
            "(872.727, 960.0]        4\n",
            "Name: income, dtype: int64\n",
            "\n",
            "\n"
          ]
        }
      ]
    },
    {
      "cell_type": "code",
      "source": [
        "#Creamos histogramas para cada una de mis variables\n",
        "#Generamos una función para construir mis histogramas\n",
        "def grafica_histogramas(df_numerico):\n",
        "  tam = df_numerico.shape[1]\n",
        "\n",
        "  fig, axis = plt.subplots(nrows=int(tam/2), ncols=int(tam/2), figsize=(12, 10));\n",
        "  fig.suptitle('Histogramas para variables numéricas/cuantitativas')\n",
        "  \n",
        "  ren = col = 0\n",
        "\n",
        "  for (columnName, columnData) in df_numerico.iteritems():\n",
        "    sns.histplot(x=columnData.values, kde=False, bins=arr_bins[columnName], ax=axis[ren, col]);\n",
        "    axis[ren, col].set_title(f'Histograma para {columnName}')\n",
        "\n",
        "    col += 1\n",
        "\n",
        "    if(col == int(tam/2)):\n",
        "      col = 0\n",
        "      ren += 1"
      ],
      "metadata": {
        "id": "QE1XYOKmFPGT"
      },
      "execution_count": 259,
      "outputs": []
    },
    {
      "cell_type": "code",
      "source": [
        "grafica_histogramas(df_copy[list(df_numerico.columns)])"
      ],
      "metadata": {
        "colab": {
          "base_uri": "https://localhost:8080/",
          "height": 663
        },
        "id": "oFmS-3XqFkpv",
        "outputId": "662be3e1-d55e-480a-d1b8-aeba0c503099"
      },
      "execution_count": 268,
      "outputs": [
        {
          "output_type": "display_data",
          "data": {
            "text/plain": [
              "<Figure size 864x720 with 4 Axes>"
            ],
            "image/png": "[encoded data removed]"
          },
          "metadata": {}
        }
      ]
    },
    {
      "cell_type": "code",
      "source": [
        "#Obtener medidas de asimetría y curtosis\n",
        "from scipy import stats\n",
        "from scipy.stats import skew, kurtosis\n",
        "\n",
        "#Generamos función para imprimir asimetría y curtosis de mis datos cuantitativos\n",
        "def asm_cur(serie_numerica):\n",
        "  print(f'Medidas para {serie_numerica.name}')\n",
        "  print(f'Curtosis: {kurtosis(serie_numerica)}')\n",
        "  print(f'Asimetría: {skew(serie_numerica)}\\n')"
      ],
      "metadata": {
        "id": "x5vQgb2NIS_b"
      },
      "execution_count": 261,
      "outputs": []
    },
    {
      "cell_type": "code",
      "source": [
        "df_copy[list(df_numerico.columns)].apply(asm_cur, axis=0);"
      ],
      "metadata": {
        "colab": {
          "base_uri": "https://localhost:8080/"
        },
        "id": "4thjeW1bI93e",
        "outputId": "839f8ff0-8d35-4c6b-80dd-a6374e68f43c"
      },
      "execution_count": 269,
      "outputs": [
        {
          "output_type": "stream",
          "name": "stdout",
          "text": [
            "Medidas para age\n",
            "Curtosis: 0.4711144278586903\n",
            "Asimetría: 0.9709682660972392\n",
            "\n",
            "Medidas para debt\n",
            "Curtosis: 0.17670306257774193\n",
            "Asimetría: 1.1566770605062309\n",
            "\n",
            "Medidas para years_employed\n",
            "Curtosis: 1.0713420354790566\n",
            "Asimetría: 1.3645151515580412\n",
            "\n",
            "Medidas para income\n",
            "Curtosis: 4.076360204419746\n",
            "Asimetría: 2.1896738330259207\n",
            "\n"
          ]
        }
      ]
    },
    {
      "cell_type": "code",
      "source": [
        "#Generamos gráficas de densidad utilizando categorías\n",
        "#Creamos una función que nos permita graficar densidades por categoría apiladas\n",
        "def grafica_densidad_completa(df_completo, columna, categoria):\n",
        "  \n",
        "  fig, axis = plt.subplots(figsize=(12, 10));\n",
        "  sns.kdeplot(df_completo[columna], shade=True, hue=categoria, ax=axis);"
      ],
      "metadata": {
        "id": "ZQD9iddZJcb-"
      },
      "execution_count": 305,
      "outputs": []
    },
    {
      "cell_type": "code",
      "source": [
        "grafica_densidad_completa(df_copy, 'age', df_copy['industry'])"
      ],
      "metadata": {
        "colab": {
          "base_uri": "https://localhost:8080/",
          "height": 606
        },
        "id": "Zx-eilukKxg1",
        "outputId": "dd233cf3-90ad-4850-b1b1-705a0149c39c"
      },
      "execution_count": 306,
      "outputs": [
        {
          "output_type": "display_data",
          "data": {
            "text/plain": [
              "<Figure size 864x720 with 1 Axes>"
            ],
            "image/png": "[encoded data removed]"
          },
          "metadata": {}
        }
      ]
    },
    {
      "cell_type": "code",
      "source": [
        "#Creamos una función que nos permita graficar densidades por categoría separadas\n",
        "def grafica_densidad_individual(df_completo, columna, categoria):\n",
        "  g = sns.FacetGrid(df_completo, col=categoria.name, col_wrap=4);\n",
        "  g.map(sns.kdeplot, columna);"
      ],
      "metadata": {
        "id": "CnVMtPVggL8T"
      },
      "execution_count": 309,
      "outputs": []
    },
    {
      "cell_type": "code",
      "source": [
        "grafica_densidad_individual(df_copy, 'age', df_copy['industry'])"
      ],
      "metadata": {
        "colab": {
          "base_uri": "https://localhost:8080/",
          "height": 873
        },
        "id": "_J2TPMmQgV7G",
        "outputId": "a9270c29-674a-4593-8865-b3e87ab38e2c"
      },
      "execution_count": 308,
      "outputs": [
        {
          "output_type": "display_data",
          "data": {
            "text/plain": [
              "<Figure size 864x864 with 14 Axes>"
            ],
            "image/png": "[encoded data removed]"
          },
          "metadata": {}
        }
      ]
    },
    {
      "cell_type": "markdown",
      "metadata": {
        "id": "5dSFGdPoLrKu"
      },
      "source": [
        "---\n",
        "##D. Exploración de variables categóticas y análisis multivariable - Postwork 3\n"
      ]
    },
    {
      "cell_type": "markdown",
      "source": [
        "---\n",
        "##E. Correlaciones y regresión linear simple - Postwork 4"
      ],
      "metadata": {
        "id": "fUroasGez_GZ"
      }
    },
    {
      "cell_type": "markdown",
      "metadata": {
        "id": "idYDgfBgLrnn"
      },
      "source": [
        "---\n",
        "##F. Distribuciones muestrales y técnicas de evaluación de modelos - Postwork 5\n"
      ]
    },
    {
      "cell_type": "markdown",
      "metadata": {
        "id": "x8er8YldGsfe"
      },
      "source": [
        "---\n",
        "##G. Visualización de datos avanzada - Postwork 6\n"
      ]
    },
    {
      "cell_type": "markdown",
      "metadata": {
        "id": "Z4mWIZq8Lsf3"
      },
      "source": [
        "---\n",
        "##H. Pruebas A/B y procesamiento del lenguaje natural - Postwork 7"
      ]
    },
    {
      "cell_type": "markdown",
      "source": [
        "---\n",
        "##I. Introducción a Machine Learning - Postwork 8"
      ],
      "metadata": {
        "id": "S2twJW_OyltD"
      }
    }
  ],
  "metadata": {
    "colab": {
      "collapsed_sections": [
        "mBDxoUOGn-7f",
        "_moo4ogY9juI",
        "SPlDmPdGGHVh",
        "Ehlj4J7VMNJT",
        "f5QFHcxSGqNP",
        "_ElRPg2pGmdT",
        "jWWFfDJNLqPD",
        "4gwlOHJFeWHR",
        "R52JaTm-gMxH",
        "xUpkbe3ppvNH",
        "h8qhLxLBzhRf",
        "ngOvTaru4ECz",
        "oSaQn_vD7Hcr",
        "9V4eufEh79iR",
        "FvPDiC_H9lkc",
        "gHN2drkDDc50",
        "0JR3NAD1Gr9W",
        "8rALHrxJHRq1",
        "ejTe-TdZHV8_"
      ],
      "provenance": [],
      "include_colab_link": true
    },
    "kernelspec": {
      "display_name": "Python 3 (ipykernel)",
      "language": "python",
      "name": "python3"
    },
    "language_info": {
      "codemirror_mode": {
        "name": "ipython",
        "version": 3
      },
      "file_extension": ".py",
      "mimetype": "text/x-python",
      "name": "python",
      "nbconvert_exporter": "python",
      "pygments_lexer": "ipython3",
      "version": "3.10.4"
    }
  },
  "nbformat": 4,
  "nbformat_minor": 0
}